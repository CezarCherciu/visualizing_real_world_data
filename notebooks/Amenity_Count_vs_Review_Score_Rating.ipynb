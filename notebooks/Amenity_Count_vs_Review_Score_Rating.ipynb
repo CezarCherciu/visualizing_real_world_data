{
 "cells": [
  {
   "cell_type": "code",
   "execution_count": 1,
   "metadata": {},
   "outputs": [],
   "source": [
    "import pandas as pd\n",
    "import numpy as np\n",
    "import matplotlib\n",
    "import matplotlib.pyplot as plt\n",
    "import seaborn as sns"
   ]
  },
  {
   "cell_type": "code",
   "execution_count": 2,
   "metadata": {},
   "outputs": [],
   "source": [
    "df=pd.read_pickle(\"C:/Users/User/1Ironhack/DATA/Visualising_Real_Time_Data_Project/airbnb_listings_price_normalized.pkl\")"
   ]
  },
  {
   "cell_type": "code",
   "execution_count": 3,
   "metadata": {},
   "outputs": [
    {
     "data": {
      "text/html": [
       "<div>\n",
       "<style scoped>\n",
       "    .dataframe tbody tr th:only-of-type {\n",
       "        vertical-align: middle;\n",
       "    }\n",
       "\n",
       "    .dataframe tbody tr th {\n",
       "        vertical-align: top;\n",
       "    }\n",
       "\n",
       "    .dataframe thead th {\n",
       "        text-align: right;\n",
       "    }\n",
       "</style>\n",
       "<table border=\"1\" class=\"dataframe\">\n",
       "  <thead>\n",
       "    <tr style=\"text-align: right;\">\n",
       "      <th></th>\n",
       "      <th>Listing ID</th>\n",
       "      <th>Name</th>\n",
       "      <th>Host ID</th>\n",
       "      <th>Host Name</th>\n",
       "      <th>Host Response Rate</th>\n",
       "      <th>Host Is Superhost</th>\n",
       "      <th>Host total listings count</th>\n",
       "      <th>Country</th>\n",
       "      <th>latitude</th>\n",
       "      <th>longitude</th>\n",
       "      <th>...</th>\n",
       "      <th>Review Scores Accuracy</th>\n",
       "      <th>Review Scores Cleanliness</th>\n",
       "      <th>Review Scores Checkin</th>\n",
       "      <th>Review Scores Communication</th>\n",
       "      <th>Review Scores Location</th>\n",
       "      <th>Review Scores Value</th>\n",
       "      <th>Reviews per month</th>\n",
       "      <th>Amenity_Count</th>\n",
       "      <th>Country_Average</th>\n",
       "      <th>Normalized</th>\n",
       "    </tr>\n",
       "  </thead>\n",
       "  <tbody>\n",
       "    <tr>\n",
       "      <td>0</td>\n",
       "      <td>5534229</td>\n",
       "      <td>A 2 Passi da San Pietro</td>\n",
       "      <td>28697142</td>\n",
       "      <td>Veronica</td>\n",
       "      <td>100.0</td>\n",
       "      <td>False</td>\n",
       "      <td>5.0</td>\n",
       "      <td>Italy</td>\n",
       "      <td>41.895878</td>\n",
       "      <td>12.454430</td>\n",
       "      <td>...</td>\n",
       "      <td>9.0</td>\n",
       "      <td>10.0</td>\n",
       "      <td>8.0</td>\n",
       "      <td>8.0</td>\n",
       "      <td>9.0</td>\n",
       "      <td>9.0</td>\n",
       "      <td>0.08</td>\n",
       "      <td>11</td>\n",
       "      <td>91.322033</td>\n",
       "      <td>0.810319</td>\n",
       "    </tr>\n",
       "    <tr>\n",
       "      <td>1</td>\n",
       "      <td>5903406</td>\n",
       "      <td>cosy small apartment</td>\n",
       "      <td>1853799</td>\n",
       "      <td>Veronika</td>\n",
       "      <td>88.0</td>\n",
       "      <td>False</td>\n",
       "      <td>2.0</td>\n",
       "      <td>Austria</td>\n",
       "      <td>48.246033</td>\n",
       "      <td>16.340743</td>\n",
       "      <td>...</td>\n",
       "      <td>9.0</td>\n",
       "      <td>10.0</td>\n",
       "      <td>10.0</td>\n",
       "      <td>10.0</td>\n",
       "      <td>10.0</td>\n",
       "      <td>8.0</td>\n",
       "      <td>0.27</td>\n",
       "      <td>12</td>\n",
       "      <td>65.071831</td>\n",
       "      <td>0.845220</td>\n",
       "    </tr>\n",
       "    <tr>\n",
       "      <td>2</td>\n",
       "      <td>5203533</td>\n",
       "      <td>Rummelig lejl i hjertet af KBH</td>\n",
       "      <td>24801534</td>\n",
       "      <td>Marianne</td>\n",
       "      <td>100.0</td>\n",
       "      <td>False</td>\n",
       "      <td>1.0</td>\n",
       "      <td>Denmark</td>\n",
       "      <td>55.681579</td>\n",
       "      <td>12.562770</td>\n",
       "      <td>...</td>\n",
       "      <td>10.0</td>\n",
       "      <td>10.0</td>\n",
       "      <td>10.0</td>\n",
       "      <td>10.0</td>\n",
       "      <td>10.0</td>\n",
       "      <td>10.0</td>\n",
       "      <td>0.28</td>\n",
       "      <td>8</td>\n",
       "      <td>599.040734</td>\n",
       "      <td>1.657650</td>\n",
       "    </tr>\n",
       "    <tr>\n",
       "      <td>3</td>\n",
       "      <td>8858475</td>\n",
       "      <td>Modern; spacious and warm; with its own balcony</td>\n",
       "      <td>3000397</td>\n",
       "      <td>Lasse</td>\n",
       "      <td>100.0</td>\n",
       "      <td>True</td>\n",
       "      <td>1.0</td>\n",
       "      <td>Denmark</td>\n",
       "      <td>55.708413</td>\n",
       "      <td>12.596737</td>\n",
       "      <td>...</td>\n",
       "      <td>10.0</td>\n",
       "      <td>10.0</td>\n",
       "      <td>10.0</td>\n",
       "      <td>10.0</td>\n",
       "      <td>9.0</td>\n",
       "      <td>10.0</td>\n",
       "      <td>0.79</td>\n",
       "      <td>23</td>\n",
       "      <td>599.040734</td>\n",
       "      <td>1.163527</td>\n",
       "    </tr>\n",
       "    <tr>\n",
       "      <td>4</td>\n",
       "      <td>4215511</td>\n",
       "      <td>Nice room; Bohemian Cph; N�rrebro</td>\n",
       "      <td>126020</td>\n",
       "      <td>Lea</td>\n",
       "      <td>100.0</td>\n",
       "      <td>True</td>\n",
       "      <td>2.0</td>\n",
       "      <td>Denmark</td>\n",
       "      <td>55.687506</td>\n",
       "      <td>12.558365</td>\n",
       "      <td>...</td>\n",
       "      <td>10.0</td>\n",
       "      <td>10.0</td>\n",
       "      <td>9.0</td>\n",
       "      <td>10.0</td>\n",
       "      <td>10.0</td>\n",
       "      <td>10.0</td>\n",
       "      <td>1.40</td>\n",
       "      <td>10</td>\n",
       "      <td>599.040734</td>\n",
       "      <td>0.707798</td>\n",
       "    </tr>\n",
       "  </tbody>\n",
       "</table>\n",
       "<p>5 rows × 34 columns</p>\n",
       "</div>"
      ],
      "text/plain": [
       "  Listing ID                                             Name   Host ID  \\\n",
       "0    5534229                          A 2 Passi da San Pietro  28697142   \n",
       "1    5903406                             cosy small apartment   1853799   \n",
       "2    5203533                   Rummelig lejl i hjertet af KBH  24801534   \n",
       "3    8858475  Modern; spacious and warm; with its own balcony   3000397   \n",
       "4    4215511                Nice room; Bohemian Cph; N�rrebro    126020   \n",
       "\n",
       "  Host Name  Host Response Rate  Host Is Superhost  Host total listings count  \\\n",
       "0  Veronica               100.0              False                        5.0   \n",
       "1  Veronika                88.0              False                        2.0   \n",
       "2  Marianne               100.0              False                        1.0   \n",
       "3     Lasse               100.0               True                        1.0   \n",
       "4       Lea               100.0               True                        2.0   \n",
       "\n",
       "   Country   latitude  longitude  ... Review Scores Accuracy  \\\n",
       "0    Italy  41.895878  12.454430  ...                    9.0   \n",
       "1  Austria  48.246033  16.340743  ...                    9.0   \n",
       "2  Denmark  55.681579  12.562770  ...                   10.0   \n",
       "3  Denmark  55.708413  12.596737  ...                   10.0   \n",
       "4  Denmark  55.687506  12.558365  ...                   10.0   \n",
       "\n",
       "  Review Scores Cleanliness  Review Scores Checkin  \\\n",
       "0                      10.0                    8.0   \n",
       "1                      10.0                   10.0   \n",
       "2                      10.0                   10.0   \n",
       "3                      10.0                   10.0   \n",
       "4                      10.0                    9.0   \n",
       "\n",
       "   Review Scores Communication  Review Scores Location Review Scores Value  \\\n",
       "0                          8.0                     9.0                 9.0   \n",
       "1                         10.0                    10.0                 8.0   \n",
       "2                         10.0                    10.0                10.0   \n",
       "3                         10.0                     9.0                10.0   \n",
       "4                         10.0                    10.0                10.0   \n",
       "\n",
       "   Reviews per month  Amenity_Count  Country_Average  Normalized  \n",
       "0               0.08             11        91.322033    0.810319  \n",
       "1               0.27             12        65.071831    0.845220  \n",
       "2               0.28              8       599.040734    1.657650  \n",
       "3               0.79             23       599.040734    1.163527  \n",
       "4               1.40             10       599.040734    0.707798  \n",
       "\n",
       "[5 rows x 34 columns]"
      ]
     },
     "execution_count": 3,
     "metadata": {},
     "output_type": "execute_result"
    }
   ],
   "source": [
    "df.head()"
   ]
  },
  {
   "cell_type": "code",
   "execution_count": 4,
   "metadata": {},
   "outputs": [
    {
     "data": {
      "text/plain": [
       "Listing ID                             object\n",
       "Name                                   object\n",
       "Host ID                                object\n",
       "Host Name                              object\n",
       "Host Response Rate                    float64\n",
       "Host Is Superhost                        bool\n",
       "Host total listings count             float64\n",
       "Country                                object\n",
       "latitude                              float64\n",
       "longitude                             float64\n",
       "Property type                          object\n",
       "Room type                              object\n",
       "Accommodates                            int64\n",
       "Bathrooms                             float64\n",
       "Bedrooms                              float64\n",
       "Amenities                              object\n",
       "Price                                 float64\n",
       "Minimum nights                          int64\n",
       "Maximum nights                          int64\n",
       "Availability 365                        int64\n",
       "Calendar last scraped          datetime64[ns]\n",
       "Number of reviews                       int64\n",
       "Last Review Date               datetime64[ns]\n",
       "Review Scores Rating                  float64\n",
       "Review Scores Accuracy                float64\n",
       "Review Scores Cleanliness             float64\n",
       "Review Scores Checkin                 float64\n",
       "Review Scores Communication           float64\n",
       "Review Scores Location                float64\n",
       "Review Scores Value                   float64\n",
       "Reviews per month                     float64\n",
       "Amenity_Count                           int64\n",
       "Country_Average                       float64\n",
       "Normalized                            float64\n",
       "dtype: object"
      ]
     },
     "execution_count": 4,
     "metadata": {},
     "output_type": "execute_result"
    }
   ],
   "source": [
    "df.dtypes"
   ]
  },
  {
   "cell_type": "code",
   "execution_count": 5,
   "metadata": {},
   "outputs": [],
   "source": [
    "df = df.rename(columns={\"Review Scores Rating\": \"Review_Scores_Rating\"})"
   ]
  },
  {
   "cell_type": "code",
   "execution_count": 6,
   "metadata": {},
   "outputs": [
    {
     "data": {
      "text/plain": [
       "count    380224.000000\n",
       "mean         16.109599\n",
       "std           6.280906\n",
       "min           1.000000\n",
       "25%          12.000000\n",
       "50%          15.000000\n",
       "75%          20.000000\n",
       "max          87.000000\n",
       "Name: Amenity_Count, dtype: float64"
      ]
     },
     "execution_count": 6,
     "metadata": {},
     "output_type": "execute_result"
    }
   ],
   "source": [
    "df['Amenity_Count'].describe()"
   ]
  },
  {
   "cell_type": "code",
   "execution_count": 7,
   "metadata": {},
   "outputs": [
    {
     "data": {
      "text/plain": [
       "0    14\n",
       "dtype: int64"
      ]
     },
     "execution_count": 7,
     "metadata": {},
     "output_type": "execute_result"
    }
   ],
   "source": [
    "df['Amenity_Count'].mode()"
   ]
  },
  {
   "cell_type": "markdown",
   "metadata": {},
   "source": [
    "* The average number of amenities for the listings reviewed is 16.\n",
    "* The median is 15 amenities.\n",
    "* The most common number of amenities (mode) is 14.\n",
    "* The maximum number of amenities is 87.\n",
    "* Only 25% of the listings have more than 19 amenities though."
   ]
  },
  {
   "cell_type": "code",
   "execution_count": 8,
   "metadata": {},
   "outputs": [
    {
     "data": {
      "image/png": "[encoded data removed]",
      "text/plain": [
       "<Figure size 432x288 with 1 Axes>"
      ]
     },
     "metadata": {
      "needs_background": "light"
     },
     "output_type": "display_data"
    }
   ],
   "source": [
    "df.boxplot(column='Amenity_Count');"
   ]
  },
  {
   "cell_type": "code",
   "execution_count": 123,
   "metadata": {},
   "outputs": [
    {
     "data": {
      "image/png": "[encoded data removed]",
      "text/plain": [
       "<Figure size 432x288 with 1 Axes>"
      ]
     },
     "metadata": {
      "needs_background": "light"
     },
     "output_type": "display_data"
    }
   ],
   "source": [
    "fig, ax = plt.subplots()\n",
    "df['Amenity_Count'].value_counts().plot(ax=ax, kind='bar');"
   ]
  },
  {
   "cell_type": "code",
   "execution_count": 10,
   "metadata": {},
   "outputs": [
    {
     "data": {
      "image/png": "[encoded data removed]",
      "text/plain": [
       "<Figure size 432x288 with 1 Axes>"
      ]
     },
     "metadata": {
      "needs_background": "light"
     },
     "output_type": "display_data"
    }
   ],
   "source": [
    "df.plot.scatter(x='Amenity_Count',\n",
    "     y='Review_Scores_Rating',\n",
    "     c='DarkBlue',\n",
    "        s=0.01);"
   ]
  },
  {
   "cell_type": "code",
   "execution_count": 11,
   "metadata": {},
   "outputs": [
    {
     "data": {
      "text/plain": [
       "count    380224.000000\n",
       "mean         93.088024\n",
       "std           8.373247\n",
       "min          20.000000\n",
       "25%          90.000000\n",
       "50%          95.000000\n",
       "75%         100.000000\n",
       "max         100.000000\n",
       "Name: Review_Scores_Rating, dtype: float64"
      ]
     },
     "execution_count": 11,
     "metadata": {},
     "output_type": "execute_result"
    }
   ],
   "source": [
    "df['Review_Scores_Rating'].describe()"
   ]
  },
  {
   "cell_type": "code",
   "execution_count": 12,
   "metadata": {},
   "outputs": [
    {
     "data": {
      "text/plain": [
       "0    100.0\n",
       "dtype: float64"
      ]
     },
     "execution_count": 12,
     "metadata": {},
     "output_type": "execute_result"
    }
   ],
   "source": [
    "df['Review_Scores_Rating'].mode()"
   ]
  },
  {
   "cell_type": "code",
   "execution_count": 13,
   "metadata": {},
   "outputs": [
    {
     "data": {
      "text/plain": [
       "80.0"
      ]
     },
     "execution_count": 13,
     "metadata": {},
     "output_type": "execute_result"
    }
   ],
   "source": [
    "df['Review_Scores_Rating'].quantile(.08)"
   ]
  },
  {
   "cell_type": "code",
   "execution_count": 14,
   "metadata": {},
   "outputs": [
    {
     "data": {
      "text/plain": [
       "75.0"
      ]
     },
     "execution_count": 14,
     "metadata": {},
     "output_type": "execute_result"
    }
   ],
   "source": [
    "df['Review_Scores_Rating'].quantile(.03)"
   ]
  },
  {
   "cell_type": "markdown",
   "metadata": {},
   "source": [
    "* The average review score rating for the listings reviewed is 93.\n",
    "* The median is 95 amenities.\n",
    "* The most common review score rating (mode) is 100.\n",
    "* The maximum review score rating is 100.\n",
    "* Only 25% of the review score ratings are below 90.\n",
    "* Only 8% of the review score ratings are below 80.\n",
    "* Only 3% of the review scores are below 75."
   ]
  },
  {
   "cell_type": "code",
   "execution_count": 15,
   "metadata": {},
   "outputs": [
    {
     "data": {
      "image/png": "[encoded data removed]",
      "text/plain": [
       "<Figure size 432x288 with 1 Axes>"
      ]
     },
     "metadata": {
      "needs_background": "light"
     },
     "output_type": "display_data"
    }
   ],
   "source": [
    "df.boxplot(column='Review_Scores_Rating');"
   ]
  },
  {
   "cell_type": "code",
   "execution_count": 16,
   "metadata": {},
   "outputs": [
    {
     "data": {
      "image/png": "[encoded data removed]",
      "text/plain": [
       "<Figure size 432x288 with 1 Axes>"
      ]
     },
     "metadata": {
      "needs_background": "light"
     },
     "output_type": "display_data"
    }
   ],
   "source": [
    "# The vast majority of ratings are at 100\n",
    "fig, ax = plt.subplots()\n",
    "df['Review_Scores_Rating'].value_counts().plot(ax=ax, kind='bar');"
   ]
  },
  {
   "cell_type": "code",
   "execution_count": null,
   "metadata": {},
   "outputs": [],
   "source": []
  },
  {
   "cell_type": "code",
   "execution_count": 18,
   "metadata": {},
   "outputs": [
    {
     "data": {
      "image/png": "[encoded data removed]",
      "text/plain": [
       "<Figure size 432x288 with 1 Axes>"
      ]
     },
     "metadata": {
      "needs_background": "light"
     },
     "output_type": "display_data"
    }
   ],
   "source": [
    "# Histogram showing frequency of review score ratings under 75\n",
    "df_u75=df[df.Review_Scores_Rating < 75]\n",
    "fig, ax = plt.subplots()\n",
    "df_u75['Review_Scores_Rating'].value_counts().plot(ax=ax, kind='bar');"
   ]
  },
  {
   "cell_type": "code",
   "execution_count": 20,
   "metadata": {},
   "outputs": [],
   "source": [
    "# creating dataset with review score rating 75 and over\n",
    "df_g75=df[df.Review_Scores_Rating >= 75]"
   ]
  },
  {
   "cell_type": "code",
   "execution_count": 21,
   "metadata": {},
   "outputs": [
    {
     "data": {
      "image/png": "[encoded data removed]",
      "text/plain": [
       "<Figure size 432x288 with 1 Axes>"
      ]
     },
     "metadata": {
      "needs_background": "light"
     },
     "output_type": "display_data"
    }
   ],
   "source": [
    "# Histogram showing frequency of review score ratings of 75 and over\n",
    "fig, ax = plt.subplots()\n",
    "df_g75['Review_Scores_Rating'].value_counts().plot(ax=ax, kind='bar');"
   ]
  },
  {
   "cell_type": "code",
   "execution_count": 22,
   "metadata": {},
   "outputs": [],
   "source": [
    "# creating dataset with review score rating 75 and over matching amenity count under 30\n",
    "df_u75_u30=df_u75[df_u75.Amenity_Count < 30]"
   ]
  },
  {
   "cell_type": "code",
   "execution_count": 23,
   "metadata": {},
   "outputs": [
    {
     "data": {
      "image/png": "[encoded data removed]",
      "text/plain": [
       "<Figure size 432x288 with 1 Axes>"
      ]
     },
     "metadata": {
      "needs_background": "light"
     },
     "output_type": "display_data"
    }
   ],
   "source": [
    "# creating scatterplot with review score rating 75 and over, matching amenity count under 30\n",
    "df_u75_u30.plot.scatter(x='Amenity_Count',\n",
    "     y='Review_Scores_Rating',\n",
    "     c='green',\n",
    "        s=0.1);"
   ]
  },
  {
   "cell_type": "code",
   "execution_count": 129,
   "metadata": {},
   "outputs": [
    {
     "data": {
      "image/png": "[encoded data removed]",
      "text/plain": [
       "<Figure size 720x432 with 1 Axes>"
      ]
     },
     "metadata": {
      "needs_background": "light"
     },
     "output_type": "display_data"
    }
   ],
   "source": [
    "# Histogram showing frequency of review score ratings under 75 matching #of amenities under 30\n",
    "fig, ax = plt.subplots(figsize=(10,6))\n",
    "df_u75_u30['Review_Scores_Rating'].value_counts().plot(ax=ax, kind='bar');"
   ]
  },
  {
   "cell_type": "code",
   "execution_count": 76,
   "metadata": {},
   "outputs": [
    {
     "data": {
      "text/plain": [
       "Text(0.5, 0, 'Review_Scores_Rating greater 75')"
      ]
     },
     "execution_count": 76,
     "metadata": {},
     "output_type": "execute_result"
    },
    {
     "data": {
      "image/png": "[encoded data removed]",
      "text/plain": [
       "<Figure size 432x288 with 1 Axes>"
      ]
     },
     "metadata": {
      "needs_background": "light"
     },
     "output_type": "display_data"
    }
   ],
   "source": [
    "# Histogram showing frequency (number counts) of review score ratings over 75 with 25 Bins\n",
    "plt.subplot()\n",
    "plt.hist(df_g75['Review_Scores_Rating'],25)\n",
    "plt.xlabel(\"Review_Scores_Rating greater 75\")"
   ]
  },
  {
   "cell_type": "code",
   "execution_count": 77,
   "metadata": {},
   "outputs": [],
   "source": [
    "# over 100.000 ratings, which is more than 25% of total are at 100%"
   ]
  },
  {
   "cell_type": "code",
   "execution_count": 66,
   "metadata": {},
   "outputs": [],
   "source": [
    "# Look at where the added value ends (at what count of amenities does the benefit stop)"
   ]
  },
  {
   "cell_type": "code",
   "execution_count": null,
   "metadata": {},
   "outputs": [],
   "source": [
    "# creating a new datset just with amenity count, review score rating and rating count\n",
    "df1=df.groupby('Amenity_Count').agg({'Review_Scores_Rating' : 'mean'})\n",
    "df2=df.groupby('Amenity_Count').agg({'Review_Scores_Rating' : 'count'})\n",
    "df3=df1.merge(df2, on=\"Amenity_Count\")"
   ]
  },
  {
   "cell_type": "code",
   "execution_count": 127,
   "metadata": {},
   "outputs": [
    {
     "data": {
      "text/html": [
       "<div>\n",
       "<style scoped>\n",
       "    .dataframe tbody tr th:only-of-type {\n",
       "        vertical-align: middle;\n",
       "    }\n",
       "\n",
       "    .dataframe tbody tr th {\n",
       "        vertical-align: top;\n",
       "    }\n",
       "\n",
       "    .dataframe thead th {\n",
       "        text-align: right;\n",
       "    }\n",
       "</style>\n",
       "<table border=\"1\" class=\"dataframe\">\n",
       "  <thead>\n",
       "    <tr style=\"text-align: right;\">\n",
       "      <th></th>\n",
       "      <th>Amenity_Count</th>\n",
       "      <th>Avg_Rating</th>\n",
       "      <th>Rating_Count</th>\n",
       "    </tr>\n",
       "  </thead>\n",
       "  <tbody>\n",
       "    <tr>\n",
       "      <td>0</td>\n",
       "      <td>1</td>\n",
       "      <td>90.033854</td>\n",
       "      <td>384</td>\n",
       "    </tr>\n",
       "    <tr>\n",
       "      <td>1</td>\n",
       "      <td>2</td>\n",
       "      <td>91.492696</td>\n",
       "      <td>753</td>\n",
       "    </tr>\n",
       "    <tr>\n",
       "      <td>2</td>\n",
       "      <td>3</td>\n",
       "      <td>89.775815</td>\n",
       "      <td>736</td>\n",
       "    </tr>\n",
       "    <tr>\n",
       "      <td>3</td>\n",
       "      <td>4</td>\n",
       "      <td>88.804615</td>\n",
       "      <td>1300</td>\n",
       "    </tr>\n",
       "    <tr>\n",
       "      <td>4</td>\n",
       "      <td>5</td>\n",
       "      <td>89.317055</td>\n",
       "      <td>2703</td>\n",
       "    </tr>\n",
       "    <tr>\n",
       "      <td>...</td>\n",
       "      <td>...</td>\n",
       "      <td>...</td>\n",
       "      <td>...</td>\n",
       "    </tr>\n",
       "    <tr>\n",
       "      <td>73</td>\n",
       "      <td>75</td>\n",
       "      <td>95.000000</td>\n",
       "      <td>1</td>\n",
       "    </tr>\n",
       "    <tr>\n",
       "      <td>74</td>\n",
       "      <td>76</td>\n",
       "      <td>96.000000</td>\n",
       "      <td>1</td>\n",
       "    </tr>\n",
       "    <tr>\n",
       "      <td>75</td>\n",
       "      <td>77</td>\n",
       "      <td>98.000000</td>\n",
       "      <td>1</td>\n",
       "    </tr>\n",
       "    <tr>\n",
       "      <td>76</td>\n",
       "      <td>81</td>\n",
       "      <td>99.000000</td>\n",
       "      <td>1</td>\n",
       "    </tr>\n",
       "    <tr>\n",
       "      <td>77</td>\n",
       "      <td>87</td>\n",
       "      <td>100.000000</td>\n",
       "      <td>2</td>\n",
       "    </tr>\n",
       "  </tbody>\n",
       "</table>\n",
       "<p>78 rows × 3 columns</p>\n",
       "</div>"
      ],
      "text/plain": [
       "    Amenity_Count  Avg_Rating  Rating_Count\n",
       "0               1   90.033854           384\n",
       "1               2   91.492696           753\n",
       "2               3   89.775815           736\n",
       "3               4   88.804615          1300\n",
       "4               5   89.317055          2703\n",
       "..            ...         ...           ...\n",
       "73             75   95.000000             1\n",
       "74             76   96.000000             1\n",
       "75             77   98.000000             1\n",
       "76             81   99.000000             1\n",
       "77             87  100.000000             2\n",
       "\n",
       "[78 rows x 3 columns]"
      ]
     },
     "execution_count": 127,
     "metadata": {},
     "output_type": "execute_result"
    }
   ],
   "source": [
    "#renaming column names\n",
    "df4=df3.rename(columns={\"Review_Scores_Rating_x\": \"Avg_Rating\", \"Review_Scores_Rating_y\": \"Rating_Count\"})\n",
    "df4.reset_index(inplace=True)\n",
    "df4"
   ]
  },
  {
   "cell_type": "code",
   "execution_count": null,
   "metadata": {},
   "outputs": [],
   "source": [
    "# Which average review score matches the specific number of amenities"
   ]
  },
  {
   "cell_type": "code",
   "execution_count": 133,
   "metadata": {},
   "outputs": [
    {
     "data": {
      "image/png": "[encoded data removed]",
      "text/plain": [
       "<Figure size 720x432 with 1 Axes>"
      ]
     },
     "metadata": {
      "needs_background": "light"
     },
     "output_type": "display_data"
    }
   ],
   "source": [
    "fig, ax = plt.subplots(figsize=(10,6))\n",
    "ax=sns.lineplot(data=df4, x='Amenity_Count', y='Avg_Rating');"
   ]
  },
  {
   "cell_type": "markdown",
   "metadata": {},
   "source": [
    "* Just looking at the average rating for the amenity count the maximum average rating of 100 is achieved with the maximum number of amenities 87. Lookiong at the data, we discover though that there are only 2 reviews for listings with 87 amenities. In order to be able to compare listings with a reasonable amount of reviews it seems rather feasable to define a cut off value for a minimum amount of review ratings per amenity count."
   ]
  },
  {
   "cell_type": "code",
   "execution_count": null,
   "metadata": {},
   "outputs": [],
   "source": [
    "# Which number of ratings corresponds to the specific number of amenities"
   ]
  },
  {
   "cell_type": "code",
   "execution_count": 128,
   "metadata": {},
   "outputs": [
    {
     "data": {
      "image/png": "[encoded data removed]",
      "text/plain": [
       "<Figure size 432x288 with 1 Axes>"
      ]
     },
     "metadata": {
      "needs_background": "light"
     },
     "output_type": "display_data"
    }
   ],
   "source": [
    "df4.plot(x='Amenity_Count', y='Rating_Count');"
   ]
  },
  {
   "cell_type": "code",
   "execution_count": 122,
   "metadata": {},
   "outputs": [
    {
     "data": {
      "text/plain": [
       "count       78.000000\n",
       "mean      4874.666667\n",
       "std       8392.931491\n",
       "min          1.000000\n",
       "25%         19.750000\n",
       "50%        391.500000\n",
       "75%       4850.000000\n",
       "max      27233.000000\n",
       "Name: Rating_Count, dtype: float64"
      ]
     },
     "execution_count": 122,
     "metadata": {},
     "output_type": "execute_result"
    }
   ],
   "source": [
    "df4['Rating_Count'].describe()"
   ]
  },
  {
   "cell_type": "code",
   "execution_count": 126,
   "metadata": {},
   "outputs": [
    {
     "data": {
      "text/plain": [
       "Amenity_Count       14.000000\n",
       "Avg_Rating          92.719164\n",
       "Rating_Count     27233.000000\n",
       "Name: 13, dtype: float64"
      ]
     },
     "execution_count": 126,
     "metadata": {},
     "output_type": "execute_result"
    }
   ],
   "source": [
    "df4.loc[df4['Rating_Count'].idxmax()]"
   ]
  },
  {
   "cell_type": "markdown",
   "metadata": {},
   "source": [
    "* The maximum number of ratings (27233) are for 14 amenities with an average rating of 92.71"
   ]
  },
  {
   "cell_type": "markdown",
   "metadata": {},
   "source": [
    "* setting a cut off value of 200 for the minimum value of ratings per amenities count"
   ]
  },
  {
   "cell_type": "code",
   "execution_count": 134,
   "metadata": {},
   "outputs": [],
   "source": [
    "# eliminating entries for amenities with less than 200 reviews\n",
    "df5=df4[df4.Rating_Count>= 200]"
   ]
  },
  {
   "cell_type": "code",
   "execution_count": 135,
   "metadata": {},
   "outputs": [
    {
     "data": {
      "image/png": "[encoded data removed]",
      "text/plain": [
       "<Figure size 432x288 with 1 Axes>"
      ]
     },
     "metadata": {
      "needs_background": "light"
     },
     "output_type": "display_data"
    }
   ],
   "source": [
    "df5.plot(x='Amenity_Count', y='Avg_Rating');"
   ]
  },
  {
   "cell_type": "code",
   "execution_count": 136,
   "metadata": {},
   "outputs": [
    {
     "data": {
      "text/plain": [
       "Amenity_Count     39.000000\n",
       "Avg_Rating        96.573935\n",
       "Rating_Count     399.000000\n",
       "Name: 38, dtype: float64"
      ]
     },
     "execution_count": 136,
     "metadata": {},
     "output_type": "execute_result"
    }
   ],
   "source": [
    "df5.loc[df5['Avg_Rating'].idxmax()]"
   ]
  },
  {
   "cell_type": "markdown",
   "metadata": {},
   "source": [
    "* For the amenities count that achieve at least 200 reviews, the maximum average rating are for listings with 39 aminities and an average rating of 96.57."
   ]
  },
  {
   "cell_type": "code",
   "execution_count": 138,
   "metadata": {},
   "outputs": [],
   "source": [
    "# eliminating entries for amenities with 30 or less amenities\n",
    "df6=df5[df5.Amenity_Count<=30]"
   ]
  },
  {
   "cell_type": "code",
   "execution_count": 139,
   "metadata": {},
   "outputs": [
    {
     "data": {
      "image/png": "[encoded data removed]",
      "text/plain": [
       "<Figure size 432x288 with 1 Axes>"
      ]
     },
     "metadata": {
      "needs_background": "light"
     },
     "output_type": "display_data"
    }
   ],
   "source": [
    "df6.plot(x='Amenity_Count', y='Avg_Rating');"
   ]
  },
  {
   "cell_type": "code",
   "execution_count": 140,
   "metadata": {},
   "outputs": [
    {
     "data": {
      "text/plain": [
       "Amenity_Count      28.000000\n",
       "Avg_Rating         95.457209\n",
       "Rating_Count     2594.000000\n",
       "Name: 27, dtype: float64"
      ]
     },
     "execution_count": 140,
     "metadata": {},
     "output_type": "execute_result"
    }
   ],
   "source": [
    "df6.loc[df6['Avg_Rating'].idxmax()]"
   ]
  },
  {
   "cell_type": "markdown",
   "metadata": {},
   "source": [
    "* Compare slope of up to 30 and more than 30 amenities against review score rating."
   ]
  },
  {
   "cell_type": "code",
   "execution_count": null,
   "metadata": {},
   "outputs": [],
   "source": []
  },
  {
   "cell_type": "markdown",
   "metadata": {},
   "source": [
    "* Linear regression on amenity count vs ratings"
   ]
  },
  {
   "cell_type": "code",
   "execution_count": null,
   "metadata": {},
   "outputs": [],
   "source": []
  },
  {
   "cell_type": "markdown",
   "metadata": {},
   "source": [
    "* check out 3D plots with Jens tool"
   ]
  }
 ],
 "metadata": {
  "kernelspec": {
   "display_name": "Python 3",
   "language": "python",
   "name": "python3"
  },
  "language_info": {
   "codemirror_mode": {
    "name": "ipython",
    "version": 3
   },
   "file_extension": ".py",
   "mimetype": "text/x-python",
   "name": "python",
   "nbconvert_exporter": "python",
   "pygments_lexer": "ipython3",
   "version": "3.7.4"
  }
 },
 "nbformat": 4,
 "nbformat_minor": 2
}
