{
 "cells": [
  {
   "cell_type": "code",
   "execution_count": 25,
   "metadata": {},
   "outputs": [],
   "source": [
    "import pandas as pd\n",
    "import numpy as np\n",
    "import matplotlib\n",
    "import matplotlib.pyplot as plt\n",
    "import seaborn as sns"
   ]
  },
  {
   "cell_type": "code",
   "execution_count": 23,
   "metadata": {},
   "outputs": [],
   "source": [
    "df=pd.read_pickle(\"C:/Users/User/1Ironhack/DATA/Visualising_Real_Time_Data_Project/Data_Cleaning_Step_3/airbnb_listings_countries.pkl\")"
   ]
  },
  {
   "cell_type": "code",
   "execution_count": 24,
   "metadata": {},
   "outputs": [
    {
     "data": {
      "text/html": [
       "<div>\n",
       "<style scoped>\n",
       "    .dataframe tbody tr th:only-of-type {\n",
       "        vertical-align: middle;\n",
       "    }\n",
       "\n",
       "    .dataframe tbody tr th {\n",
       "        vertical-align: top;\n",
       "    }\n",
       "\n",
       "    .dataframe thead th {\n",
       "        text-align: right;\n",
       "    }\n",
       "</style>\n",
       "<table border=\"1\" class=\"dataframe\">\n",
       "  <thead>\n",
       "    <tr style=\"text-align: right;\">\n",
       "      <th></th>\n",
       "      <th>Listing ID</th>\n",
       "      <th>Name</th>\n",
       "      <th>Host ID</th>\n",
       "      <th>Host Name</th>\n",
       "      <th>Host Response Rate</th>\n",
       "      <th>Host Is Superhost</th>\n",
       "      <th>Host total listings count</th>\n",
       "      <th>Country</th>\n",
       "      <th>latitude</th>\n",
       "      <th>longitude</th>\n",
       "      <th>...</th>\n",
       "      <th>Last Review Date</th>\n",
       "      <th>Review Scores Rating</th>\n",
       "      <th>Review Scores Accuracy</th>\n",
       "      <th>Review Scores Cleanliness</th>\n",
       "      <th>Review Scores Checkin</th>\n",
       "      <th>Review Scores Communication</th>\n",
       "      <th>Review Scores Location</th>\n",
       "      <th>Review Scores Value</th>\n",
       "      <th>Reviews per month</th>\n",
       "      <th>Amenity_Count</th>\n",
       "    </tr>\n",
       "  </thead>\n",
       "  <tbody>\n",
       "    <tr>\n",
       "      <td>0</td>\n",
       "      <td>5534229</td>\n",
       "      <td>A 2 Passi da San Pietro</td>\n",
       "      <td>28697142</td>\n",
       "      <td>Veronica</td>\n",
       "      <td>100.0</td>\n",
       "      <td>False</td>\n",
       "      <td>5.0</td>\n",
       "      <td>Italy</td>\n",
       "      <td>41.895878</td>\n",
       "      <td>12.454430</td>\n",
       "      <td>...</td>\n",
       "      <td>2015-08-29</td>\n",
       "      <td>90.0</td>\n",
       "      <td>9.0</td>\n",
       "      <td>10.0</td>\n",
       "      <td>8.0</td>\n",
       "      <td>8.0</td>\n",
       "      <td>9.0</td>\n",
       "      <td>9.0</td>\n",
       "      <td>0.08</td>\n",
       "      <td>11</td>\n",
       "    </tr>\n",
       "    <tr>\n",
       "      <td>1</td>\n",
       "      <td>5903406</td>\n",
       "      <td>cosy small apartment</td>\n",
       "      <td>1853799</td>\n",
       "      <td>Veronika</td>\n",
       "      <td>88.0</td>\n",
       "      <td>False</td>\n",
       "      <td>2.0</td>\n",
       "      <td>Austria</td>\n",
       "      <td>48.246033</td>\n",
       "      <td>16.340743</td>\n",
       "      <td>...</td>\n",
       "      <td>2017-09-09</td>\n",
       "      <td>87.0</td>\n",
       "      <td>9.0</td>\n",
       "      <td>10.0</td>\n",
       "      <td>10.0</td>\n",
       "      <td>10.0</td>\n",
       "      <td>10.0</td>\n",
       "      <td>8.0</td>\n",
       "      <td>0.27</td>\n",
       "      <td>12</td>\n",
       "    </tr>\n",
       "    <tr>\n",
       "      <td>2</td>\n",
       "      <td>5203533</td>\n",
       "      <td>Rummelig lejl i hjertet af KBH</td>\n",
       "      <td>24801534</td>\n",
       "      <td>Marianne</td>\n",
       "      <td>100.0</td>\n",
       "      <td>False</td>\n",
       "      <td>1.0</td>\n",
       "      <td>Denmark</td>\n",
       "      <td>55.681579</td>\n",
       "      <td>12.562770</td>\n",
       "      <td>...</td>\n",
       "      <td>2016-07-26</td>\n",
       "      <td>100.0</td>\n",
       "      <td>10.0</td>\n",
       "      <td>10.0</td>\n",
       "      <td>10.0</td>\n",
       "      <td>10.0</td>\n",
       "      <td>10.0</td>\n",
       "      <td>10.0</td>\n",
       "      <td>0.28</td>\n",
       "      <td>8</td>\n",
       "    </tr>\n",
       "    <tr>\n",
       "      <td>3</td>\n",
       "      <td>8858475</td>\n",
       "      <td>Modern; spacious and warm; with its own balcony</td>\n",
       "      <td>3000397</td>\n",
       "      <td>Lasse</td>\n",
       "      <td>100.0</td>\n",
       "      <td>True</td>\n",
       "      <td>1.0</td>\n",
       "      <td>Denmark</td>\n",
       "      <td>55.708413</td>\n",
       "      <td>12.596737</td>\n",
       "      <td>...</td>\n",
       "      <td>2017-05-07</td>\n",
       "      <td>100.0</td>\n",
       "      <td>10.0</td>\n",
       "      <td>10.0</td>\n",
       "      <td>10.0</td>\n",
       "      <td>10.0</td>\n",
       "      <td>9.0</td>\n",
       "      <td>10.0</td>\n",
       "      <td>0.79</td>\n",
       "      <td>23</td>\n",
       "    </tr>\n",
       "    <tr>\n",
       "      <td>4</td>\n",
       "      <td>4215511</td>\n",
       "      <td>Nice room; Bohemian Cph; N�rrebro</td>\n",
       "      <td>126020</td>\n",
       "      <td>Lea</td>\n",
       "      <td>100.0</td>\n",
       "      <td>True</td>\n",
       "      <td>2.0</td>\n",
       "      <td>Denmark</td>\n",
       "      <td>55.687506</td>\n",
       "      <td>12.558365</td>\n",
       "      <td>...</td>\n",
       "      <td>2017-05-08</td>\n",
       "      <td>94.0</td>\n",
       "      <td>10.0</td>\n",
       "      <td>10.0</td>\n",
       "      <td>9.0</td>\n",
       "      <td>10.0</td>\n",
       "      <td>10.0</td>\n",
       "      <td>10.0</td>\n",
       "      <td>1.40</td>\n",
       "      <td>10</td>\n",
       "    </tr>\n",
       "  </tbody>\n",
       "</table>\n",
       "<p>5 rows × 32 columns</p>\n",
       "</div>"
      ],
      "text/plain": [
       "  Listing ID                                             Name   Host ID  \\\n",
       "0    5534229                          A 2 Passi da San Pietro  28697142   \n",
       "1    5903406                             cosy small apartment   1853799   \n",
       "2    5203533                   Rummelig lejl i hjertet af KBH  24801534   \n",
       "3    8858475  Modern; spacious and warm; with its own balcony   3000397   \n",
       "4    4215511                Nice room; Bohemian Cph; N�rrebro    126020   \n",
       "\n",
       "  Host Name  Host Response Rate  Host Is Superhost  Host total listings count  \\\n",
       "0  Veronica               100.0              False                        5.0   \n",
       "1  Veronika                88.0              False                        2.0   \n",
       "2  Marianne               100.0              False                        1.0   \n",
       "3     Lasse               100.0               True                        1.0   \n",
       "4       Lea               100.0               True                        2.0   \n",
       "\n",
       "   Country   latitude  longitude  ... Last Review Date Review Scores Rating  \\\n",
       "0    Italy  41.895878  12.454430  ...       2015-08-29                 90.0   \n",
       "1  Austria  48.246033  16.340743  ...       2017-09-09                 87.0   \n",
       "2  Denmark  55.681579  12.562770  ...       2016-07-26                100.0   \n",
       "3  Denmark  55.708413  12.596737  ...       2017-05-07                100.0   \n",
       "4  Denmark  55.687506  12.558365  ...       2017-05-08                 94.0   \n",
       "\n",
       "   Review Scores Accuracy  Review Scores Cleanliness  Review Scores Checkin  \\\n",
       "0                     9.0                       10.0                    8.0   \n",
       "1                     9.0                       10.0                   10.0   \n",
       "2                    10.0                       10.0                   10.0   \n",
       "3                    10.0                       10.0                   10.0   \n",
       "4                    10.0                       10.0                    9.0   \n",
       "\n",
       "  Review Scores Communication  Review Scores Location  Review Scores Value  \\\n",
       "0                         8.0                     9.0                  9.0   \n",
       "1                        10.0                    10.0                  8.0   \n",
       "2                        10.0                    10.0                 10.0   \n",
       "3                        10.0                     9.0                 10.0   \n",
       "4                        10.0                    10.0                 10.0   \n",
       "\n",
       "   Reviews per month  Amenity_Count  \n",
       "0               0.08             11  \n",
       "1               0.27             12  \n",
       "2               0.28              8  \n",
       "3               0.79             23  \n",
       "4               1.40             10  \n",
       "\n",
       "[5 rows x 32 columns]"
      ]
     },
     "execution_count": 24,
     "metadata": {},
     "output_type": "execute_result"
    }
   ],
   "source": [
    "df.head()"
   ]
  },
  {
   "cell_type": "code",
   "execution_count": 38,
   "metadata": {},
   "outputs": [
    {
     "data": {
      "text/plain": [
       "Listing ID                             object\n",
       "Name                                   object\n",
       "Host ID                                object\n",
       "Host Name                              object\n",
       "Host Response Rate                    float64\n",
       "Host Is Superhost                        bool\n",
       "Host total listings count             float64\n",
       "Country                                object\n",
       "latitude                              float64\n",
       "longitude                             float64\n",
       "Property type                          object\n",
       "Room type                              object\n",
       "Accommodates                            int64\n",
       "Bathrooms                             float64\n",
       "Bedrooms                              float64\n",
       "Amenities                              object\n",
       "Price                                 float64\n",
       "Minimum nights                          int64\n",
       "Maximum nights                          int64\n",
       "Availability 365                        int64\n",
       "Calendar last scraped          datetime64[ns]\n",
       "Number of reviews                       int64\n",
       "Last Review Date               datetime64[ns]\n",
       "Review_Scores_Rating                  float64\n",
       "Review Scores Accuracy                float64\n",
       "Review Scores Cleanliness             float64\n",
       "Review Scores Checkin                 float64\n",
       "Review Scores Communication           float64\n",
       "Review Scores Location                float64\n",
       "Review Scores Value                   float64\n",
       "Reviews per month                     float64\n",
       "Amenity_Count                           int64\n",
       "dtype: object"
      ]
     },
     "execution_count": 38,
     "metadata": {},
     "output_type": "execute_result"
    }
   ],
   "source": [
    "df.dtypes"
   ]
  },
  {
   "cell_type": "code",
   "execution_count": 56,
   "metadata": {},
   "outputs": [],
   "source": [
    "df = df.rename(columns={\"Review Scores Rating\": \"Review_Scores_Rating\"})"
   ]
  },
  {
   "cell_type": "code",
   "execution_count": 59,
   "metadata": {},
   "outputs": [
    {
     "data": {
      "text/plain": [
       "count    401765.000000\n",
       "mean         16.066586\n",
       "std           6.272326\n",
       "min           1.000000\n",
       "25%          12.000000\n",
       "50%          15.000000\n",
       "75%          19.000000\n",
       "max          87.000000\n",
       "Name: Amenity_Count, dtype: float64"
      ]
     },
     "execution_count": 59,
     "metadata": {},
     "output_type": "execute_result"
    }
   ],
   "source": [
    "df['Amenity_Count'].describe()"
   ]
  },
  {
   "cell_type": "code",
   "execution_count": 62,
   "metadata": {},
   "outputs": [
    {
     "data": {
      "image/png": "[encoded data removed]",
      "text/plain": [
       "<Figure size 432x288 with 1 Axes>"
      ]
     },
     "metadata": {
      "needs_background": "light"
     },
     "output_type": "display_data"
    }
   ],
   "source": [
    "df.boxplot(column='Amenity_Count');"
   ]
  },
  {
   "cell_type": "code",
   "execution_count": 63,
   "metadata": {},
   "outputs": [
    {
     "data": {
      "text/plain": [
       "0    14\n",
       "dtype: int64"
      ]
     },
     "execution_count": 63,
     "metadata": {},
     "output_type": "execute_result"
    }
   ],
   "source": [
    "df['Amenity_Count'].mode()"
   ]
  },
  {
   "cell_type": "markdown",
   "metadata": {},
   "source": [
    "The average number of amenities for the listings reviewed is 16.\n",
    "The median is 15 amenities\n",
    "The most common number of amenities (mode) is 14\n",
    "The maximum number of amenities is 87\n",
    "Only 25% of the listings have more than 19 amenities though."
   ]
  },
  {
   "cell_type": "code",
   "execution_count": 64,
   "metadata": {},
   "outputs": [
    {
     "data": {
      "image/png": "[encoded data removed]",
      "text/plain": [
       "<Figure size 432x288 with 1 Axes>"
      ]
     },
     "metadata": {
      "needs_background": "light"
     },
     "output_type": "display_data"
    }
   ],
   "source": [
    "df.plot.scatter(x='Amenity_Count',\n",
    "     y='Review_Scores_Rating',\n",
    "     c='DarkBlue',\n",
    "        s=0.01);"
   ]
  },
  {
   "cell_type": "code",
   "execution_count": null,
   "metadata": {},
   "outputs": [],
   "source": []
  },
  {
   "cell_type": "code",
   "execution_count": null,
   "metadata": {},
   "outputs": [],
   "source": []
  }
 ],
 "metadata": {
  "kernelspec": {
   "display_name": "Python 3",
   "language": "python",
   "name": "python3"
  },
  "language_info": {
   "codemirror_mode": {
    "name": "ipython",
    "version": 3
   },
   "file_extension": ".py",
   "mimetype": "text/x-python",
   "name": "python",
   "nbconvert_exporter": "python",
   "pygments_lexer": "ipython3",
   "version": "3.7.4"
  }
 },
 "nbformat": 4,
 "nbformat_minor": 2
}
