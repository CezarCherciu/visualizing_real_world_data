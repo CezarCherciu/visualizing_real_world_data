{
 "cells": [
  {
   "cell_type": "code",
   "execution_count": 3,
   "metadata": {},
   "outputs": [],
   "source": [
    "import pandas as pd\n",
    "import numpy as np"
   ]
  },
  {
   "cell_type": "markdown",
   "metadata": {},
   "source": [
    "## Creating an Amenity Count Predictor Function\n",
    "Our goal will be to create a function that will predict how much you can charge depending on the number of amenities a host has. It will take country and amenity count as imputs and will return a range of prices acceptible."
   ]
  },
  {
   "cell_type": "code",
   "execution_count": 4,
   "metadata": {},
   "outputs": [],
   "source": [
    "df = pd.read_pickle(\"../../Datasets/Data_viz_project/airbnb_listings_final_predictive\")"
   ]
  },
  {
   "cell_type": "code",
   "execution_count": 5,
   "metadata": {},
   "outputs": [
    {
     "data": {
      "text/plain": [
       "Index(['Listing ID', 'Host Response Rate', 'Host Is Superhost', 'Country',\n",
       "       'Accommodates', 'Bedrooms', 'Bathrooms', 'Price', 'Minimum nights',\n",
       "       'Maximum nights', 'Review Scores Rating', 'Reviews per month',\n",
       "       'Amenity_Count', 'Country_Average', 'Normalized', 'Const', 'Pred_1',\n",
       "       'AC2', 'Pred_2', 'AC3', 'Pred_3', 'AC4', 'Pred_4', 'AC5', 'Pred_5',\n",
       "       'Host Is Superhost2', 'Model_3'],\n",
       "      dtype='object')"
      ]
     },
     "execution_count": 5,
     "metadata": {},
     "output_type": "execute_result"
    }
   ],
   "source": [
    "df.columns"
   ]
  },
  {
   "cell_type": "markdown",
   "metadata": {},
   "source": [
    "#### Step 1: Normalize the user's input so that it can be compared to the normalized price values"
   ]
  },
  {
   "cell_type": "code",
   "execution_count": 6,
   "metadata": {},
   "outputs": [],
   "source": [
    "def normalize(price, country, prediction_df):\n",
    "    pairs = (prediction_df[[\"Country\",\"Country_Average\"]]\n",
    "             .set_index(\"Country\")\n",
    "             .to_dict()[\"Country_Average\"])\n",
    "    country_average = pairs[country]\n",
    "    return price/country_average"
   ]
  },
  {
   "cell_type": "markdown",
   "metadata": {},
   "source": [
    "#### Step 2: Find the closest value to the normalized value\n",
    "help found here: https://stackoverflow.com/questions/2566412/find-nearest-value-in-numpy-array"
   ]
  },
  {
   "cell_type": "code",
   "execution_count": 7,
   "metadata": {},
   "outputs": [],
   "source": [
    "def find_closest_value(normalized, prediction_df):\n",
    "    sort_df = prediction_df[\"Model_3\"].sort_values()\n",
    "    array = np.asarray(sort_df)\n",
    "    idx = (np.abs(array - normalized)).argmin()\n",
    "    return array[idx]   "
   ]
  },
  {
   "cell_type": "code",
   "execution_count": 8,
   "metadata": {},
   "outputs": [],
   "source": [
    "def find_amenity_count(closest_value, prediction_df):\n",
    "    index_value = prediction_df.index[prediction_df[\"Model_3\"] == closest_value][0]\n",
    "    am_count = prediction_df.loc[index_value, \"Amenity_Count\"]\n",
    "    return am_count"
   ]
  },
  {
   "cell_type": "markdown",
   "metadata": {},
   "source": [
    "## Final Combined Function"
   ]
  },
  {
   "cell_type": "code",
   "execution_count": 9,
   "metadata": {},
   "outputs": [],
   "source": [
    "def prediction(price, country, prediction_df=df):\n",
    "    norm_price = normalize(price, country, prediction_df)\n",
    "    closest_estimate = find_closest_value(norm_price, prediction_df)\n",
    "    amenity_count = find_amenity_count(closest_estimate, prediction_df)\n",
    "    if amenity_count > 30:\n",
    "        return 30\n",
    "    else:\n",
    "        return amenity_count"
   ]
  },
  {
   "cell_type": "code",
   "execution_count": 13,
   "metadata": {},
   "outputs": [
    {
     "data": {
      "text/plain": [
       "19"
      ]
     },
     "execution_count": 13,
     "metadata": {},
     "output_type": "execute_result"
    }
   ],
   "source": [
    "prediction(90, \"United States\")"
   ]
  },
  {
   "cell_type": "code",
   "execution_count": 1,
   "metadata": {},
   "outputs": [],
   "source": [
    "##make sure to max at at 30 amenities"
   ]
  },
  {
   "cell_type": "code",
   "execution_count": null,
   "metadata": {},
   "outputs": [],
   "source": []
  },
  {
   "cell_type": "code",
   "execution_count": 71,
   "metadata": {},
   "outputs": [],
   "source": []
  }
 ],
 "metadata": {
  "kernelspec": {
   "display_name": "Python 3",
   "language": "python",
   "name": "python3"
  },
  "language_info": {
   "codemirror_mode": {
    "name": "ipython",
    "version": 3
   },
   "file_extension": ".py",
   "mimetype": "text/x-python",
   "name": "python",
   "nbconvert_exporter": "python",
   "pygments_lexer": "ipython3",
   "version": "3.7.6"
  }
 },
 "nbformat": 4,
 "nbformat_minor": 4
}
