{
 "cells": [
  {
   "cell_type": "code",
   "execution_count": 1,
   "metadata": {},
   "outputs": [],
   "source": [
    "import pandas as pd\n",
    "import numpy as np"
   ]
  },
  {
   "cell_type": "code",
   "execution_count": 2,
   "metadata": {},
   "outputs": [],
   "source": [
    "df = pd.read_pickle(\"C:/Users/Admin/Documents/ironhack/AirBnB_data/airbnb_listings_usa.pkl\")"
   ]
  },
  {
   "cell_type": "code",
   "execution_count": 3,
   "metadata": {},
   "outputs": [
    {
     "data": {
      "text/plain": [
       "Los Angeles             22699\n",
       "Manhattan               15568\n",
       "Brooklyn                14098\n",
       "San Francisco            7025\n",
       "Austin                   5683\n",
       "                        ...  \n",
       "Takoma Park                 1\n",
       "San Antonio                 1\n",
       "Mills River                 1\n",
       "Calumet Park                1\n",
       "Portland; Oregon; US        1\n",
       "Name: City, Length: 169, dtype: int64"
      ]
     },
     "execution_count": 3,
     "metadata": {},
     "output_type": "execute_result"
    }
   ],
   "source": [
    "df[\"City\"].value_counts()"
   ]
  },
  {
   "cell_type": "code",
   "execution_count": 4,
   "metadata": {},
   "outputs": [
    {
     "data": {
      "text/plain": [
       "0                   ___\n",
       "1                   ___\n",
       "2         San Francisco\n",
       "3           Los Angeles\n",
       "4         San Francisco\n",
       "              ...      \n",
       "108306      Los Angeles\n",
       "108307              NaN\n",
       "108308              NaN\n",
       "108309              NaN\n",
       "108310      Los Angeles\n",
       "Name: City, Length: 108311, dtype: object"
      ]
     },
     "execution_count": 4,
     "metadata": {},
     "output_type": "execute_result"
    }
   ],
   "source": [
    "df[\"City\"]"
   ]
  },
  {
   "cell_type": "markdown",
   "metadata": {},
   "source": [
    "There is still some cleaning to be done in order to remove null and non-city values.\n",
    "We decided to look only into the cities that have more than 1000 listings."
   ]
  },
  {
   "cell_type": "code",
   "execution_count": 5,
   "metadata": {},
   "outputs": [],
   "source": [
    "us_cities = list(df[\"City\"].value_counts().head(16).index)"
   ]
  },
  {
   "cell_type": "code",
   "execution_count": 6,
   "metadata": {},
   "outputs": [
    {
     "data": {
      "text/plain": [
       "['Los Angeles',\n",
       " 'Manhattan',\n",
       " 'Brooklyn',\n",
       " 'San Francisco',\n",
       " 'Austin',\n",
       " 'Washington',\n",
       " 'New Orleans',\n",
       " 'Chicago',\n",
       " 'Nashville',\n",
       " 'San Diego',\n",
       " 'Boston',\n",
       " 'Denver',\n",
       " 'Portland',\n",
       " 'Seattle',\n",
       " 'Queens',\n",
       " 'Oakland']"
      ]
     },
     "execution_count": 6,
     "metadata": {},
     "output_type": "execute_result"
    }
   ],
   "source": [
    "us_cities"
   ]
  },
  {
   "cell_type": "code",
   "execution_count": 7,
   "metadata": {},
   "outputs": [],
   "source": [
    "df_usa_cities = df[df[\"City\"].isin(us_cities)].reset_index(drop=True)"
   ]
  },
  {
   "cell_type": "code",
   "execution_count": 8,
   "metadata": {},
   "outputs": [
    {
     "data": {
      "text/plain": [
       "Los Angeles      22699\n",
       "Manhattan        15568\n",
       "Brooklyn         14098\n",
       "San Francisco     7025\n",
       "Austin            5683\n",
       "Washington        5448\n",
       "New Orleans       4439\n",
       "Chicago           4426\n",
       "Nashville         4376\n",
       "San Diego         4322\n",
       "Boston            3668\n",
       "Denver            3343\n",
       "Portland          3192\n",
       "Seattle           3088\n",
       "Queens            2962\n",
       "Oakland           1216\n",
       "Name: City, dtype: int64"
      ]
     },
     "execution_count": 8,
     "metadata": {},
     "output_type": "execute_result"
    }
   ],
   "source": [
    "df_usa_cities[\"City\"].value_counts()"
   ]
  },
  {
   "cell_type": "code",
   "execution_count": 9,
   "metadata": {},
   "outputs": [],
   "source": [
    "# df_usa_cities.to_pickle(\"C:/Users/Admin/Documents/ironhack/AirBnB_data/airbnb_usa_cities.pkl\")"
   ]
  },
  {
   "cell_type": "code",
   "execution_count": null,
   "metadata": {},
   "outputs": [],
   "source": []
  }
 ],
 "metadata": {
  "kernelspec": {
   "display_name": "Python 3",
   "language": "python",
   "name": "python3"
  },
  "language_info": {
   "codemirror_mode": {
    "name": "ipython",
    "version": 3
   },
   "file_extension": ".py",
   "mimetype": "text/x-python",
   "name": "python",
   "nbconvert_exporter": "python",
   "pygments_lexer": "ipython3",
   "version": "3.7.6"
  }
 },
 "nbformat": 4,
 "nbformat_minor": 4
}
