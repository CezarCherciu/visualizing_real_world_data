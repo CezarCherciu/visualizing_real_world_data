{
 "cells": [
  {
   "cell_type": "code",
   "execution_count": 1,
   "metadata": {},
   "outputs": [],
   "source": [
    "import pandas as pd\n",
    "import numpy as np\n",
    "import scipy.stats\n",
    "import plotly.express as px\n",
    "import matplotlib\n",
    "import matplotlib.pyplot as plt\n",
    "import seaborn as sns"
   ]
  },
  {
   "cell_type": "code",
   "execution_count": 2,
   "metadata": {},
   "outputs": [
    {
     "data": {
      "text/plain": [
       "Listing ID                             object\n",
       "Name                                   object\n",
       "Host ID                                object\n",
       "Host Name                              object\n",
       "Host Response Rate                    float64\n",
       "Host Is Superhost                        bool\n",
       "Host total listings count             float64\n",
       "Country                                object\n",
       "latitude                              float64\n",
       "longitude                             float64\n",
       "Property type                          object\n",
       "Room type                              object\n",
       "Accommodates                            int64\n",
       "Bathrooms                             float64\n",
       "Bedrooms                              float64\n",
       "Amenities                              object\n",
       "Price                                 float64\n",
       "Minimum nights                          int64\n",
       "Maximum nights                          int64\n",
       "Availability 365                        int64\n",
       "Calendar last scraped          datetime64[ns]\n",
       "Number of reviews                       int64\n",
       "Last Review Date               datetime64[ns]\n",
       "Review_Scores_Rating                  float64\n",
       "Review Scores Accuracy                float64\n",
       "Review Scores Cleanliness             float64\n",
       "Review Scores Checkin                 float64\n",
       "Review Scores Communication           float64\n",
       "Review Scores Location                float64\n",
       "Review Scores Value                   float64\n",
       "Reviews per month                     float64\n",
       "Amenity_Count                           int64\n",
       "Country_Average                       float64\n",
       "Normalized                            float64\n",
       "dtype: object"
      ]
     },
     "execution_count": 2,
     "metadata": {},
     "output_type": "execute_result"
    }
   ],
   "source": [
    "df=pd.read_pickle(\"C:/Users/User/1Ironhack/DATA/Visualising_Real_Time_Data_Project/airbnb_listings_price_normalized.pkl\")\n",
    "df = df.rename(columns={\"Review Scores Rating\": \"Review_Scores_Rating\"})\n",
    "df.dtypes"
   ]
  },
  {
   "cell_type": "code",
   "execution_count": 3,
   "metadata": {},
   "outputs": [],
   "source": [
    "# Inspecting the distribution of the 'Amenity_Count' column"
   ]
  },
  {
   "cell_type": "code",
   "execution_count": 4,
   "metadata": {},
   "outputs": [
    {
     "data": {
      "text/plain": [
       "count    380224.000000\n",
       "mean         16.109599\n",
       "std           6.280906\n",
       "min           1.000000\n",
       "25%          12.000000\n",
       "50%          15.000000\n",
       "75%          20.000000\n",
       "max          87.000000\n",
       "Name: Amenity_Count, dtype: float64"
      ]
     },
     "execution_count": 4,
     "metadata": {},
     "output_type": "execute_result"
    }
   ],
   "source": [
    "df['Amenity_Count'].describe()"
   ]
  },
  {
   "cell_type": "code",
   "execution_count": 5,
   "metadata": {},
   "outputs": [
    {
     "data": {
      "text/plain": [
       "0    14\n",
       "dtype: int64"
      ]
     },
     "execution_count": 5,
     "metadata": {},
     "output_type": "execute_result"
    }
   ],
   "source": [
    "df['Amenity_Count'].mode()"
   ]
  },
  {
   "cell_type": "code",
   "execution_count": 6,
   "metadata": {},
   "outputs": [
    {
     "data": {
      "image/png": "[encoded data removed]",
      "text/plain": [
       "<Figure size 432x288 with 1 Axes>"
      ]
     },
     "metadata": {
      "needs_background": "light"
     },
     "output_type": "display_data"
    }
   ],
   "source": [
    "df.boxplot(column='Amenity_Count');"
   ]
  },
  {
   "cell_type": "markdown",
   "metadata": {},
   "source": [
    "### How are the number of amenities per listing distributed?\n",
    "* The average number of amenities for the listings with reviews is 16.\n",
    "* The median is 15 amenities.\n",
    "* The most common number of amenities (mode) is 14.\n",
    "* The maximum number of amenities is 87.\n",
    "* Only 25% of the listings have more than 19 amenities though.\n",
    "* The IQR ist 8.\n",
    "* Outliers are usually defined at 1.5 x IQR for both, the areas below the 25 percentile and above the 75 percentile.\n",
    "* In our case this would define outliers as all above 32 and none on the low end.\n",
    "* We chose to cut the outliers at 30 which represents 97.5% of total listings."
   ]
  },
  {
   "cell_type": "code",
   "execution_count": 44,
   "metadata": {},
   "outputs": [],
   "source": [
    "# Inspecting the distribution of the 'Review_Scores_Rating' column"
   ]
  },
  {
   "cell_type": "code",
   "execution_count": 45,
   "metadata": {},
   "outputs": [
    {
     "data": {
      "text/plain": [
       "count    380224.000000\n",
       "mean         93.088024\n",
       "std           8.373247\n",
       "min          20.000000\n",
       "25%          90.000000\n",
       "50%          95.000000\n",
       "75%         100.000000\n",
       "max         100.000000\n",
       "Name: Review_Scores_Rating, dtype: float64"
      ]
     },
     "execution_count": 45,
     "metadata": {},
     "output_type": "execute_result"
    }
   ],
   "source": [
    "df['Review_Scores_Rating'].describe()"
   ]
  },
  {
   "cell_type": "code",
   "execution_count": 46,
   "metadata": {},
   "outputs": [
    {
     "data": {
      "text/plain": [
       "0    100.0\n",
       "dtype: float64"
      ]
     },
     "execution_count": 46,
     "metadata": {},
     "output_type": "execute_result"
    }
   ],
   "source": [
    "df['Review_Scores_Rating'].mode()"
   ]
  },
  {
   "cell_type": "code",
   "execution_count": 47,
   "metadata": {},
   "outputs": [
    {
     "data": {
      "image/png": "[encoded data removed]",
      "text/plain": [
       "<Figure size 432x288 with 1 Axes>"
      ]
     },
     "metadata": {
      "needs_background": "light"
     },
     "output_type": "display_data"
    }
   ],
   "source": [
    "df.boxplot(column='Review_Scores_Rating');"
   ]
  },
  {
   "cell_type": "code",
   "execution_count": 11,
   "metadata": {},
   "outputs": [
    {
     "data": {
      "text/plain": [
       "80.0"
      ]
     },
     "execution_count": 11,
     "metadata": {},
     "output_type": "execute_result"
    }
   ],
   "source": [
    "df['Review_Scores_Rating'].quantile(.08)"
   ]
  },
  {
   "cell_type": "code",
   "execution_count": 12,
   "metadata": {},
   "outputs": [
    {
     "data": {
      "text/plain": [
       "75.0"
      ]
     },
     "execution_count": 12,
     "metadata": {},
     "output_type": "execute_result"
    }
   ],
   "source": [
    "df['Review_Scores_Rating'].quantile(.03)"
   ]
  },
  {
   "cell_type": "markdown",
   "metadata": {},
   "source": [
    "### How are the Review Score Ratings distributed?\n",
    "* The average review score rating for all listings is 93.\n",
    "* The median is 95.\n",
    "* The most common review score rating (mode) is falling together with maximum review score rating of 100.\n",
    "* The IQR for this distribution is 10.\n",
    "* At 1.5 x IQR, outliers are review score ratings below 75 and none at the high end.\n",
    "* Only 25% of the review score ratings are below 90.\n",
    "* Only 8% of the review score ratings are below 80.\n",
    "* Only 3% of the review scores are below 75."
   ]
  },
  {
   "cell_type": "markdown",
   "metadata": {},
   "source": [
    "### Taking all of this into account, the Review Score Ratings distribution is heavily skewed and may not be best suited for further anlysis. So we want to include other veriables as well, when looking at the affect of the amenity counts."
   ]
  },
  {
   "cell_type": "code",
   "execution_count": 13,
   "metadata": {},
   "outputs": [
    {
     "data": {
      "image/png": "[encoded data removed]",
      "text/plain": [
       "<Figure size 432x288 with 1 Axes>"
      ]
     },
     "metadata": {
      "needs_background": "light"
     },
     "output_type": "display_data"
    }
   ],
   "source": [
    "df.boxplot(column='Review_Scores_Rating');"
   ]
  },
  {
   "cell_type": "code",
   "execution_count": 49,
   "metadata": {},
   "outputs": [
    {
     "data": {
      "text/html": [
       "<div>\n",
       "<style scoped>\n",
       "    .dataframe tbody tr th:only-of-type {\n",
       "        vertical-align: middle;\n",
       "    }\n",
       "\n",
       "    .dataframe tbody tr th {\n",
       "        vertical-align: top;\n",
       "    }\n",
       "\n",
       "    .dataframe thead th {\n",
       "        text-align: right;\n",
       "    }\n",
       "</style>\n",
       "<table border=\"1\" class=\"dataframe\">\n",
       "  <thead>\n",
       "    <tr style=\"text-align: right;\">\n",
       "      <th></th>\n",
       "      <th>Amenity_Count</th>\n",
       "      <th>Avg_Rating</th>\n",
       "      <th>#of_listings</th>\n",
       "      <th>Normalized</th>\n",
       "      <th>Reviews per month</th>\n",
       "      <th>avg_monthly_review_per_listing</th>\n",
       "    </tr>\n",
       "  </thead>\n",
       "  <tbody>\n",
       "    <tr>\n",
       "      <td>0</td>\n",
       "      <td>1</td>\n",
       "      <td>90.033854</td>\n",
       "      <td>384</td>\n",
       "      <td>0.847494</td>\n",
       "      <td>468.39</td>\n",
       "      <td>1.219766</td>\n",
       "    </tr>\n",
       "    <tr>\n",
       "      <td>1</td>\n",
       "      <td>2</td>\n",
       "      <td>91.492696</td>\n",
       "      <td>753</td>\n",
       "      <td>0.705259</td>\n",
       "      <td>869.17</td>\n",
       "      <td>1.154276</td>\n",
       "    </tr>\n",
       "    <tr>\n",
       "      <td>2</td>\n",
       "      <td>3</td>\n",
       "      <td>89.775815</td>\n",
       "      <td>736</td>\n",
       "      <td>0.728585</td>\n",
       "      <td>699.20</td>\n",
       "      <td>0.950000</td>\n",
       "    </tr>\n",
       "    <tr>\n",
       "      <td>3</td>\n",
       "      <td>4</td>\n",
       "      <td>88.804615</td>\n",
       "      <td>1300</td>\n",
       "      <td>0.696258</td>\n",
       "      <td>1323.10</td>\n",
       "      <td>1.017769</td>\n",
       "    </tr>\n",
       "    <tr>\n",
       "      <td>4</td>\n",
       "      <td>5</td>\n",
       "      <td>89.317055</td>\n",
       "      <td>2703</td>\n",
       "      <td>0.734130</td>\n",
       "      <td>2617.35</td>\n",
       "      <td>0.968313</td>\n",
       "    </tr>\n",
       "    <tr>\n",
       "      <td>...</td>\n",
       "      <td>...</td>\n",
       "      <td>...</td>\n",
       "      <td>...</td>\n",
       "      <td>...</td>\n",
       "      <td>...</td>\n",
       "      <td>...</td>\n",
       "    </tr>\n",
       "    <tr>\n",
       "      <td>73</td>\n",
       "      <td>75</td>\n",
       "      <td>95.000000</td>\n",
       "      <td>1</td>\n",
       "      <td>1.015211</td>\n",
       "      <td>1.70</td>\n",
       "      <td>1.700000</td>\n",
       "    </tr>\n",
       "    <tr>\n",
       "      <td>74</td>\n",
       "      <td>76</td>\n",
       "      <td>96.000000</td>\n",
       "      <td>1</td>\n",
       "      <td>1.840916</td>\n",
       "      <td>3.38</td>\n",
       "      <td>3.380000</td>\n",
       "    </tr>\n",
       "    <tr>\n",
       "      <td>75</td>\n",
       "      <td>77</td>\n",
       "      <td>98.000000</td>\n",
       "      <td>1</td>\n",
       "      <td>2.030422</td>\n",
       "      <td>5.63</td>\n",
       "      <td>5.630000</td>\n",
       "    </tr>\n",
       "    <tr>\n",
       "      <td>76</td>\n",
       "      <td>81</td>\n",
       "      <td>99.000000</td>\n",
       "      <td>1</td>\n",
       "      <td>4.422198</td>\n",
       "      <td>3.33</td>\n",
       "      <td>3.330000</td>\n",
       "    </tr>\n",
       "    <tr>\n",
       "      <td>77</td>\n",
       "      <td>87</td>\n",
       "      <td>100.000000</td>\n",
       "      <td>2</td>\n",
       "      <td>2.336714</td>\n",
       "      <td>10.51</td>\n",
       "      <td>5.255000</td>\n",
       "    </tr>\n",
       "  </tbody>\n",
       "</table>\n",
       "<p>78 rows × 6 columns</p>\n",
       "</div>"
      ],
      "text/plain": [
       "    Amenity_Count  Avg_Rating  #of_listings  Normalized  Reviews per month  \\\n",
       "0               1   90.033854           384    0.847494             468.39   \n",
       "1               2   91.492696           753    0.705259             869.17   \n",
       "2               3   89.775815           736    0.728585             699.20   \n",
       "3               4   88.804615          1300    0.696258            1323.10   \n",
       "4               5   89.317055          2703    0.734130            2617.35   \n",
       "..            ...         ...           ...         ...                ...   \n",
       "73             75   95.000000             1    1.015211               1.70   \n",
       "74             76   96.000000             1    1.840916               3.38   \n",
       "75             77   98.000000             1    2.030422               5.63   \n",
       "76             81   99.000000             1    4.422198               3.33   \n",
       "77             87  100.000000             2    2.336714              10.51   \n",
       "\n",
       "    avg_monthly_review_per_listing  \n",
       "0                         1.219766  \n",
       "1                         1.154276  \n",
       "2                         0.950000  \n",
       "3                         1.017769  \n",
       "4                         0.968313  \n",
       "..                             ...  \n",
       "73                        1.700000  \n",
       "74                        3.380000  \n",
       "75                        5.630000  \n",
       "76                        3.330000  \n",
       "77                        5.255000  \n",
       "\n",
       "[78 rows x 6 columns]"
      ]
     },
     "execution_count": 49,
     "metadata": {},
     "output_type": "execute_result"
    }
   ],
   "source": [
    "# creating a new datset just with amenity count, review score rating, rating count and normalized, which is the price divided by the country average price\n",
    "df1=df.groupby('Amenity_Count').agg({'Review_Scores_Rating' : 'mean'})\n",
    "df2=df.groupby('Amenity_Count').agg({'Review_Scores_Rating' : 'count'})\n",
    "df2a=df1.merge(df2, on=\"Amenity_Count\")\n",
    "df2b=df.groupby('Amenity_Count').agg({'Normalized' : 'mean'})\n",
    "df2c=df.groupby('Amenity_Count').agg({'Reviews per month' : 'sum'})\n",
    "\n",
    "df3a=df2a.merge(df2b, on='Amenity_Count')\n",
    "df3b= df3a.merge(df2c, on= 'Amenity_Count')\n",
    "df3 = df3b.assign(avg_monthly_review_per_listing=(df3b['Reviews per month']/df3b['Review_Scores_Rating_y']))              \n",
    "#renaming column names\n",
    "df4=df3.rename(columns={\"Review_Scores_Rating_y\": \"#of_listings\", \"Review_Scores_Rating_x\": \"Avg_Rating\"})\n",
    "df4.reset_index(inplace=True)\n",
    "df4"
   ]
  },
  {
   "cell_type": "markdown",
   "metadata": {},
   "source": [
    "### In average, which review scores match the specific number of amenities offered ?"
   ]
  },
  {
   "cell_type": "code",
   "execution_count": 50,
   "metadata": {},
   "outputs": [
    {
     "data": {
      "image/png": "[encoded data removed]",
      "text/plain": [
       "<Figure size 720x432 with 1 Axes>"
      ]
     },
     "metadata": {
      "needs_background": "light"
     },
     "output_type": "display_data"
    }
   ],
   "source": [
    "fig, ax = plt.subplots(figsize=(10,6))\n",
    "ax=sns.lineplot(data=df4, x='Amenity_Count', y='Avg_Rating');"
   ]
  },
  {
   "cell_type": "markdown",
   "metadata": {},
   "source": [
    "### Review Scores for outlying amenities vary greatly!\n",
    "* Is this variation for outliers caused by dimishing numbers of reviews for higher amenity count?"
   ]
  },
  {
   "cell_type": "code",
   "execution_count": 17,
   "metadata": {},
   "outputs": [],
   "source": [
    "# Inspecting the distribution of the '#of_listings' column"
   ]
  },
  {
   "cell_type": "code",
   "execution_count": 18,
   "metadata": {},
   "outputs": [
    {
     "data": {
      "text/plain": [
       "count       78.000000\n",
       "mean      4874.666667\n",
       "std       8392.931491\n",
       "min          1.000000\n",
       "25%         19.750000\n",
       "50%        391.500000\n",
       "75%       4850.000000\n",
       "max      27233.000000\n",
       "Name: #of_listings, dtype: float64"
      ]
     },
     "execution_count": 18,
     "metadata": {},
     "output_type": "execute_result"
    }
   ],
   "source": [
    "df4['#of_listings'].describe()"
   ]
  },
  {
   "cell_type": "code",
   "execution_count": 19,
   "metadata": {},
   "outputs": [
    {
     "data": {
      "image/png": "[encoded data removed]",
      "text/plain": [
       "<Figure size 432x288 with 1 Axes>"
      ]
     },
     "metadata": {
      "needs_background": "light"
     },
     "output_type": "display_data"
    }
   ],
   "source": [
    "df4.boxplot(column='#of_listings');"
   ]
  },
  {
   "cell_type": "markdown",
   "metadata": {},
   "source": [
    "### How are the Rating_Count numbers distributed  in our new  table of aggregates?\n",
    "* The average Rating_Count per Amenity_Count reviewed is 4875\n",
    "* The median is 392.\n",
    "* The maximum number for Rating_Count is 27233.\n",
    "* The IQR is 4830.25.\n",
    "* Outliers are usually defined at 1.5 x IQR both, below the 25 percentile and above the 75 percentile.\n",
    "* In our case this would define outliers as all above 12095 none on the low end."
   ]
  },
  {
   "cell_type": "markdown",
   "metadata": {},
   "source": [
    "### Is this a good representation of whats actually happening ? \n",
    "* For airbnb hosts a high number of ratings is actually a very attractive asset to have, as it accounts for popularity of his offering."
   ]
  },
  {
   "cell_type": "markdown",
   "metadata": {},
   "source": [
    "#### Lets find out, how many listings are showing what specific number of amenities ? "
   ]
  },
  {
   "cell_type": "code",
   "execution_count": 21,
   "metadata": {},
   "outputs": [
    {
     "data": {
      "image/png": "[encoded data removed]",
      "text/plain": [
       "<Figure size 432x288 with 1 Axes>"
      ]
     },
     "metadata": {
      "needs_background": "light"
     },
     "output_type": "display_data"
    }
   ],
   "source": [
    "df4.plot(x='Amenity_Count', y='#of_listings');"
   ]
  },
  {
   "cell_type": "code",
   "execution_count": 51,
   "metadata": {},
   "outputs": [
    {
     "data": {
      "text/plain": [
       "Amenity_Count                        14.000000\n",
       "Avg_Rating                           92.719164\n",
       "#of_listings                      27233.000000\n",
       "Normalized                            0.947455\n",
       "Reviews per month                 37791.810000\n",
       "avg_monthly_review_per_listing        1.387721\n",
       "Name: 13, dtype: float64"
      ]
     },
     "execution_count": 51,
     "metadata": {},
     "output_type": "execute_result"
    }
   ],
   "source": [
    "df4.loc[df4['#of_listings'].idxmax()]"
   ]
  },
  {
   "cell_type": "markdown",
   "metadata": {},
   "source": [
    "### The largest group of listings has an amenity count of 14 and is 27233 listings strong. \n",
    "* The most popular listings by amenity count form a bell curve. \n",
    "* A long tail begins between 28 and 32 amenities. \n",
    "* The number of listings for amenity beyond 30 are comparably low and decreases to 1."
   ]
  },
  {
   "cell_type": "markdown",
   "metadata": {},
   "source": [
    "#### In order to exclude outliers it is therefore feasable to set a cut-off-value for the number of amenities at 30."
   ]
  },
  {
   "cell_type": "code",
   "execution_count": 52,
   "metadata": {},
   "outputs": [],
   "source": [
    "# eliminating amenity counts greater 30 \n",
    "df5=df4[df4.Amenity_Count<=30]"
   ]
  },
  {
   "cell_type": "code",
   "execution_count": 24,
   "metadata": {},
   "outputs": [
    {
     "data": {
      "image/png": "[encoded data removed]",
      "text/plain": [
       "<Figure size 432x288 with 1 Axes>"
      ]
     },
     "metadata": {
      "needs_background": "light"
     },
     "output_type": "display_data"
    }
   ],
   "source": [
    "# plotting the average rating as a relationship with number of Amenities offered\n",
    "df5.plot(x='Amenity_Count', y='Avg_Rating');"
   ]
  },
  {
   "cell_type": "code",
   "execution_count": 25,
   "metadata": {},
   "outputs": [
    {
     "data": {
      "text/plain": [
       "Amenity_Count                       28.000000\n",
       "Avg_Rating                          95.457209\n",
       "#of_listings                      2594.000000\n",
       "Normalized                           1.208381\n",
       "Reviews per month                 6450.870000\n",
       "avg_monthly_review_per_listing       2.486843\n",
       "Name: 27, dtype: float64"
      ]
     },
     "execution_count": 25,
     "metadata": {},
     "output_type": "execute_result"
    }
   ],
   "source": [
    "df5.loc[df5['Avg_Rating'].idxmax()]"
   ]
  },
  {
   "cell_type": "markdown",
   "metadata": {},
   "source": [
    "### after an initial slump between 1 to 4, the average rating thereafter increases steadily to a maximum of 95.45 at 28 amenities"
   ]
  },
  {
   "cell_type": "markdown",
   "metadata": {},
   "source": [
    "#### We need to find out what at what rate/ slope thisa increase takes place"
   ]
  },
  {
   "cell_type": "code",
   "execution_count": null,
   "metadata": {},
   "outputs": [],
   "source": [
    "Linear regression on amenity count <30 vs ratings"
   ]
  },
  {
   "cell_type": "code",
   "execution_count": null,
   "metadata": {},
   "outputs": [],
   "source": [
    "sns.regplot(x='Amenity_Count', y='Avg_Rating', data=df5);"
   ]
  },
  {
   "cell_type": "code",
   "execution_count": 54,
   "metadata": {},
   "outputs": [
    {
     "data": {
      "text/plain": [
       "0.23439103658036609"
      ]
     },
     "execution_count": 54,
     "metadata": {},
     "output_type": "execute_result"
    }
   ],
   "source": [
    "x=df5['Amenity_Count']\n",
    "y=df5['Avg_Rating']\n",
    "result = scipy.stats.linregress(x, y)\n",
    "result.slope"
   ]
  },
  {
   "cell_type": "markdown",
   "metadata": {},
   "source": [
    "#### The slope is 0.2344. With each amenity I add, my rating in average increases by 0.2344."
   ]
  },
  {
   "cell_type": "code",
   "execution_count": 55,
   "metadata": {},
   "outputs": [
    {
     "data": {
      "text/plain": [
       "0.959843094388523"
      ]
     },
     "execution_count": 55,
     "metadata": {},
     "output_type": "execute_result"
    }
   ],
   "source": [
    "result.rvalue"
   ]
  },
  {
   "cell_type": "markdown",
   "metadata": {},
   "source": [
    "#### The R-value at about 0.96 shows a strong positive linear relationship beween the two variables."
   ]
  },
  {
   "cell_type": "code",
   "execution_count": 56,
   "metadata": {},
   "outputs": [
    {
     "data": {
      "text/plain": [
       "5.429964583811403e-17"
      ]
     },
     "execution_count": 56,
     "metadata": {},
     "output_type": "execute_result"
    }
   ],
   "source": [
    "result.pvalue"
   ]
  },
  {
   "cell_type": "markdown",
   "metadata": {},
   "source": [
    "#### The very small p-value < 0.05 indicates strong evidence against the null hypothesis, so we reject the null hypothesis that there is no relationship between number of amenities offered up to the value of 30 and the average rating achieved."
   ]
  },
  {
   "cell_type": "code",
   "execution_count": 31,
   "metadata": {},
   "outputs": [
    {
     "data": {
      "image/png": "[encoded data removed]",
      "text/plain": [
       "<Figure size 432x288 with 1 Axes>"
      ]
     },
     "metadata": {
      "needs_background": "light"
     },
     "output_type": "display_data"
    }
   ],
   "source": []
  },
  {
   "cell_type": "markdown",
   "metadata": {},
   "source": [
    "### Inspect the relationship of listings with more than 30 amenities and their respective review score rating."
   ]
  },
  {
   "cell_type": "code",
   "execution_count": 57,
   "metadata": {},
   "outputs": [],
   "source": [
    "# eliminating amenity counts with 30 or less\n",
    "df6=df4[df4.Amenity_Count>30]"
   ]
  },
  {
   "cell_type": "code",
   "execution_count": 58,
   "metadata": {},
   "outputs": [
    {
     "data": {
      "image/png": "[encoded data removed]",
      "text/plain": [
       "<Figure size 432x288 with 1 Axes>"
      ]
     },
     "metadata": {
      "needs_background": "light"
     },
     "output_type": "display_data"
    }
   ],
   "source": [
    "df6.plot(x='Amenity_Count', y='Avg_Rating');"
   ]
  },
  {
   "cell_type": "markdown",
   "metadata": {},
   "source": [
    "* Linear regression on listings with Amenity_Count >30 vs their Avg_Rating"
   ]
  },
  {
   "cell_type": "code",
   "execution_count": 61,
   "metadata": {},
   "outputs": [
    {
     "data": {
      "image/png": "[encoded data removed]",
      "text/plain": [
       "<Figure size 432x288 with 1 Axes>"
      ]
     },
     "metadata": {
      "needs_background": "light"
     },
     "output_type": "display_data"
    }
   ],
   "source": [
    "sns.regplot(x='Amenity_Count', y='Avg_Rating', data=df6);"
   ]
  },
  {
   "cell_type": "code",
   "execution_count": 59,
   "metadata": {
    "scrolled": true
   },
   "outputs": [
    {
     "data": {
      "text/plain": [
       "Amenity_Count                      87.000000\n",
       "Avg_Rating                        100.000000\n",
       "#of_listings                        2.000000\n",
       "Normalized                          2.336714\n",
       "Reviews per month                  10.510000\n",
       "avg_monthly_review_per_listing      5.255000\n",
       "Name: 77, dtype: float64"
      ]
     },
     "execution_count": 59,
     "metadata": {},
     "output_type": "execute_result"
    }
   ],
   "source": [
    "# Inspecting the maximum Avg_Rating for Amenity Counts > 30\n",
    "df6.loc[df6['Avg_Rating'].idxmax()]"
   ]
  },
  {
   "cell_type": "markdown",
   "metadata": {},
   "source": [
    "We know from previous analysis that about 25% of all ratings are at 100.\n",
    "In this distribution the average rating maximum lieas at 100 and it coincides with the maximum number of 87 amenities. For this combination we only find 2 listings associated with it though, which explains the high average.\n"
   ]
  },
  {
   "cell_type": "code",
   "execution_count": 37,
   "metadata": {},
   "outputs": [
    {
     "data": {
      "text/plain": [
       "0.24700270082420997"
      ]
     },
     "execution_count": 37,
     "metadata": {},
     "output_type": "execute_result"
    }
   ],
   "source": [
    "result.rvalue"
   ]
  },
  {
   "cell_type": "markdown",
   "metadata": {},
   "source": [
    "#### The low R-value shows that there is only a very weak positive linear relationship beween the two variables."
   ]
  },
  {
   "cell_type": "code",
   "execution_count": 38,
   "metadata": {},
   "outputs": [
    {
     "data": {
      "text/plain": [
       "0.09054824024827367"
      ]
     },
     "execution_count": 38,
     "metadata": {},
     "output_type": "execute_result"
    }
   ],
   "source": [
    "result.pvalue"
   ]
  },
  {
   "cell_type": "markdown",
   "metadata": {},
   "source": [
    "#### The  p-value  of 0.09 indicates no evidence against the null hypothesis, so we can't reject the null hypothesis that there is no relationship between number of amenities offered more than 30 and the average rating achieved."
   ]
  },
  {
   "cell_type": "code",
   "execution_count": 62,
   "metadata": {},
   "outputs": [
    {
     "data": {
      "text/plain": [
       "0.024576173976777384"
      ]
     },
     "execution_count": 62,
     "metadata": {},
     "output_type": "execute_result"
    }
   ],
   "source": [
    "x=df6['Amenity_Count']\n",
    "y=df6['Avg_Rating']\n",
    "result = scipy.stats.linregress(x, y)\n",
    "result.slope"
   ]
  },
  {
   "cell_type": "code",
   "execution_count": null,
   "metadata": {},
   "outputs": [],
   "source": [
    "#### Given the very weak relationship the slope is actually of not much importance. Would there be a stronger relationship, one could argue that with each increase in amenities a better average rating of 0.024 is associated."
   ]
  },
  {
   "cell_type": "markdown",
   "metadata": {},
   "source": [
    "### We want to look at the full picture with a graph that can visualize multiple dimensions at once."
   ]
  },
  {
   "cell_type": "markdown",
   "metadata": {},
   "source": [
    "Employing plotly we can view simultaneously:\n",
    "    * Amenity Count\n",
    "    * Average Rating of amenity count group\n",
    "    * # of listings per amenity count group\n",
    "    * price normalized by country average (color)\n",
    "    * monthly avg # of reviews per listing in the amenity count group(size)"
   ]
  },
  {
   "cell_type": "code",
   "execution_count": 64,
   "metadata": {},
   "outputs": [
    {
     "data": {
      "application/vnd.plotly.v1+json": {
       "config": {
        "plotlyServerURL": "https://plot.ly"
       },
       "data": [
        {
         "hovertemplate": "Amenity_Count=%{x}<br>Avg_Rating=%{y}<br>#of_listings=%{z}<br>avg_monthly_review_per_listing=%{marker.size}<br>Normalized=%{marker.color}<extra></extra>",
         "legendgroup": "",
         "marker": {
          "color": [
           0.8474935977325807,
           0.7052591567287914,
           0.728585055788094,
           0.6962583341558302,
           0.7341295229215775,
           0.7534319473196511,
           0.7710426171741641,
           0.8019382729178415,
           0.8331294613037631,
           0.8543206238478018,
           0.8808205357879514,
           0.8983086455602842,
           0.9249166367986765,
           0.9474549387107205,
           0.9750664319803551,
           1.0009999597432677,
           1.0233895460907574,
           1.0456455289443312,
           1.0799570306530788,
           1.1157088040731227,
           1.1442828188066112,
           1.1801169923770782,
           1.1810462470564733,
           1.218249960326601,
           1.2254462704120281,
           1.2472831505310935,
           1.29119847732637,
           1.2083813458099144,
           1.239603410316923,
           1.3036018457882548,
           1.202047624042228,
           1.250511869954611,
           1.2219894676222107,
           1.241121474232243,
           1.2890824692030587,
           1.263341718348359,
           1.2248743494235192,
           1.2857970267152776,
           1.3285543394742203,
           1.4198369800846655,
           1.3687238432853213,
           1.3692974561208144,
           1.3047139007846384,
           1.5024689323227598,
           1.2699291289614156,
           1.5720218392074374,
           1.4008294780480155,
           1.3487705942825126,
           1.491239398307181,
           1.5106324697728406,
           1.2915387366949018,
           1.385709461928131,
           1.860833715195824,
           1.2333350266408354,
           1.6552668115439326,
           1.4623644488411636,
           1.5341418140137966,
           1.2515029199888932,
           1.0066205243425939,
           1.4538791483149451,
           1.1886671334960943,
           2.1373046835151057,
           1.832429015335714,
           1.3746185551496162,
           2.6034198589869684,
           0.26395487559256814,
           2.951288884227435,
           1.463571542212278,
           1.2114851982325563,
           1.36715089409484,
           1.271153579303018,
           0.5555887558534944,
           1.2994701567634124,
           1.015211059971416,
           1.840916055414834,
           2.030422119942832,
           4.422197954157852,
           2.3367139853224774
          ],
          "coloraxis": "coloraxis",
          "size": [
           1.2197656249999993,
           1.154276228419656,
           0.9499999999999984,
           1.017769230769229,
           0.9683129855715844,
           0.9446623138135107,
           0.9879248910535783,
           1.000561153578881,
           1.0726410776172084,
           1.1345515436944063,
           1.2020926114480581,
           1.2604653437105349,
           1.3280253310305257,
           1.3877211471376596,
           1.4870522650664928,
           1.5536538238590203,
           1.6344347114203952,
           1.699919494729346,
           1.7774486587403053,
           1.8619961817058803,
           1.992618028534379,
           2.0575603237629867,
           2.2258323069635324,
           2.288183661299937,
           2.353806271344295,
           2.4742878433042343,
           2.478598561151082,
           2.4868427139552822,
           2.5799640287769776,
           2.5121868916288137,
           2.7101963993453393,
           2.6018405511811027,
           2.6137155963302763,
           2.7130338541666688,
           2.647241887905606,
           2.749288079470201,
           2.5985028790786933,
           2.83437627811861,
           2.618471177944861,
           2.5762094763092263,
           2.811073446327685,
           2.4969858156028386,
           2.807791164658636,
           2.7382710280373828,
           2.851595092024538,
           3.0772499999999994,
           2.8499145299145283,
           3.167603305785123,
           2.7788118811881186,
           2.4607228915662653,
           2.2039130434782614,
           2.522173913043478,
           2.558979591836735,
           4.118181818181818,
           2.618888888888888,
           2.519333333333334,
           3.1789285714285715,
           3.143333333333334,
           3.353,
           3.8829411764705877,
           4.162857142857143,
           1.654,
           3.399090909090909,
           2.3311111111111114,
           4.8950000000000005,
           1.23,
           2.065,
           3.0285714285714285,
           1.68,
           3.7649999999999997,
           3.97,
           3.88,
           1.99,
           1.7,
           3.38,
           5.63,
           3.33,
           5.255
          ],
          "sizemode": "area",
          "sizeref": 0.014074999999999999,
          "symbol": "circle"
         },
         "mode": "markers",
         "name": "",
         "scene": "scene",
         "showlegend": false,
         "type": "scatter3d",
         "x": [
          1,
          2,
          3,
          4,
          5,
          6,
          7,
          8,
          9,
          10,
          11,
          12,
          13,
          14,
          15,
          16,
          17,
          18,
          19,
          20,
          21,
          22,
          23,
          24,
          25,
          26,
          27,
          28,
          29,
          30,
          31,
          32,
          33,
          34,
          35,
          36,
          37,
          38,
          39,
          40,
          41,
          42,
          43,
          44,
          45,
          46,
          47,
          48,
          49,
          50,
          51,
          52,
          53,
          54,
          55,
          56,
          57,
          58,
          59,
          60,
          61,
          62,
          63,
          64,
          65,
          66,
          67,
          68,
          69,
          70,
          71,
          72,
          73,
          75,
          76,
          77,
          81,
          87
         ],
         "y": [
          90.03385416666667,
          91.49269588313413,
          89.7758152173913,
          88.80461538461539,
          89.31705512393637,
          89.96000816159967,
          90.50487054601385,
          90.693276580959,
          90.98574511214281,
          91.3913134484563,
          91.79463455664262,
          92.12122570392404,
          92.33179811936289,
          92.71916424925642,
          93.07219320665259,
          93.32932720176218,
          93.52468276708964,
          93.7509229195392,
          94.06151125085978,
          94.43416250210568,
          94.59007782101168,
          94.8069639584606,
          95.01563240170535,
          95.18938580799046,
          95.24681775846011,
          95.37853949329359,
          95.25410071942446,
          95.45720894371627,
          95.42908530318603,
          95.30110317975341,
          95.35679214402619,
          95.54330708661418,
          95.56192660550458,
          95.66276041666667,
          95.95722713864306,
          96.02317880794702,
          96.2130518234165,
          96.18609406952966,
          96.57393483709274,
          95.51870324189527,
          96.19774011299435,
          96.1418439716312,
          96.1726907630522,
          95.9392523364486,
          96.19018404907976,
          96.94166666666666,
          96.74358974358974,
          95.81818181818181,
          96.79207920792079,
          95.86746987951807,
          96.6231884057971,
          96.78260869565217,
          96.34693877551021,
          96.33333333333333,
          95.88888888888889,
          96.9,
          97.60714285714286,
          95.43333333333334,
          93,
          97.88235294117646,
          97.14285714285714,
          97.7,
          96,
          96.44444444444444,
          99,
          96,
          93,
          93.85714285714286,
          98,
          97.5,
          97.66666666666667,
          97,
          92,
          95,
          96,
          98,
          99,
          100
         ],
         "z": [
          384,
          753,
          736,
          1300,
          2703,
          4901,
          7802,
          11512,
          15293,
          19110,
          22589,
          24541,
          26055,
          27233,
          26997,
          25877,
          24430,
          22483,
          20354,
          17809,
          15420,
          13096,
          10555,
          8385,
          6442,
          4697,
          3475,
          2594,
          1946,
          1541,
          1222,
          1016,
          872,
          768,
          678,
          604,
          521,
          489,
          399,
          401,
          354,
          282,
          249,
          214,
          163,
          120,
          117,
          121,
          101,
          83,
          69,
          46,
          49,
          33,
          54,
          30,
          28,
          30,
          10,
          17,
          14,
          10,
          11,
          9,
          2,
          1,
          2,
          7,
          1,
          2,
          3,
          2,
          1,
          1,
          1,
          1,
          1,
          2
         ]
        }
       ],
       "layout": {
        "coloraxis": {
         "colorbar": {
          "title": {
           "text": "Normalized"
          }
         },
         "colorscale": [
          [
           0,
           "#0d0887"
          ],
          [
           0.1111111111111111,
           "#46039f"
          ],
          [
           0.2222222222222222,
           "#7201a8"
          ],
          [
           0.3333333333333333,
           "#9c179e"
          ],
          [
           0.4444444444444444,
           "#bd3786"
          ],
          [
           0.5555555555555556,
           "#d8576b"
          ],
          [
           0.6666666666666666,
           "#ed7953"
          ],
          [
           0.7777777777777778,
           "#fb9f3a"
          ],
          [
           0.8888888888888888,
           "#fdca26"
          ],
          [
           1,
           "#f0f921"
          ]
         ]
        },
        "legend": {
         "itemsizing": "constant",
         "tracegroupgap": 0
        },
        "margin": {
         "t": 60
        },
        "scene": {
         "domain": {
          "x": [
           0,
           1
          ],
          "y": [
           0,
           1
          ]
         },
         "xaxis": {
          "title": {
           "text": "Amenity_Count"
          }
         },
         "yaxis": {
          "title": {
           "text": "Avg_Rating"
          }
         },
         "zaxis": {
          "title": {
           "text": "#of_listings"
          }
         }
        },
        "template": {
         "data": {
          "bar": [
           {
            "error_x": {
             "color": "#2a3f5f"
            },
            "error_y": {
             "color": "#2a3f5f"
            },
            "marker": {
             "line": {
              "color": "#E5ECF6",
              "width": 0.5
             }
            },
            "type": "bar"
           }
          ],
          "barpolar": [
           {
            "marker": {
             "line": {
              "color": "#E5ECF6",
              "width": 0.5
             }
            },
            "type": "barpolar"
           }
          ],
          "carpet": [
           {
            "aaxis": {
             "endlinecolor": "#2a3f5f",
             "gridcolor": "white",
             "linecolor": "white",
             "minorgridcolor": "white",
             "startlinecolor": "#2a3f5f"
            },
            "baxis": {
             "endlinecolor": "#2a3f5f",
             "gridcolor": "white",
             "linecolor": "white",
             "minorgridcolor": "white",
             "startlinecolor": "#2a3f5f"
            },
            "type": "carpet"
           }
          ],
          "choropleth": [
           {
            "colorbar": {
             "outlinewidth": 0,
             "ticks": ""
            },
            "type": "choropleth"
           }
          ],
          "contour": [
           {
            "colorbar": {
             "outlinewidth": 0,
             "ticks": ""
            },
            "colorscale": [
             [
              0,
              "#0d0887"
             ],
             [
              0.1111111111111111,
              "#46039f"
             ],
             [
              0.2222222222222222,
              "#7201a8"
             ],
             [
              0.3333333333333333,
              "#9c179e"
             ],
             [
              0.4444444444444444,
              "#bd3786"
             ],
             [
              0.5555555555555556,
              "#d8576b"
             ],
             [
              0.6666666666666666,
              "#ed7953"
             ],
             [
              0.7777777777777778,
              "#fb9f3a"
             ],
             [
              0.8888888888888888,
              "#fdca26"
             ],
             [
              1,
              "#f0f921"
             ]
            ],
            "type": "contour"
           }
          ],
          "contourcarpet": [
           {
            "colorbar": {
             "outlinewidth": 0,
             "ticks": ""
            },
            "type": "contourcarpet"
           }
          ],
          "heatmap": [
           {
            "colorbar": {
             "outlinewidth": 0,
             "ticks": ""
            },
            "colorscale": [
             [
              0,
              "#0d0887"
             ],
             [
              0.1111111111111111,
              "#46039f"
             ],
             [
              0.2222222222222222,
              "#7201a8"
             ],
             [
              0.3333333333333333,
              "#9c179e"
             ],
             [
              0.4444444444444444,
              "#bd3786"
             ],
             [
              0.5555555555555556,
              "#d8576b"
             ],
             [
              0.6666666666666666,
              "#ed7953"
             ],
             [
              0.7777777777777778,
              "#fb9f3a"
             ],
             [
              0.8888888888888888,
              "#fdca26"
             ],
             [
              1,
              "#f0f921"
             ]
            ],
            "type": "heatmap"
           }
          ],
          "heatmapgl": [
           {
            "colorbar": {
             "outlinewidth": 0,
             "ticks": ""
            },
            "colorscale": [
             [
              0,
              "#0d0887"
             ],
             [
              0.1111111111111111,
              "#46039f"
             ],
             [
              0.2222222222222222,
              "#7201a8"
             ],
             [
              0.3333333333333333,
              "#9c179e"
             ],
             [
              0.4444444444444444,
              "#bd3786"
             ],
             [
              0.5555555555555556,
              "#d8576b"
             ],
             [
              0.6666666666666666,
              "#ed7953"
             ],
             [
              0.7777777777777778,
              "#fb9f3a"
             ],
             [
              0.8888888888888888,
              "#fdca26"
             ],
             [
              1,
              "#f0f921"
             ]
            ],
            "type": "heatmapgl"
           }
          ],
          "histogram": [
           {
            "marker": {
             "colorbar": {
              "outlinewidth": 0,
              "ticks": ""
             }
            },
            "type": "histogram"
           }
          ],
          "histogram2d": [
           {
            "colorbar": {
             "outlinewidth": 0,
             "ticks": ""
            },
            "colorscale": [
             [
              0,
              "#0d0887"
             ],
             [
              0.1111111111111111,
              "#46039f"
             ],
             [
              0.2222222222222222,
              "#7201a8"
             ],
             [
              0.3333333333333333,
              "#9c179e"
             ],
             [
              0.4444444444444444,
              "#bd3786"
             ],
             [
              0.5555555555555556,
              "#d8576b"
             ],
             [
              0.6666666666666666,
              "#ed7953"
             ],
             [
              0.7777777777777778,
              "#fb9f3a"
             ],
             [
              0.8888888888888888,
              "#fdca26"
             ],
             [
              1,
              "#f0f921"
             ]
            ],
            "type": "histogram2d"
           }
          ],
          "histogram2dcontour": [
           {
            "colorbar": {
             "outlinewidth": 0,
             "ticks": ""
            },
            "colorscale": [
             [
              0,
              "#0d0887"
             ],
             [
              0.1111111111111111,
              "#46039f"
             ],
             [
              0.2222222222222222,
              "#7201a8"
             ],
             [
              0.3333333333333333,
              "#9c179e"
             ],
             [
              0.4444444444444444,
              "#bd3786"
             ],
             [
              0.5555555555555556,
              "#d8576b"
             ],
             [
              0.6666666666666666,
              "#ed7953"
             ],
             [
              0.7777777777777778,
              "#fb9f3a"
             ],
             [
              0.8888888888888888,
              "#fdca26"
             ],
             [
              1,
              "#f0f921"
             ]
            ],
            "type": "histogram2dcontour"
           }
          ],
          "mesh3d": [
           {
            "colorbar": {
             "outlinewidth": 0,
             "ticks": ""
            },
            "type": "mesh3d"
           }
          ],
          "parcoords": [
           {
            "line": {
             "colorbar": {
              "outlinewidth": 0,
              "ticks": ""
             }
            },
            "type": "parcoords"
           }
          ],
          "pie": [
           {
            "automargin": true,
            "type": "pie"
           }
          ],
          "scatter": [
           {
            "marker": {
             "colorbar": {
              "outlinewidth": 0,
              "ticks": ""
             }
            },
            "type": "scatter"
           }
          ],
          "scatter3d": [
           {
            "line": {
             "colorbar": {
              "outlinewidth": 0,
              "ticks": ""
             }
            },
            "marker": {
             "colorbar": {
              "outlinewidth": 0,
              "ticks": ""
             }
            },
            "type": "scatter3d"
           }
          ],
          "scattercarpet": [
           {
            "marker": {
             "colorbar": {
              "outlinewidth": 0,
              "ticks": ""
             }
            },
            "type": "scattercarpet"
           }
          ],
          "scattergeo": [
           {
            "marker": {
             "colorbar": {
              "outlinewidth": 0,
              "ticks": ""
             }
            },
            "type": "scattergeo"
           }
          ],
          "scattergl": [
           {
            "marker": {
             "colorbar": {
              "outlinewidth": 0,
              "ticks": ""
             }
            },
            "type": "scattergl"
           }
          ],
          "scattermapbox": [
           {
            "marker": {
             "colorbar": {
              "outlinewidth": 0,
              "ticks": ""
             }
            },
            "type": "scattermapbox"
           }
          ],
          "scatterpolar": [
           {
            "marker": {
             "colorbar": {
              "outlinewidth": 0,
              "ticks": ""
             }
            },
            "type": "scatterpolar"
           }
          ],
          "scatterpolargl": [
           {
            "marker": {
             "colorbar": {
              "outlinewidth": 0,
              "ticks": ""
             }
            },
            "type": "scatterpolargl"
           }
          ],
          "scatterternary": [
           {
            "marker": {
             "colorbar": {
              "outlinewidth": 0,
              "ticks": ""
             }
            },
            "type": "scatterternary"
           }
          ],
          "surface": [
           {
            "colorbar": {
             "outlinewidth": 0,
             "ticks": ""
            },
            "colorscale": [
             [
              0,
              "#0d0887"
             ],
             [
              0.1111111111111111,
              "#46039f"
             ],
             [
              0.2222222222222222,
              "#7201a8"
             ],
             [
              0.3333333333333333,
              "#9c179e"
             ],
             [
              0.4444444444444444,
              "#bd3786"
             ],
             [
              0.5555555555555556,
              "#d8576b"
             ],
             [
              0.6666666666666666,
              "#ed7953"
             ],
             [
              0.7777777777777778,
              "#fb9f3a"
             ],
             [
              0.8888888888888888,
              "#fdca26"
             ],
             [
              1,
              "#f0f921"
             ]
            ],
            "type": "surface"
           }
          ],
          "table": [
           {
            "cells": {
             "fill": {
              "color": "#EBF0F8"
             },
             "line": {
              "color": "white"
             }
            },
            "header": {
             "fill": {
              "color": "#C8D4E3"
             },
             "line": {
              "color": "white"
             }
            },
            "type": "table"
           }
          ]
         },
         "layout": {
          "annotationdefaults": {
           "arrowcolor": "#2a3f5f",
           "arrowhead": 0,
           "arrowwidth": 1
          },
          "coloraxis": {
           "colorbar": {
            "outlinewidth": 0,
            "ticks": ""
           }
          },
          "colorscale": {
           "diverging": [
            [
             0,
             "#8e0152"
            ],
            [
             0.1,
             "#c51b7d"
            ],
            [
             0.2,
             "#de77ae"
            ],
            [
             0.3,
             "#f1b6da"
            ],
            [
             0.4,
             "#fde0ef"
            ],
            [
             0.5,
             "#f7f7f7"
            ],
            [
             0.6,
             "#e6f5d0"
            ],
            [
             0.7,
             "#b8e186"
            ],
            [
             0.8,
             "#7fbc41"
            ],
            [
             0.9,
             "#4d9221"
            ],
            [
             1,
             "#276419"
            ]
           ],
           "sequential": [
            [
             0,
             "#0d0887"
            ],
            [
             0.1111111111111111,
             "#46039f"
            ],
            [
             0.2222222222222222,
             "#7201a8"
            ],
            [
             0.3333333333333333,
             "#9c179e"
            ],
            [
             0.4444444444444444,
             "#bd3786"
            ],
            [
             0.5555555555555556,
             "#d8576b"
            ],
            [
             0.6666666666666666,
             "#ed7953"
            ],
            [
             0.7777777777777778,
             "#fb9f3a"
            ],
            [
             0.8888888888888888,
             "#fdca26"
            ],
            [
             1,
             "#f0f921"
            ]
           ],
           "sequentialminus": [
            [
             0,
             "#0d0887"
            ],
            [
             0.1111111111111111,
             "#46039f"
            ],
            [
             0.2222222222222222,
             "#7201a8"
            ],
            [
             0.3333333333333333,
             "#9c179e"
            ],
            [
             0.4444444444444444,
             "#bd3786"
            ],
            [
             0.5555555555555556,
             "#d8576b"
            ],
            [
             0.6666666666666666,
             "#ed7953"
            ],
            [
             0.7777777777777778,
             "#fb9f3a"
            ],
            [
             0.8888888888888888,
             "#fdca26"
            ],
            [
             1,
             "#f0f921"
            ]
           ]
          },
          "colorway": [
           "#636efa",
           "#EF553B",
           "#00cc96",
           "#ab63fa",
           "#FFA15A",
           "#19d3f3",
           "#FF6692",
           "#B6E880",
           "#FF97FF",
           "#FECB52"
          ],
          "font": {
           "color": "#2a3f5f"
          },
          "geo": {
           "bgcolor": "white",
           "lakecolor": "white",
           "landcolor": "#E5ECF6",
           "showlakes": true,
           "showland": true,
           "subunitcolor": "white"
          },
          "hoverlabel": {
           "align": "left"
          },
          "hovermode": "closest",
          "mapbox": {
           "style": "light"
          },
          "paper_bgcolor": "white",
          "plot_bgcolor": "#E5ECF6",
          "polar": {
           "angularaxis": {
            "gridcolor": "white",
            "linecolor": "white",
            "ticks": ""
           },
           "bgcolor": "#E5ECF6",
           "radialaxis": {
            "gridcolor": "white",
            "linecolor": "white",
            "ticks": ""
           }
          },
          "scene": {
           "xaxis": {
            "backgroundcolor": "#E5ECF6",
            "gridcolor": "white",
            "gridwidth": 2,
            "linecolor": "white",
            "showbackground": true,
            "ticks": "",
            "zerolinecolor": "white"
           },
           "yaxis": {
            "backgroundcolor": "#E5ECF6",
            "gridcolor": "white",
            "gridwidth": 2,
            "linecolor": "white",
            "showbackground": true,
            "ticks": "",
            "zerolinecolor": "white"
           },
           "zaxis": {
            "backgroundcolor": "#E5ECF6",
            "gridcolor": "white",
            "gridwidth": 2,
            "linecolor": "white",
            "showbackground": true,
            "ticks": "",
            "zerolinecolor": "white"
           }
          },
          "shapedefaults": {
           "line": {
            "color": "#2a3f5f"
           }
          },
          "ternary": {
           "aaxis": {
            "gridcolor": "white",
            "linecolor": "white",
            "ticks": ""
           },
           "baxis": {
            "gridcolor": "white",
            "linecolor": "white",
            "ticks": ""
           },
           "bgcolor": "#E5ECF6",
           "caxis": {
            "gridcolor": "white",
            "linecolor": "white",
            "ticks": ""
           }
          },
          "title": {
           "x": 0.05
          },
          "xaxis": {
           "automargin": true,
           "gridcolor": "white",
           "linecolor": "white",
           "ticks": "",
           "title": {
            "standoff": 15
           },
           "zerolinecolor": "white",
           "zerolinewidth": 2
          },
          "yaxis": {
           "automargin": true,
           "gridcolor": "white",
           "linecolor": "white",
           "ticks": "",
           "title": {
            "standoff": 15
           },
           "zerolinecolor": "white",
           "zerolinewidth": 2
          }
         }
        }
       }
      },
      "text/html": [
       "<div>\n",
       "        \n",
       "        \n",
       "            <div id=\"d491261d-604f-48d3-97de-9c253e82eb39\" class=\"plotly-graph-div\" style=\"height:525px; width:100%;\"></div>\n",
       "            <script type=\"text/javascript\">\n",
       "                require([\"plotly\"], function(Plotly) {\n",
       "                    window.PLOTLYENV=window.PLOTLYENV || {};\n",
       "                    \n",
       "                if (document.getElementById(\"d491261d-604f-48d3-97de-9c253e82eb39\")) {\n",
       "                    Plotly.newPlot(\n",
       "                        'd491261d-604f-48d3-97de-9c253e82eb39',\n",
       "                        [{\"hovertemplate\": \"Amenity_Count=%{x}<br>Avg_Rating=%{y}<br>#of_listings=%{z}<br>avg_monthly_review_per_listing=%{marker.size}<br>Normalized=%{marker.color}<extra></extra>\", \"legendgroup\": \"\", \"marker\": {\"color\": [0.8474935977325807, 0.7052591567287914, 0.728585055788094, 0.6962583341558302, 0.7341295229215775, 0.7534319473196511, 0.7710426171741641, 0.8019382729178415, 0.8331294613037631, 0.8543206238478018, 0.8808205357879514, 0.8983086455602842, 0.9249166367986765, 0.9474549387107205, 0.9750664319803551, 1.0009999597432677, 1.0233895460907574, 1.0456455289443312, 1.0799570306530788, 1.1157088040731227, 1.1442828188066112, 1.1801169923770782, 1.1810462470564733, 1.218249960326601, 1.2254462704120281, 1.2472831505310935, 1.29119847732637, 1.2083813458099144, 1.239603410316923, 1.3036018457882548, 1.202047624042228, 1.250511869954611, 1.2219894676222107, 1.241121474232243, 1.2890824692030587, 1.263341718348359, 1.2248743494235192, 1.2857970267152776, 1.3285543394742203, 1.4198369800846655, 1.3687238432853213, 1.3692974561208144, 1.3047139007846384, 1.5024689323227598, 1.2699291289614156, 1.5720218392074374, 1.4008294780480155, 1.3487705942825126, 1.491239398307181, 1.5106324697728406, 1.2915387366949018, 1.385709461928131, 1.860833715195824, 1.2333350266408354, 1.6552668115439326, 1.4623644488411636, 1.5341418140137966, 1.2515029199888932, 1.0066205243425939, 1.4538791483149451, 1.1886671334960943, 2.1373046835151057, 1.832429015335714, 1.3746185551496162, 2.6034198589869684, 0.26395487559256814, 2.951288884227435, 1.463571542212278, 1.2114851982325563, 1.36715089409484, 1.271153579303018, 0.5555887558534944, 1.2994701567634124, 1.015211059971416, 1.840916055414834, 2.030422119942832, 4.422197954157852, 2.3367139853224774], \"coloraxis\": \"coloraxis\", \"size\": [1.2197656249999993, 1.154276228419656, 0.9499999999999984, 1.017769230769229, 0.9683129855715844, 0.9446623138135107, 0.9879248910535783, 1.000561153578881, 1.0726410776172084, 1.1345515436944063, 1.2020926114480581, 1.2604653437105349, 1.3280253310305257, 1.3877211471376596, 1.4870522650664928, 1.5536538238590203, 1.6344347114203952, 1.699919494729346, 1.7774486587403053, 1.8619961817058803, 1.992618028534379, 2.0575603237629867, 2.2258323069635324, 2.288183661299937, 2.353806271344295, 2.4742878433042343, 2.478598561151082, 2.4868427139552822, 2.5799640287769776, 2.5121868916288137, 2.7101963993453393, 2.6018405511811027, 2.6137155963302763, 2.7130338541666688, 2.647241887905606, 2.749288079470201, 2.5985028790786933, 2.83437627811861, 2.618471177944861, 2.5762094763092263, 2.811073446327685, 2.4969858156028386, 2.807791164658636, 2.7382710280373828, 2.851595092024538, 3.0772499999999994, 2.8499145299145283, 3.167603305785123, 2.7788118811881186, 2.4607228915662653, 2.2039130434782614, 2.522173913043478, 2.558979591836735, 4.118181818181818, 2.618888888888888, 2.519333333333334, 3.1789285714285715, 3.143333333333334, 3.353, 3.8829411764705877, 4.162857142857143, 1.654, 3.399090909090909, 2.3311111111111114, 4.8950000000000005, 1.23, 2.065, 3.0285714285714285, 1.68, 3.7649999999999997, 3.97, 3.88, 1.99, 1.7, 3.38, 5.63, 3.33, 5.255], \"sizemode\": \"area\", \"sizeref\": 0.014074999999999999, \"symbol\": \"circle\"}, \"mode\": \"markers\", \"name\": \"\", \"scene\": \"scene\", \"showlegend\": false, \"type\": \"scatter3d\", \"x\": [1, 2, 3, 4, 5, 6, 7, 8, 9, 10, 11, 12, 13, 14, 15, 16, 17, 18, 19, 20, 21, 22, 23, 24, 25, 26, 27, 28, 29, 30, 31, 32, 33, 34, 35, 36, 37, 38, 39, 40, 41, 42, 43, 44, 45, 46, 47, 48, 49, 50, 51, 52, 53, 54, 55, 56, 57, 58, 59, 60, 61, 62, 63, 64, 65, 66, 67, 68, 69, 70, 71, 72, 73, 75, 76, 77, 81, 87], \"y\": [90.03385416666667, 91.49269588313413, 89.7758152173913, 88.80461538461539, 89.31705512393637, 89.96000816159967, 90.50487054601385, 90.693276580959, 90.98574511214281, 91.3913134484563, 91.79463455664262, 92.12122570392404, 92.33179811936289, 92.71916424925642, 93.07219320665259, 93.32932720176218, 93.52468276708964, 93.7509229195392, 94.06151125085978, 94.43416250210568, 94.59007782101168, 94.8069639584606, 95.01563240170535, 95.18938580799046, 95.24681775846011, 95.37853949329359, 95.25410071942446, 95.45720894371627, 95.42908530318603, 95.30110317975341, 95.35679214402619, 95.54330708661418, 95.56192660550458, 95.66276041666667, 95.95722713864306, 96.02317880794702, 96.2130518234165, 96.18609406952966, 96.57393483709274, 95.51870324189527, 96.19774011299435, 96.1418439716312, 96.1726907630522, 95.9392523364486, 96.19018404907976, 96.94166666666666, 96.74358974358974, 95.81818181818181, 96.79207920792079, 95.86746987951807, 96.6231884057971, 96.78260869565217, 96.34693877551021, 96.33333333333333, 95.88888888888889, 96.9, 97.60714285714286, 95.43333333333334, 93.0, 97.88235294117646, 97.14285714285714, 97.7, 96.0, 96.44444444444444, 99.0, 96.0, 93.0, 93.85714285714286, 98.0, 97.5, 97.66666666666667, 97.0, 92.0, 95.0, 96.0, 98.0, 99.0, 100.0], \"z\": [384, 753, 736, 1300, 2703, 4901, 7802, 11512, 15293, 19110, 22589, 24541, 26055, 27233, 26997, 25877, 24430, 22483, 20354, 17809, 15420, 13096, 10555, 8385, 6442, 4697, 3475, 2594, 1946, 1541, 1222, 1016, 872, 768, 678, 604, 521, 489, 399, 401, 354, 282, 249, 214, 163, 120, 117, 121, 101, 83, 69, 46, 49, 33, 54, 30, 28, 30, 10, 17, 14, 10, 11, 9, 2, 1, 2, 7, 1, 2, 3, 2, 1, 1, 1, 1, 1, 2]}],\n",
       "                        {\"coloraxis\": {\"colorbar\": {\"title\": {\"text\": \"Normalized\"}}, \"colorscale\": [[0.0, \"#0d0887\"], [0.1111111111111111, \"#46039f\"], [0.2222222222222222, \"#7201a8\"], [0.3333333333333333, \"#9c179e\"], [0.4444444444444444, \"#bd3786\"], [0.5555555555555556, \"#d8576b\"], [0.6666666666666666, \"#ed7953\"], [0.7777777777777778, \"#fb9f3a\"], [0.8888888888888888, \"#fdca26\"], [1.0, \"#f0f921\"]]}, \"legend\": {\"itemsizing\": \"constant\", \"tracegroupgap\": 0}, \"margin\": {\"t\": 60}, \"scene\": {\"domain\": {\"x\": [0.0, 1.0], \"y\": [0.0, 1.0]}, \"xaxis\": {\"title\": {\"text\": \"Amenity_Count\"}}, \"yaxis\": {\"title\": {\"text\": \"Avg_Rating\"}}, \"zaxis\": {\"title\": {\"text\": \"#of_listings\"}}}, \"template\": {\"data\": {\"bar\": [{\"error_x\": {\"color\": \"#2a3f5f\"}, \"error_y\": {\"color\": \"#2a3f5f\"}, \"marker\": {\"line\": {\"color\": \"#E5ECF6\", \"width\": 0.5}}, \"type\": \"bar\"}], \"barpolar\": [{\"marker\": {\"line\": {\"color\": \"#E5ECF6\", \"width\": 0.5}}, \"type\": \"barpolar\"}], \"carpet\": [{\"aaxis\": {\"endlinecolor\": \"#2a3f5f\", \"gridcolor\": \"white\", \"linecolor\": \"white\", \"minorgridcolor\": \"white\", \"startlinecolor\": \"#2a3f5f\"}, \"baxis\": {\"endlinecolor\": \"#2a3f5f\", \"gridcolor\": \"white\", \"linecolor\": \"white\", \"minorgridcolor\": \"white\", \"startlinecolor\": \"#2a3f5f\"}, \"type\": \"carpet\"}], \"choropleth\": [{\"colorbar\": {\"outlinewidth\": 0, \"ticks\": \"\"}, \"type\": \"choropleth\"}], \"contour\": [{\"colorbar\": {\"outlinewidth\": 0, \"ticks\": \"\"}, \"colorscale\": [[0.0, \"#0d0887\"], [0.1111111111111111, \"#46039f\"], [0.2222222222222222, \"#7201a8\"], [0.3333333333333333, \"#9c179e\"], [0.4444444444444444, \"#bd3786\"], [0.5555555555555556, \"#d8576b\"], [0.6666666666666666, \"#ed7953\"], [0.7777777777777778, \"#fb9f3a\"], [0.8888888888888888, \"#fdca26\"], [1.0, \"#f0f921\"]], \"type\": \"contour\"}], \"contourcarpet\": [{\"colorbar\": {\"outlinewidth\": 0, \"ticks\": \"\"}, \"type\": \"contourcarpet\"}], \"heatmap\": [{\"colorbar\": {\"outlinewidth\": 0, \"ticks\": \"\"}, \"colorscale\": [[0.0, \"#0d0887\"], [0.1111111111111111, \"#46039f\"], [0.2222222222222222, \"#7201a8\"], [0.3333333333333333, \"#9c179e\"], [0.4444444444444444, \"#bd3786\"], [0.5555555555555556, \"#d8576b\"], [0.6666666666666666, \"#ed7953\"], [0.7777777777777778, \"#fb9f3a\"], [0.8888888888888888, \"#fdca26\"], [1.0, \"#f0f921\"]], \"type\": \"heatmap\"}], \"heatmapgl\": [{\"colorbar\": {\"outlinewidth\": 0, \"ticks\": \"\"}, \"colorscale\": [[0.0, \"#0d0887\"], [0.1111111111111111, \"#46039f\"], [0.2222222222222222, \"#7201a8\"], [0.3333333333333333, \"#9c179e\"], [0.4444444444444444, \"#bd3786\"], [0.5555555555555556, \"#d8576b\"], [0.6666666666666666, \"#ed7953\"], [0.7777777777777778, \"#fb9f3a\"], [0.8888888888888888, \"#fdca26\"], [1.0, \"#f0f921\"]], \"type\": \"heatmapgl\"}], \"histogram\": [{\"marker\": {\"colorbar\": {\"outlinewidth\": 0, \"ticks\": \"\"}}, \"type\": \"histogram\"}], \"histogram2d\": [{\"colorbar\": {\"outlinewidth\": 0, \"ticks\": \"\"}, \"colorscale\": [[0.0, \"#0d0887\"], [0.1111111111111111, \"#46039f\"], [0.2222222222222222, \"#7201a8\"], [0.3333333333333333, \"#9c179e\"], [0.4444444444444444, \"#bd3786\"], [0.5555555555555556, \"#d8576b\"], [0.6666666666666666, \"#ed7953\"], [0.7777777777777778, \"#fb9f3a\"], [0.8888888888888888, \"#fdca26\"], [1.0, \"#f0f921\"]], \"type\": \"histogram2d\"}], \"histogram2dcontour\": [{\"colorbar\": {\"outlinewidth\": 0, \"ticks\": \"\"}, \"colorscale\": [[0.0, \"#0d0887\"], [0.1111111111111111, \"#46039f\"], [0.2222222222222222, \"#7201a8\"], [0.3333333333333333, \"#9c179e\"], [0.4444444444444444, \"#bd3786\"], [0.5555555555555556, \"#d8576b\"], [0.6666666666666666, \"#ed7953\"], [0.7777777777777778, \"#fb9f3a\"], [0.8888888888888888, \"#fdca26\"], [1.0, \"#f0f921\"]], \"type\": \"histogram2dcontour\"}], \"mesh3d\": [{\"colorbar\": {\"outlinewidth\": 0, \"ticks\": \"\"}, \"type\": \"mesh3d\"}], \"parcoords\": [{\"line\": {\"colorbar\": {\"outlinewidth\": 0, \"ticks\": \"\"}}, \"type\": \"parcoords\"}], \"pie\": [{\"automargin\": true, \"type\": \"pie\"}], \"scatter\": [{\"marker\": {\"colorbar\": {\"outlinewidth\": 0, \"ticks\": \"\"}}, \"type\": \"scatter\"}], \"scatter3d\": [{\"line\": {\"colorbar\": {\"outlinewidth\": 0, \"ticks\": \"\"}}, \"marker\": {\"colorbar\": {\"outlinewidth\": 0, \"ticks\": \"\"}}, \"type\": \"scatter3d\"}], \"scattercarpet\": [{\"marker\": {\"colorbar\": {\"outlinewidth\": 0, \"ticks\": \"\"}}, \"type\": \"scattercarpet\"}], \"scattergeo\": [{\"marker\": {\"colorbar\": {\"outlinewidth\": 0, \"ticks\": \"\"}}, \"type\": \"scattergeo\"}], \"scattergl\": [{\"marker\": {\"colorbar\": {\"outlinewidth\": 0, \"ticks\": \"\"}}, \"type\": \"scattergl\"}], \"scattermapbox\": [{\"marker\": {\"colorbar\": {\"outlinewidth\": 0, \"ticks\": \"\"}}, \"type\": \"scattermapbox\"}], \"scatterpolar\": [{\"marker\": {\"colorbar\": {\"outlinewidth\": 0, \"ticks\": \"\"}}, \"type\": \"scatterpolar\"}], \"scatterpolargl\": [{\"marker\": {\"colorbar\": {\"outlinewidth\": 0, \"ticks\": \"\"}}, \"type\": \"scatterpolargl\"}], \"scatterternary\": [{\"marker\": {\"colorbar\": {\"outlinewidth\": 0, \"ticks\": \"\"}}, \"type\": \"scatterternary\"}], \"surface\": [{\"colorbar\": {\"outlinewidth\": 0, \"ticks\": \"\"}, \"colorscale\": [[0.0, \"#0d0887\"], [0.1111111111111111, \"#46039f\"], [0.2222222222222222, \"#7201a8\"], [0.3333333333333333, \"#9c179e\"], [0.4444444444444444, \"#bd3786\"], [0.5555555555555556, \"#d8576b\"], [0.6666666666666666, \"#ed7953\"], [0.7777777777777778, \"#fb9f3a\"], [0.8888888888888888, \"#fdca26\"], [1.0, \"#f0f921\"]], \"type\": \"surface\"}], \"table\": [{\"cells\": {\"fill\": {\"color\": \"#EBF0F8\"}, \"line\": {\"color\": \"white\"}}, \"header\": {\"fill\": {\"color\": \"#C8D4E3\"}, \"line\": {\"color\": \"white\"}}, \"type\": \"table\"}]}, \"layout\": {\"annotationdefaults\": {\"arrowcolor\": \"#2a3f5f\", \"arrowhead\": 0, \"arrowwidth\": 1}, \"coloraxis\": {\"colorbar\": {\"outlinewidth\": 0, \"ticks\": \"\"}}, \"colorscale\": {\"diverging\": [[0, \"#8e0152\"], [0.1, \"#c51b7d\"], [0.2, \"#de77ae\"], [0.3, \"#f1b6da\"], [0.4, \"#fde0ef\"], [0.5, \"#f7f7f7\"], [0.6, \"#e6f5d0\"], [0.7, \"#b8e186\"], [0.8, \"#7fbc41\"], [0.9, \"#4d9221\"], [1, \"#276419\"]], \"sequential\": [[0.0, \"#0d0887\"], [0.1111111111111111, \"#46039f\"], [0.2222222222222222, \"#7201a8\"], [0.3333333333333333, \"#9c179e\"], [0.4444444444444444, \"#bd3786\"], [0.5555555555555556, \"#d8576b\"], [0.6666666666666666, \"#ed7953\"], [0.7777777777777778, \"#fb9f3a\"], [0.8888888888888888, \"#fdca26\"], [1.0, \"#f0f921\"]], \"sequentialminus\": [[0.0, \"#0d0887\"], [0.1111111111111111, \"#46039f\"], [0.2222222222222222, \"#7201a8\"], [0.3333333333333333, \"#9c179e\"], [0.4444444444444444, \"#bd3786\"], [0.5555555555555556, \"#d8576b\"], [0.6666666666666666, \"#ed7953\"], [0.7777777777777778, \"#fb9f3a\"], [0.8888888888888888, \"#fdca26\"], [1.0, \"#f0f921\"]]}, \"colorway\": [\"#636efa\", \"#EF553B\", \"#00cc96\", \"#ab63fa\", \"#FFA15A\", \"#19d3f3\", \"#FF6692\", \"#B6E880\", \"#FF97FF\", \"#FECB52\"], \"font\": {\"color\": \"#2a3f5f\"}, \"geo\": {\"bgcolor\": \"white\", \"lakecolor\": \"white\", \"landcolor\": \"#E5ECF6\", \"showlakes\": true, \"showland\": true, \"subunitcolor\": \"white\"}, \"hoverlabel\": {\"align\": \"left\"}, \"hovermode\": \"closest\", \"mapbox\": {\"style\": \"light\"}, \"paper_bgcolor\": \"white\", \"plot_bgcolor\": \"#E5ECF6\", \"polar\": {\"angularaxis\": {\"gridcolor\": \"white\", \"linecolor\": \"white\", \"ticks\": \"\"}, \"bgcolor\": \"#E5ECF6\", \"radialaxis\": {\"gridcolor\": \"white\", \"linecolor\": \"white\", \"ticks\": \"\"}}, \"scene\": {\"xaxis\": {\"backgroundcolor\": \"#E5ECF6\", \"gridcolor\": \"white\", \"gridwidth\": 2, \"linecolor\": \"white\", \"showbackground\": true, \"ticks\": \"\", \"zerolinecolor\": \"white\"}, \"yaxis\": {\"backgroundcolor\": \"#E5ECF6\", \"gridcolor\": \"white\", \"gridwidth\": 2, \"linecolor\": \"white\", \"showbackground\": true, \"ticks\": \"\", \"zerolinecolor\": \"white\"}, \"zaxis\": {\"backgroundcolor\": \"#E5ECF6\", \"gridcolor\": \"white\", \"gridwidth\": 2, \"linecolor\": \"white\", \"showbackground\": true, \"ticks\": \"\", \"zerolinecolor\": \"white\"}}, \"shapedefaults\": {\"line\": {\"color\": \"#2a3f5f\"}}, \"ternary\": {\"aaxis\": {\"gridcolor\": \"white\", \"linecolor\": \"white\", \"ticks\": \"\"}, \"baxis\": {\"gridcolor\": \"white\", \"linecolor\": \"white\", \"ticks\": \"\"}, \"bgcolor\": \"#E5ECF6\", \"caxis\": {\"gridcolor\": \"white\", \"linecolor\": \"white\", \"ticks\": \"\"}}, \"title\": {\"x\": 0.05}, \"xaxis\": {\"automargin\": true, \"gridcolor\": \"white\", \"linecolor\": \"white\", \"ticks\": \"\", \"title\": {\"standoff\": 15}, \"zerolinecolor\": \"white\", \"zerolinewidth\": 2}, \"yaxis\": {\"automargin\": true, \"gridcolor\": \"white\", \"linecolor\": \"white\", \"ticks\": \"\", \"title\": {\"standoff\": 15}, \"zerolinecolor\": \"white\", \"zerolinewidth\": 2}}}},\n",
       "                        {\"responsive\": true}\n",
       "                    ).then(function(){\n",
       "                            \n",
       "var gd = document.getElementById('d491261d-604f-48d3-97de-9c253e82eb39');\n",
       "var x = new MutationObserver(function (mutations, observer) {{\n",
       "        var display = window.getComputedStyle(gd).display;\n",
       "        if (!display || display === 'none') {{\n",
       "            console.log([gd, 'removed!']);\n",
       "            Plotly.purge(gd);\n",
       "            observer.disconnect();\n",
       "        }}\n",
       "}});\n",
       "\n",
       "// Listen for the removal of the full notebook cells\n",
       "var notebookContainer = gd.closest('#notebook-container');\n",
       "if (notebookContainer) {{\n",
       "    x.observe(notebookContainer, {childList: true});\n",
       "}}\n",
       "\n",
       "// Listen for the clearing of the current output cell\n",
       "var outputEl = gd.closest('.output');\n",
       "if (outputEl) {{\n",
       "    x.observe(outputEl, {childList: true});\n",
       "}}\n",
       "\n",
       "                        })\n",
       "                };\n",
       "                });\n",
       "            </script>\n",
       "        </div>"
      ]
     },
     "metadata": {},
     "output_type": "display_data"
    }
   ],
   "source": [
    "# using plotly to do a 3d scatter plot\n",
    "fig = px.scatter_3d(df4, x='Amenity_Count', y='Avg_Rating', z='#of_listings', color =\"Normalized\", size='avg_monthly_review_per_listing')\n",
    "fig.show()"
   ]
  },
  {
   "cell_type": "code",
   "execution_count": null,
   "metadata": {},
   "outputs": [],
   "source": []
  },
  {
   "cell_type": "code",
   "execution_count": 39,
   "metadata": {},
   "outputs": [
    {
     "data": {
      "text/plain": [
       "0.014215562895791286"
      ]
     },
     "execution_count": 39,
     "metadata": {},
     "output_type": "execute_result"
    }
   ],
   "source": [
    "result.stderr"
   ]
  }
 ],
 "metadata": {
  "kernelspec": {
   "display_name": "Python 3",
   "language": "python",
   "name": "python3"
  },
  "language_info": {
   "codemirror_mode": {
    "name": "ipython",
    "version": 3
   },
   "file_extension": ".py",
   "mimetype": "text/x-python",
   "name": "python",
   "nbconvert_exporter": "python",
   "pygments_lexer": "ipython3",
   "version": "3.7.4"
  }
 },
 "nbformat": 4,
 "nbformat_minor": 2
}
