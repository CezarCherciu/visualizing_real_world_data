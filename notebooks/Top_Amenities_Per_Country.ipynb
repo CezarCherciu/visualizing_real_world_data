{
 "cells": [
  {
   "cell_type": "code",
   "execution_count": 1,
   "metadata": {},
   "outputs": [],
   "source": [
    "import pandas as pd"
   ]
  },
  {
   "cell_type": "markdown",
   "metadata": {},
   "source": [
    "## Top Amenities per Country\n",
    "#### Goals for this step\n",
    "\n",
    "- Find out which are the most common amenities for the higher review scores per country\n"
   ]
  },
  {
   "cell_type": "code",
   "execution_count": 2,
   "metadata": {},
   "outputs": [],
   "source": [
    "df_countries = pd.read_pickle(\"C:/Users/Admin/Documents/ironhack/AirBnB_data/airbnb_listings_countries.pkl\")"
   ]
  },
  {
   "cell_type": "code",
   "execution_count": 3,
   "metadata": {},
   "outputs": [],
   "source": [
    "df_amenities = pd.read_pickle(\"C:/Users/Admin/Documents/ironhack/AirBnB_data/airbnb_amenities.pkl\")"
   ]
  },
  {
   "cell_type": "code",
   "execution_count": 4,
   "metadata": {},
   "outputs": [],
   "source": [
    "df_amenities[\"country\"] = df_countries[\"Country\"]"
   ]
  },
  {
   "cell_type": "code",
   "execution_count": 41,
   "metadata": {},
   "outputs": [],
   "source": [
    "# df_amenities.to_pickle(\"C:/Users/Admin/Documents/ironhack/AirBnB_data/airbnb_amenities_countries.pkl\")"
   ]
  },
  {
   "cell_type": "code",
   "execution_count": 6,
   "metadata": {},
   "outputs": [
    {
     "data": {
      "text/html": [
       "<div>\n",
       "<style scoped>\n",
       "    .dataframe tbody tr th:only-of-type {\n",
       "        vertical-align: middle;\n",
       "    }\n",
       "\n",
       "    .dataframe tbody tr th {\n",
       "        vertical-align: top;\n",
       "    }\n",
       "\n",
       "    .dataframe thead th {\n",
       "        text-align: right;\n",
       "    }\n",
       "</style>\n",
       "<table border=\"1\" class=\"dataframe\">\n",
       "  <thead>\n",
       "    <tr style=\"text-align: right;\">\n",
       "      <th>amenity</th>\n",
       "      <th>wireless internet</th>\n",
       "      <th>kitchen</th>\n",
       "      <th>heating</th>\n",
       "      <th>essentials</th>\n",
       "      <th>washer</th>\n",
       "      <th>tv</th>\n",
       "      <th>smoke detector</th>\n",
       "      <th>internet</th>\n",
       "      <th>hangers</th>\n",
       "      <th>shampoo</th>\n",
       "      <th>...</th>\n",
       "      <th>accessible-height toilet</th>\n",
       "      <th>handheld shower head</th>\n",
       "      <th>fireplace guards</th>\n",
       "      <th>baby monitor</th>\n",
       "      <th>hot water kettle</th>\n",
       "      <th>wide clearance to shower &amp; toilet</th>\n",
       "      <th>firm mattress</th>\n",
       "      <th>review_score</th>\n",
       "      <th>price</th>\n",
       "      <th>country</th>\n",
       "    </tr>\n",
       "  </thead>\n",
       "  <tbody>\n",
       "    <tr>\n",
       "      <th>0</th>\n",
       "      <td>1</td>\n",
       "      <td>0</td>\n",
       "      <td>1</td>\n",
       "      <td>1</td>\n",
       "      <td>0</td>\n",
       "      <td>1</td>\n",
       "      <td>0</td>\n",
       "      <td>1</td>\n",
       "      <td>0</td>\n",
       "      <td>1</td>\n",
       "      <td>...</td>\n",
       "      <td>0</td>\n",
       "      <td>0</td>\n",
       "      <td>0</td>\n",
       "      <td>0</td>\n",
       "      <td>0</td>\n",
       "      <td>0</td>\n",
       "      <td>0</td>\n",
       "      <td>90.0</td>\n",
       "      <td>74.0</td>\n",
       "      <td>Italy</td>\n",
       "    </tr>\n",
       "    <tr>\n",
       "      <th>1</th>\n",
       "      <td>1</td>\n",
       "      <td>1</td>\n",
       "      <td>1</td>\n",
       "      <td>1</td>\n",
       "      <td>0</td>\n",
       "      <td>0</td>\n",
       "      <td>0</td>\n",
       "      <td>1</td>\n",
       "      <td>1</td>\n",
       "      <td>0</td>\n",
       "      <td>...</td>\n",
       "      <td>0</td>\n",
       "      <td>0</td>\n",
       "      <td>0</td>\n",
       "      <td>0</td>\n",
       "      <td>0</td>\n",
       "      <td>0</td>\n",
       "      <td>0</td>\n",
       "      <td>87.0</td>\n",
       "      <td>55.0</td>\n",
       "      <td>Austria</td>\n",
       "    </tr>\n",
       "    <tr>\n",
       "      <th>2</th>\n",
       "      <td>1</td>\n",
       "      <td>1</td>\n",
       "      <td>1</td>\n",
       "      <td>1</td>\n",
       "      <td>0</td>\n",
       "      <td>1</td>\n",
       "      <td>0</td>\n",
       "      <td>0</td>\n",
       "      <td>0</td>\n",
       "      <td>0</td>\n",
       "      <td>...</td>\n",
       "      <td>0</td>\n",
       "      <td>0</td>\n",
       "      <td>0</td>\n",
       "      <td>0</td>\n",
       "      <td>0</td>\n",
       "      <td>0</td>\n",
       "      <td>0</td>\n",
       "      <td>100.0</td>\n",
       "      <td>993.0</td>\n",
       "      <td>Denmark</td>\n",
       "    </tr>\n",
       "    <tr>\n",
       "      <th>3</th>\n",
       "      <td>1</td>\n",
       "      <td>1</td>\n",
       "      <td>1</td>\n",
       "      <td>1</td>\n",
       "      <td>1</td>\n",
       "      <td>1</td>\n",
       "      <td>1</td>\n",
       "      <td>1</td>\n",
       "      <td>1</td>\n",
       "      <td>1</td>\n",
       "      <td>...</td>\n",
       "      <td>0</td>\n",
       "      <td>0</td>\n",
       "      <td>0</td>\n",
       "      <td>0</td>\n",
       "      <td>0</td>\n",
       "      <td>0</td>\n",
       "      <td>0</td>\n",
       "      <td>100.0</td>\n",
       "      <td>697.0</td>\n",
       "      <td>Denmark</td>\n",
       "    </tr>\n",
       "    <tr>\n",
       "      <th>4</th>\n",
       "      <td>1</td>\n",
       "      <td>1</td>\n",
       "      <td>1</td>\n",
       "      <td>1</td>\n",
       "      <td>0</td>\n",
       "      <td>0</td>\n",
       "      <td>1</td>\n",
       "      <td>1</td>\n",
       "      <td>0</td>\n",
       "      <td>1</td>\n",
       "      <td>...</td>\n",
       "      <td>0</td>\n",
       "      <td>0</td>\n",
       "      <td>0</td>\n",
       "      <td>0</td>\n",
       "      <td>0</td>\n",
       "      <td>0</td>\n",
       "      <td>0</td>\n",
       "      <td>94.0</td>\n",
       "      <td>424.0</td>\n",
       "      <td>Denmark</td>\n",
       "    </tr>\n",
       "  </tbody>\n",
       "</table>\n",
       "<p>5 rows × 103 columns</p>\n",
       "</div>"
      ],
      "text/plain": [
       "amenity  wireless internet  kitchen  heating  essentials  washer  tv  \\\n",
       "0                        1        0        1           1       0   1   \n",
       "1                        1        1        1           1       0   0   \n",
       "2                        1        1        1           1       0   1   \n",
       "3                        1        1        1           1       1   1   \n",
       "4                        1        1        1           1       0   0   \n",
       "\n",
       "amenity  smoke detector  internet  hangers  shampoo  ...  \\\n",
       "0                     0         1        0        1  ...   \n",
       "1                     0         1        1        0  ...   \n",
       "2                     0         0        0        0  ...   \n",
       "3                     1         1        1        1  ...   \n",
       "4                     1         1        0        1  ...   \n",
       "\n",
       "amenity  accessible-height toilet  handheld shower head  fireplace guards  \\\n",
       "0                               0                     0                 0   \n",
       "1                               0                     0                 0   \n",
       "2                               0                     0                 0   \n",
       "3                               0                     0                 0   \n",
       "4                               0                     0                 0   \n",
       "\n",
       "amenity  baby monitor  hot water kettle  wide clearance to shower & toilet  \\\n",
       "0                   0                 0                                  0   \n",
       "1                   0                 0                                  0   \n",
       "2                   0                 0                                  0   \n",
       "3                   0                 0                                  0   \n",
       "4                   0                 0                                  0   \n",
       "\n",
       "amenity  firm mattress  review_score  price  country  \n",
       "0                    0          90.0   74.0    Italy  \n",
       "1                    0          87.0   55.0  Austria  \n",
       "2                    0         100.0  993.0  Denmark  \n",
       "3                    0         100.0  697.0  Denmark  \n",
       "4                    0          94.0  424.0  Denmark  \n",
       "\n",
       "[5 rows x 103 columns]"
      ]
     },
     "execution_count": 6,
     "metadata": {},
     "output_type": "execute_result"
    }
   ],
   "source": [
    "df_amenities.head()"
   ]
  },
  {
   "cell_type": "code",
   "execution_count": 7,
   "metadata": {},
   "outputs": [
    {
     "data": {
      "text/plain": [
       "count    380224.000000\n",
       "mean         93.088024\n",
       "std           8.373247\n",
       "min          20.000000\n",
       "25%          90.000000\n",
       "50%          95.000000\n",
       "75%         100.000000\n",
       "max         100.000000\n",
       "Name: review_score, dtype: float64"
      ]
     },
     "execution_count": 7,
     "metadata": {},
     "output_type": "execute_result"
    }
   ],
   "source": [
    "df_amenities[\"review_score\"].describe()"
   ]
  },
  {
   "cell_type": "markdown",
   "metadata": {},
   "source": [
    "We will first try to look at Italy as an example."
   ]
  },
  {
   "cell_type": "code",
   "execution_count": 8,
   "metadata": {},
   "outputs": [],
   "source": [
    "df_italy = df_amenities[df_amenities[\"country\"] == \"Italy\"].copy().reset_index(drop=True)"
   ]
  },
  {
   "cell_type": "code",
   "execution_count": 9,
   "metadata": {},
   "outputs": [
    {
     "data": {
      "text/plain": [
       "count    24336.000000\n",
       "mean        91.827046\n",
       "std          8.699237\n",
       "min         20.000000\n",
       "25%         89.000000\n",
       "50%         94.000000\n",
       "75%         98.000000\n",
       "max        100.000000\n",
       "Name: review_score, dtype: float64"
      ]
     },
     "execution_count": 9,
     "metadata": {},
     "output_type": "execute_result"
    }
   ],
   "source": [
    "df_italy[\"review_score\"].describe()"
   ]
  },
  {
   "cell_type": "markdown",
   "metadata": {},
   "source": [
    "We will only look at the amenities for listings with review scores equal or higher than 98."
   ]
  },
  {
   "cell_type": "code",
   "execution_count": 10,
   "metadata": {},
   "outputs": [],
   "source": [
    "df_italy_top = df_italy[df_italy[\"review_score\"] >= 98].copy().reset_index(drop=True)"
   ]
  },
  {
   "cell_type": "markdown",
   "metadata": {},
   "source": [
    "We will drop the columns that aren't needed and get a sorted list by amenities with the highest counts."
   ]
  },
  {
   "cell_type": "code",
   "execution_count": 11,
   "metadata": {},
   "outputs": [
    {
     "data": {
      "text/plain": [
       "amenity\n",
       "heating                      6145\n",
       "wireless internet            5918\n",
       "essentials                   5646\n",
       "tv                           5415\n",
       "kitchen                      5162\n",
       "family/kid friendly          4883\n",
       "hair dryer                   4635\n",
       "air conditioning             4540\n",
       "shampoo                      4329\n",
       "hangers                      4294\n",
       "washer                       4020\n",
       "iron                         3617\n",
       "laptop friendly workspace    3579\n",
       "internet                     3390\n",
       "elevator in building         3259\n",
       "first aid kit                3185\n",
       "fire extinguisher            2733\n",
       "breakfast                    1762\n",
       "safety card                  1655\n",
       "lock on bedroom door         1284\n",
       "24-hour check-in             1272\n",
       "pets allowed                 1221\n",
       "free parking on premises     1094\n",
       "buzzer/wireless intercom     1052\n",
       "smoke detector               1045\n",
       "cable tv                     1036\n",
       "doorman                       918\n",
       "carbon monoxide detector      861\n",
       "smoking allowed               827\n",
       "dryer                         697\n",
       "dtype: int64"
      ]
     },
     "execution_count": 11,
     "metadata": {},
     "output_type": "execute_result"
    }
   ],
   "source": [
    "df_italy_top.drop(columns=[\"country\", \"review_score\", \"price\"]).sum().sort_values(ascending=False).head(30)\n"
   ]
  },
  {
   "cell_type": "markdown",
   "metadata": {},
   "source": [
    "We will then create a list for Italy's top 30 amenities for listings with review scores higher than 98."
   ]
  },
  {
   "cell_type": "code",
   "execution_count": 12,
   "metadata": {},
   "outputs": [],
   "source": [
    "italy_top_amenities = list(df_italy_top.drop(columns=[\"country\", \"review_score\", \"price\"]).sum()\n",
    "                           .sort_values(ascending=False).head(30).index)"
   ]
  },
  {
   "cell_type": "code",
   "execution_count": 13,
   "metadata": {},
   "outputs": [
    {
     "data": {
      "text/plain": [
       "['heating',\n",
       " 'wireless internet',\n",
       " 'essentials',\n",
       " 'tv',\n",
       " 'kitchen',\n",
       " 'family/kid friendly',\n",
       " 'hair dryer',\n",
       " 'air conditioning',\n",
       " 'shampoo',\n",
       " 'hangers']"
      ]
     },
     "execution_count": 13,
     "metadata": {},
     "output_type": "execute_result"
    }
   ],
   "source": [
    "italy_top_amenities[0:10]"
   ]
  },
  {
   "cell_type": "markdown",
   "metadata": {},
   "source": [
    "Now that the example worked, we will do a function that will do this for any country selected."
   ]
  },
  {
   "cell_type": "code",
   "execution_count": 14,
   "metadata": {},
   "outputs": [],
   "source": [
    "def amenities_per_country(df, country, no=10):\n",
    "    df = df[df[\"country\"] == country].copy().reset_index(drop=True)\n",
    "    df = df[df[\"review_score\"] >= 98].copy().reset_index(drop=True)\n",
    "    top_amenities = list(df.drop(columns=[\"country\", \"review_score\", \"price\"])\n",
    "                         .sum().sort_values(ascending=False).head(no).index)\n",
    "    return top_amenities\n",
    "        "
   ]
  },
  {
   "cell_type": "code",
   "execution_count": 15,
   "metadata": {},
   "outputs": [],
   "source": [
    "countries = list(set(df_amenities[\"country\"]))"
   ]
  },
  {
   "cell_type": "code",
   "execution_count": 16,
   "metadata": {},
   "outputs": [],
   "source": [
    "countries.sort()"
   ]
  },
  {
   "cell_type": "code",
   "execution_count": 17,
   "metadata": {},
   "outputs": [
    {
     "data": {
      "text/plain": [
       "['Australia',\n",
       " 'Austria',\n",
       " 'Belgium',\n",
       " 'Canada',\n",
       " 'Denmark',\n",
       " 'France',\n",
       " 'Germany',\n",
       " 'Greece',\n",
       " 'Hong Kong',\n",
       " 'Ireland',\n",
       " 'Italy',\n",
       " 'Netherlands',\n",
       " 'Spain',\n",
       " 'Switzerland',\n",
       " 'United Kingdom',\n",
       " 'United States']"
      ]
     },
     "execution_count": 17,
     "metadata": {},
     "output_type": "execute_result"
    }
   ],
   "source": [
    "countries"
   ]
  },
  {
   "cell_type": "code",
   "execution_count": 18,
   "metadata": {},
   "outputs": [
    {
     "data": {
      "text/plain": [
       "['kitchen',\n",
       " 'wireless internet',\n",
       " 'essentials',\n",
       " 'washer',\n",
       " 'smoke detector',\n",
       " 'tv',\n",
       " 'heating',\n",
       " 'hangers',\n",
       " 'iron',\n",
       " 'shampoo']"
      ]
     },
     "execution_count": 18,
     "metadata": {},
     "output_type": "execute_result"
    }
   ],
   "source": [
    "amenities_per_country(df_amenities, \"Australia\", 10)"
   ]
  },
  {
   "cell_type": "markdown",
   "metadata": {},
   "source": [
    "As stated on the Top Amenities notebook, there are basic amenities that each listing should have, so we would also try the function using the data frame that has the \"extra\" amenities in order to see what else could be added."
   ]
  },
  {
   "cell_type": "code",
   "execution_count": 19,
   "metadata": {},
   "outputs": [],
   "source": [
    "df_extra_amenities = pd.read_pickle(\"C:/Users/Admin/Documents/ironhack/AirBnB_data/airbnb_amenities_extra.pkl\")"
   ]
  },
  {
   "cell_type": "code",
   "execution_count": 20,
   "metadata": {},
   "outputs": [],
   "source": [
    "df_extra_amenities[\"country\"] = df_countries[\"Country\"]"
   ]
  },
  {
   "cell_type": "code",
   "execution_count": 39,
   "metadata": {},
   "outputs": [],
   "source": [
    "# df_extra_amenities.to_pickle(\"C:/Users/Admin/Documents/ironhack/AirBnB_data/airbnb_amenities_extra_countries.pkl\")"
   ]
  },
  {
   "cell_type": "code",
   "execution_count": 22,
   "metadata": {},
   "outputs": [],
   "source": [
    "countries_top_amenities = {}\n",
    "\n",
    "for i in countries:\n",
    "    countries_top_amenities[i] = amenities_per_country(df_extra_amenities, i, 10)"
   ]
  },
  {
   "cell_type": "code",
   "execution_count": 23,
   "metadata": {},
   "outputs": [
    {
     "data": {
      "text/plain": [
       "['kitchen',\n",
       " 'washer',\n",
       " 'family/kid friendly',\n",
       " 'dryer',\n",
       " 'buzzer/wireless intercom',\n",
       " 'free parking on premises',\n",
       " 'cable tv',\n",
       " '24-hour check-in',\n",
       " 'elevator in building',\n",
       " 'safety card']"
      ]
     },
     "execution_count": 23,
     "metadata": {},
     "output_type": "execute_result"
    }
   ],
   "source": [
    "countries_top_amenities[\"Australia\"]"
   ]
  },
  {
   "cell_type": "code",
   "execution_count": 24,
   "metadata": {},
   "outputs": [
    {
     "data": {
      "text/plain": [
       "['kitchen',\n",
       " 'washer',\n",
       " 'family/kid friendly',\n",
       " 'dryer',\n",
       " 'elevator in building',\n",
       " 'free parking on premises',\n",
       " 'cable tv',\n",
       " '24-hour check-in',\n",
       " 'buzzer/wireless intercom',\n",
       " 'pool']"
      ]
     },
     "execution_count": 24,
     "metadata": {},
     "output_type": "execute_result"
    }
   ],
   "source": [
    "countries_top_amenities[\"Austria\"]"
   ]
  },
  {
   "cell_type": "code",
   "execution_count": 25,
   "metadata": {},
   "outputs": [
    {
     "data": {
      "text/plain": [
       "['kitchen',\n",
       " 'washer',\n",
       " 'dryer',\n",
       " 'family/kid friendly',\n",
       " 'free parking on premises',\n",
       " 'cable tv',\n",
       " '24-hour check-in',\n",
       " 'buzzer/wireless intercom',\n",
       " 'elevator in building',\n",
       " 'safety card']"
      ]
     },
     "execution_count": 25,
     "metadata": {},
     "output_type": "execute_result"
    }
   ],
   "source": [
    "countries_top_amenities[\"Belgium\"]"
   ]
  },
  {
   "cell_type": "code",
   "execution_count": 26,
   "metadata": {},
   "outputs": [
    {
     "data": {
      "text/plain": [
       "['kitchen',\n",
       " 'washer',\n",
       " 'dryer',\n",
       " 'family/kid friendly',\n",
       " 'cable tv',\n",
       " 'free parking on premises',\n",
       " '24-hour check-in',\n",
       " 'buzzer/wireless intercom',\n",
       " 'safety card',\n",
       " 'pets live on this property']"
      ]
     },
     "execution_count": 26,
     "metadata": {},
     "output_type": "execute_result"
    }
   ],
   "source": [
    "countries_top_amenities[\"Canada\"]"
   ]
  },
  {
   "cell_type": "code",
   "execution_count": 27,
   "metadata": {},
   "outputs": [
    {
     "data": {
      "text/plain": [
       "['kitchen',\n",
       " 'washer',\n",
       " 'dryer',\n",
       " 'family/kid friendly',\n",
       " 'free parking on premises',\n",
       " 'cable tv',\n",
       " '24-hour check-in',\n",
       " 'self check-in',\n",
       " 'safety card',\n",
       " 'pets live on this property']"
      ]
     },
     "execution_count": 27,
     "metadata": {},
     "output_type": "execute_result"
    }
   ],
   "source": [
    "countries_top_amenities[\"Denmark\"]"
   ]
  },
  {
   "cell_type": "code",
   "execution_count": 28,
   "metadata": {},
   "outputs": [
    {
     "data": {
      "text/plain": [
       "['kitchen',\n",
       " 'washer',\n",
       " 'family/kid friendly',\n",
       " 'dryer',\n",
       " 'cable tv',\n",
       " 'free parking on premises',\n",
       " '24-hour check-in',\n",
       " 'buzzer/wireless intercom',\n",
       " 'smoking allowed',\n",
       " 'elevator in building']"
      ]
     },
     "execution_count": 28,
     "metadata": {},
     "output_type": "execute_result"
    }
   ],
   "source": [
    "countries_top_amenities[\"France\"]"
   ]
  },
  {
   "cell_type": "code",
   "execution_count": 29,
   "metadata": {},
   "outputs": [
    {
     "data": {
      "text/plain": [
       "['kitchen',\n",
       " 'washer',\n",
       " 'dryer',\n",
       " 'family/kid friendly',\n",
       " 'free parking on premises',\n",
       " 'cable tv',\n",
       " '24-hour check-in',\n",
       " 'buzzer/wireless intercom',\n",
       " 'safety card',\n",
       " 'self check-in']"
      ]
     },
     "execution_count": 29,
     "metadata": {},
     "output_type": "execute_result"
    }
   ],
   "source": [
    "countries_top_amenities[\"Germany\"]"
   ]
  },
  {
   "cell_type": "code",
   "execution_count": 30,
   "metadata": {},
   "outputs": [
    {
     "data": {
      "text/plain": [
       "['kitchen',\n",
       " 'washer',\n",
       " 'elevator in building',\n",
       " 'family/kid friendly',\n",
       " 'buzzer/wireless intercom',\n",
       " 'dryer',\n",
       " 'smoking allowed',\n",
       " '24-hour check-in',\n",
       " 'cable tv',\n",
       " 'pets allowed']"
      ]
     },
     "execution_count": 30,
     "metadata": {},
     "output_type": "execute_result"
    }
   ],
   "source": [
    "countries_top_amenities[\"Greece\"]"
   ]
  },
  {
   "cell_type": "code",
   "execution_count": 31,
   "metadata": {},
   "outputs": [
    {
     "data": {
      "text/plain": [
       "['kitchen',\n",
       " 'washer',\n",
       " 'dryer',\n",
       " 'family/kid friendly',\n",
       " 'elevator in building',\n",
       " 'free parking on premises',\n",
       " 'buzzer/wireless intercom',\n",
       " '24-hour check-in',\n",
       " 'cable tv',\n",
       " 'pool']"
      ]
     },
     "execution_count": 31,
     "metadata": {},
     "output_type": "execute_result"
    }
   ],
   "source": [
    "countries_top_amenities[\"Hong Kong\"]"
   ]
  },
  {
   "cell_type": "code",
   "execution_count": 32,
   "metadata": {},
   "outputs": [
    {
     "data": {
      "text/plain": [
       "['kitchen',\n",
       " 'washer',\n",
       " 'dryer',\n",
       " 'free parking on premises',\n",
       " 'family/kid friendly',\n",
       " 'cable tv',\n",
       " '24-hour check-in',\n",
       " 'pets live on this property',\n",
       " 'pool',\n",
       " 'safety card']"
      ]
     },
     "execution_count": 32,
     "metadata": {},
     "output_type": "execute_result"
    }
   ],
   "source": [
    "countries_top_amenities[\"Ireland\"]"
   ]
  },
  {
   "cell_type": "code",
   "execution_count": 33,
   "metadata": {},
   "outputs": [
    {
     "data": {
      "text/plain": [
       "['kitchen',\n",
       " 'washer',\n",
       " 'family/kid friendly',\n",
       " 'dryer',\n",
       " 'buzzer/wireless intercom',\n",
       " 'cable tv',\n",
       " 'elevator in building',\n",
       " 'free parking on premises',\n",
       " '24-hour check-in',\n",
       " 'safety card']"
      ]
     },
     "execution_count": 33,
     "metadata": {},
     "output_type": "execute_result"
    }
   ],
   "source": [
    "countries_top_amenities[\"Italy\"]"
   ]
  },
  {
   "cell_type": "code",
   "execution_count": 34,
   "metadata": {},
   "outputs": [
    {
     "data": {
      "text/plain": [
       "['kitchen',\n",
       " 'washer',\n",
       " 'family/kid friendly',\n",
       " 'dryer',\n",
       " 'cable tv',\n",
       " 'free parking on premises',\n",
       " '24-hour check-in',\n",
       " 'buzzer/wireless intercom',\n",
       " 'safety card',\n",
       " 'elevator in building']"
      ]
     },
     "execution_count": 34,
     "metadata": {},
     "output_type": "execute_result"
    }
   ],
   "source": [
    "countries_top_amenities[\"Netherlands\"]"
   ]
  },
  {
   "cell_type": "code",
   "execution_count": 35,
   "metadata": {},
   "outputs": [
    {
     "data": {
      "text/plain": [
       "['kitchen',\n",
       " 'washer',\n",
       " 'dryer',\n",
       " 'family/kid friendly',\n",
       " 'free parking on premises',\n",
       " 'cable tv',\n",
       " 'buzzer/wireless intercom',\n",
       " '24-hour check-in',\n",
       " 'safety card',\n",
       " 'elevator in building']"
      ]
     },
     "execution_count": 35,
     "metadata": {},
     "output_type": "execute_result"
    }
   ],
   "source": [
    "countries_top_amenities[\"Spain\"]"
   ]
  },
  {
   "cell_type": "code",
   "execution_count": 36,
   "metadata": {},
   "outputs": [
    {
     "data": {
      "text/plain": [
       "['kitchen',\n",
       " 'washer',\n",
       " 'dryer',\n",
       " 'elevator',\n",
       " 'buzzer/wireless intercom',\n",
       " 'family/kid friendly',\n",
       " 'cable tv',\n",
       " '24-hour check-in',\n",
       " 'doorman',\n",
       " 'safety card']"
      ]
     },
     "execution_count": 36,
     "metadata": {},
     "output_type": "execute_result"
    }
   ],
   "source": [
    "countries_top_amenities[\"Switzerland\"]"
   ]
  },
  {
   "cell_type": "code",
   "execution_count": 37,
   "metadata": {},
   "outputs": [
    {
     "data": {
      "text/plain": [
       "['kitchen',\n",
       " 'washer',\n",
       " 'family/kid friendly',\n",
       " 'elevator in building',\n",
       " 'dryer',\n",
       " 'buzzer/wireless intercom',\n",
       " 'cable tv',\n",
       " '24-hour check-in',\n",
       " 'free parking on premises',\n",
       " 'safety card']"
      ]
     },
     "execution_count": 37,
     "metadata": {},
     "output_type": "execute_result"
    }
   ],
   "source": [
    "countries_top_amenities[\"United Kingdom\"]"
   ]
  },
  {
   "cell_type": "code",
   "execution_count": 38,
   "metadata": {},
   "outputs": [
    {
     "data": {
      "text/plain": [
       "['kitchen',\n",
       " 'washer',\n",
       " 'family/kid friendly',\n",
       " 'dryer',\n",
       " 'free parking on premises',\n",
       " 'cable tv',\n",
       " 'buzzer/wireless intercom',\n",
       " '24-hour check-in',\n",
       " 'elevator in building',\n",
       " 'safety card']"
      ]
     },
     "execution_count": 38,
     "metadata": {},
     "output_type": "execute_result"
    }
   ],
   "source": [
    "countries_top_amenities[\"United States\"]"
   ]
  },
  {
   "cell_type": "markdown",
   "metadata": {},
   "source": [
    "## Conclusions\n",
    "\n",
    "- All countries seem to have the same top amenities.\n",
    "- Austria, Ireland and Hong Kong have pool as a top amenity.\n",
    "- Canada, Denmark and Ireland have pets living on the property, and Greece allows pets.\n",
    "- The top amenities for each city include:\n",
    "    1. Kitchen\n",
    "    2. Washer\n",
    "    3. Dryer\n",
    "    4. Family/kid friendly\n",
    "    6. Cable TV\n",
    "    7. Buzzer/wireless intercom"
   ]
  },
  {
   "cell_type": "code",
   "execution_count": null,
   "metadata": {},
   "outputs": [],
   "source": []
  }
 ],
 "metadata": {
  "kernelspec": {
   "display_name": "Python 3",
   "language": "python",
   "name": "python3"
  },
  "language_info": {
   "codemirror_mode": {
    "name": "ipython",
    "version": 3
   },
   "file_extension": ".py",
   "mimetype": "text/x-python",
   "name": "python",
   "nbconvert_exporter": "python",
   "pygments_lexer": "ipython3",
   "version": "3.7.6"
  }
 },
 "nbformat": 4,
 "nbformat_minor": 4
}
