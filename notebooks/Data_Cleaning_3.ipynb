{
 "cells": [
  {
   "cell_type": "code",
   "execution_count": 1,
   "metadata": {},
   "outputs": [],
   "source": [
    "import pandas as pd\n",
    "import numpy as np"
   ]
  },
  {
   "cell_type": "markdown",
   "metadata": {},
   "source": [
    "## Data Cleaning Step 3\n",
    "#### Goals for this step\n",
    "- Verify data types and change them if necessary\n",
    "- Verify list of countries has unique values for each country\n",
    "- Create individual data frames for countries, USA, and one with amenities as columns, 1 indicating True and 0 indicating False"
   ]
  },
  {
   "cell_type": "code",
   "execution_count": 2,
   "metadata": {},
   "outputs": [],
   "source": [
    "df = pd.read_csv(\"C:/Users/Admin/Documents/ironhack/AirBnB_data/airbnb_listings_amenity_count.csv\", low_memory=False)"
   ]
  },
  {
   "cell_type": "code",
   "execution_count": 3,
   "metadata": {},
   "outputs": [
    {
     "data": {
      "text/html": [
       "<div>\n",
       "<style scoped>\n",
       "    .dataframe tbody tr th:only-of-type {\n",
       "        vertical-align: middle;\n",
       "    }\n",
       "\n",
       "    .dataframe tbody tr th {\n",
       "        vertical-align: top;\n",
       "    }\n",
       "\n",
       "    .dataframe thead th {\n",
       "        text-align: right;\n",
       "    }\n",
       "</style>\n",
       "<table border=\"1\" class=\"dataframe\">\n",
       "  <thead>\n",
       "    <tr style=\"text-align: right;\">\n",
       "      <th></th>\n",
       "      <th>Unnamed: 0</th>\n",
       "      <th>Listing ID</th>\n",
       "      <th>Name</th>\n",
       "      <th>Host ID</th>\n",
       "      <th>Host Name</th>\n",
       "      <th>Host Response Rate</th>\n",
       "      <th>Host Is Superhost</th>\n",
       "      <th>Host total listings count</th>\n",
       "      <th>Street</th>\n",
       "      <th>City</th>\n",
       "      <th>...</th>\n",
       "      <th>Review Scores Rating</th>\n",
       "      <th>Review Scores Accuracy</th>\n",
       "      <th>Review Scores Cleanliness</th>\n",
       "      <th>Review Scores Checkin</th>\n",
       "      <th>Review Scores Communication</th>\n",
       "      <th>Review Scores Location</th>\n",
       "      <th>Review Scores Value</th>\n",
       "      <th>Reviews per month</th>\n",
       "      <th>Amenities_List</th>\n",
       "      <th>Amenity_Count</th>\n",
       "    </tr>\n",
       "  </thead>\n",
       "  <tbody>\n",
       "    <tr>\n",
       "      <th>0</th>\n",
       "      <td>0</td>\n",
       "      <td>5534229</td>\n",
       "      <td>A 2 Passi da San Pietro</td>\n",
       "      <td>28697142</td>\n",
       "      <td>Veronica</td>\n",
       "      <td>100%</td>\n",
       "      <td>False</td>\n",
       "      <td>5.0</td>\n",
       "      <td>00165| Rm 00165| Italy</td>\n",
       "      <td>165</td>\n",
       "      <td>...</td>\n",
       "      <td>90</td>\n",
       "      <td>9.0</td>\n",
       "      <td>10.0</td>\n",
       "      <td>8.0</td>\n",
       "      <td>8.0</td>\n",
       "      <td>9.0</td>\n",
       "      <td>9.0</td>\n",
       "      <td>0.08</td>\n",
       "      <td>['TV', 'Internet', 'Wireless Internet', 'Air c...</td>\n",
       "      <td>11</td>\n",
       "    </tr>\n",
       "    <tr>\n",
       "      <th>1</th>\n",
       "      <td>1</td>\n",
       "      <td>5903406</td>\n",
       "      <td>cosy small apartment</td>\n",
       "      <td>1853799</td>\n",
       "      <td>Veronika</td>\n",
       "      <td>88%</td>\n",
       "      <td>False</td>\n",
       "      <td>2.0</td>\n",
       "      <td>1190| Wien| Austria</td>\n",
       "      <td>1190</td>\n",
       "      <td>...</td>\n",
       "      <td>87</td>\n",
       "      <td>9.0</td>\n",
       "      <td>10.0</td>\n",
       "      <td>10.0</td>\n",
       "      <td>10.0</td>\n",
       "      <td>10.0</td>\n",
       "      <td>8.0</td>\n",
       "      <td>0.27</td>\n",
       "      <td>['Internet', 'Wireless Internet', 'Kitchen', '...</td>\n",
       "      <td>12</td>\n",
       "    </tr>\n",
       "    <tr>\n",
       "      <th>2</th>\n",
       "      <td>2</td>\n",
       "      <td>5203533</td>\n",
       "      <td>Rummelig lejl i hjertet af KBH</td>\n",
       "      <td>24801534</td>\n",
       "      <td>Marianne</td>\n",
       "      <td>100%</td>\n",
       "      <td>False</td>\n",
       "      <td>1.0</td>\n",
       "      <td>Indre By| 1366| Danmark K�benhavn K| Denmark</td>\n",
       "      <td>1366</td>\n",
       "      <td>...</td>\n",
       "      <td>100</td>\n",
       "      <td>10.0</td>\n",
       "      <td>10.0</td>\n",
       "      <td>10.0</td>\n",
       "      <td>10.0</td>\n",
       "      <td>10.0</td>\n",
       "      <td>10.0</td>\n",
       "      <td>0.28</td>\n",
       "      <td>['TV', 'Wireless Internet', 'Kitchen', 'Buzzer...</td>\n",
       "      <td>8</td>\n",
       "    </tr>\n",
       "    <tr>\n",
       "      <th>3</th>\n",
       "      <td>3</td>\n",
       "      <td>8858475</td>\n",
       "      <td>Modern; spacious and warm; with its own balcony</td>\n",
       "      <td>3000397</td>\n",
       "      <td>Lasse</td>\n",
       "      <td>100%</td>\n",
       "      <td>True</td>\n",
       "      <td>1.0</td>\n",
       "      <td>2150| Danmark Nordhavn| Denmark</td>\n",
       "      <td>2150</td>\n",
       "      <td>...</td>\n",
       "      <td>100</td>\n",
       "      <td>10.0</td>\n",
       "      <td>10.0</td>\n",
       "      <td>10.0</td>\n",
       "      <td>10.0</td>\n",
       "      <td>9.0</td>\n",
       "      <td>10.0</td>\n",
       "      <td>0.79</td>\n",
       "      <td>['TV', 'Cable TV', 'Internet', 'Wireless Inter...</td>\n",
       "      <td>23</td>\n",
       "    </tr>\n",
       "    <tr>\n",
       "      <th>4</th>\n",
       "      <td>4</td>\n",
       "      <td>4215511</td>\n",
       "      <td>Nice room; Bohemian Cph; N�rrebro</td>\n",
       "      <td>126020</td>\n",
       "      <td>Lea</td>\n",
       "      <td>100%</td>\n",
       "      <td>True</td>\n",
       "      <td>2.0</td>\n",
       "      <td>N�rrebro| 2200| K�benhavn N 2200| Denmark</td>\n",
       "      <td>2200</td>\n",
       "      <td>...</td>\n",
       "      <td>94</td>\n",
       "      <td>10.0</td>\n",
       "      <td>10.0</td>\n",
       "      <td>9.0</td>\n",
       "      <td>10.0</td>\n",
       "      <td>10.0</td>\n",
       "      <td>10.0</td>\n",
       "      <td>1.40</td>\n",
       "      <td>['Internet', 'Wireless Internet', 'Kitchen', '...</td>\n",
       "      <td>10</td>\n",
       "    </tr>\n",
       "  </tbody>\n",
       "</table>\n",
       "<p>5 rows × 38 columns</p>\n",
       "</div>"
      ],
      "text/plain": [
       "   Unnamed: 0  Listing ID                                             Name  \\\n",
       "0           0     5534229                          A 2 Passi da San Pietro   \n",
       "1           1     5903406                             cosy small apartment   \n",
       "2           2     5203533                   Rummelig lejl i hjertet af KBH   \n",
       "3           3     8858475  Modern; spacious and warm; with its own balcony   \n",
       "4           4     4215511                Nice room; Bohemian Cph; N�rrebro   \n",
       "\n",
       "    Host ID Host Name Host Response Rate Host Is Superhost  \\\n",
       "0  28697142  Veronica               100%             False   \n",
       "1   1853799  Veronika                88%             False   \n",
       "2  24801534  Marianne               100%             False   \n",
       "3   3000397     Lasse               100%              True   \n",
       "4    126020       Lea               100%              True   \n",
       "\n",
       "   Host total listings count                                        Street  \\\n",
       "0                        5.0                        00165| Rm 00165| Italy   \n",
       "1                        2.0                           1190| Wien| Austria   \n",
       "2                        1.0  Indre By| 1366| Danmark K�benhavn K| Denmark   \n",
       "3                        1.0               2150| Danmark Nordhavn| Denmark   \n",
       "4                        2.0     N�rrebro| 2200| K�benhavn N 2200| Denmark   \n",
       "\n",
       "   City  ... Review Scores Rating Review Scores Accuracy  \\\n",
       "0   165  ...                   90                    9.0   \n",
       "1  1190  ...                   87                    9.0   \n",
       "2  1366  ...                  100                   10.0   \n",
       "3  2150  ...                  100                   10.0   \n",
       "4  2200  ...                   94                   10.0   \n",
       "\n",
       "  Review Scores Cleanliness  Review Scores Checkin  \\\n",
       "0                      10.0                    8.0   \n",
       "1                      10.0                   10.0   \n",
       "2                      10.0                   10.0   \n",
       "3                      10.0                   10.0   \n",
       "4                      10.0                    9.0   \n",
       "\n",
       "   Review Scores Communication Review Scores Location Review Scores Value  \\\n",
       "0                          8.0                    9.0                 9.0   \n",
       "1                         10.0                   10.0                 8.0   \n",
       "2                         10.0                   10.0                10.0   \n",
       "3                         10.0                    9.0                10.0   \n",
       "4                         10.0                   10.0                10.0   \n",
       "\n",
       "   Reviews per month                                     Amenities_List  \\\n",
       "0               0.08  ['TV', 'Internet', 'Wireless Internet', 'Air c...   \n",
       "1               0.27  ['Internet', 'Wireless Internet', 'Kitchen', '...   \n",
       "2               0.28  ['TV', 'Wireless Internet', 'Kitchen', 'Buzzer...   \n",
       "3               0.79  ['TV', 'Cable TV', 'Internet', 'Wireless Inter...   \n",
       "4               1.40  ['Internet', 'Wireless Internet', 'Kitchen', '...   \n",
       "\n",
       "   Amenity_Count  \n",
       "0             11  \n",
       "1             12  \n",
       "2              8  \n",
       "3             23  \n",
       "4             10  \n",
       "\n",
       "[5 rows x 38 columns]"
      ]
     },
     "execution_count": 3,
     "metadata": {},
     "output_type": "execute_result"
    }
   ],
   "source": [
    "df.head()"
   ]
  },
  {
   "cell_type": "code",
   "execution_count": 4,
   "metadata": {},
   "outputs": [
    {
     "data": {
      "text/plain": [
       "Unnamed: 0                       int64\n",
       "Listing ID                       int64\n",
       "Name                            object\n",
       "Host ID                          int64\n",
       "Host Name                       object\n",
       "Host Response Rate              object\n",
       "Host Is Superhost               object\n",
       "Host total listings count      float64\n",
       "Street                          object\n",
       "City                            object\n",
       "Neighbourhood cleansed          object\n",
       "State                           object\n",
       "Country                         object\n",
       "latitude                       float64\n",
       "longitude                      float64\n",
       "Property type                   object\n",
       "Room type                       object\n",
       "Accommodates                     int64\n",
       "Bathrooms                      float64\n",
       "Bedrooms                       float64\n",
       "Amenities                       object\n",
       "Price                          float64\n",
       "Minimum nights                   int64\n",
       "Maximum nights                   int64\n",
       "Availability 365                 int64\n",
       "Calendar last scraped           object\n",
       "Number of reviews                int64\n",
       "Last Review Date                object\n",
       "Review Scores Rating            object\n",
       "Review Scores Accuracy         float64\n",
       "Review Scores Cleanliness      float64\n",
       "Review Scores Checkin          float64\n",
       "Review Scores Communication    float64\n",
       "Review Scores Location         float64\n",
       "Review Scores Value            float64\n",
       "Reviews per month              float64\n",
       "Amenities_List                  object\n",
       "Amenity_Count                    int64\n",
       "dtype: object"
      ]
     },
     "execution_count": 4,
     "metadata": {},
     "output_type": "execute_result"
    }
   ],
   "source": [
    "df.dtypes"
   ]
  },
  {
   "cell_type": "code",
   "execution_count": 5,
   "metadata": {},
   "outputs": [],
   "source": [
    "df = df.drop(columns=\"Unnamed: 0\")"
   ]
  },
  {
   "cell_type": "code",
   "execution_count": 6,
   "metadata": {},
   "outputs": [
    {
     "data": {
      "text/plain": [
       "(401816, 37)"
      ]
     },
     "execution_count": 6,
     "metadata": {},
     "output_type": "execute_result"
    }
   ],
   "source": [
    "df.shape"
   ]
  },
  {
   "cell_type": "markdown",
   "metadata": {},
   "source": [
    "### Transforming Listing ID and Host ID to string"
   ]
  },
  {
   "cell_type": "code",
   "execution_count": 7,
   "metadata": {},
   "outputs": [],
   "source": [
    "df[\"Listing ID\"] = df[\"Listing ID\"].astype(\"str\")"
   ]
  },
  {
   "cell_type": "code",
   "execution_count": 8,
   "metadata": {},
   "outputs": [],
   "source": [
    "df[\"Host ID\"] = df[\"Host ID\"].astype(\"str\")"
   ]
  },
  {
   "cell_type": "markdown",
   "metadata": {},
   "source": [
    "### Transforming Host Response Rate and Review Scores Ratings to float\n"
   ]
  },
  {
   "cell_type": "code",
   "execution_count": 9,
   "metadata": {},
   "outputs": [],
   "source": [
    "df[\"Host Response Rate\"] = df[\"Host Response Rate\"].str.strip(\"%\").astype(\"float\")"
   ]
  },
  {
   "cell_type": "code",
   "execution_count": 10,
   "metadata": {},
   "outputs": [],
   "source": [
    "df = df.loc[df[\"Review Scores Rating\"].notna()]"
   ]
  },
  {
   "cell_type": "code",
   "execution_count": 11,
   "metadata": {},
   "outputs": [],
   "source": [
    "df = df.loc[df[\"Review Scores Rating\"] != \"3/14/05\"]\n"
   ]
  },
  {
   "cell_type": "code",
   "execution_count": 12,
   "metadata": {},
   "outputs": [],
   "source": [
    "df[\"Review Scores Rating\"] = df[\"Review Scores Rating\"].astype(\"float\")"
   ]
  },
  {
   "cell_type": "markdown",
   "metadata": {},
   "source": [
    "### Transforming Host is Superhost to boolean"
   ]
  },
  {
   "cell_type": "code",
   "execution_count": 13,
   "metadata": {},
   "outputs": [],
   "source": [
    "df[\"Host Is Superhost\"] = df[\"Host Is Superhost\"].astype(\"bool\")"
   ]
  },
  {
   "cell_type": "markdown",
   "metadata": {},
   "source": [
    "### Transforming Calendar last scraped and Last Review Date to datetime"
   ]
  },
  {
   "cell_type": "code",
   "execution_count": 14,
   "metadata": {},
   "outputs": [],
   "source": [
    "df[\"Calendar last scraped\"] = pd.to_datetime(df[\"Calendar last scraped\"])"
   ]
  },
  {
   "cell_type": "code",
   "execution_count": 15,
   "metadata": {},
   "outputs": [],
   "source": [
    "df[\"Last Review Date\"] = pd.to_datetime(df[\"Last Review Date\"])"
   ]
  },
  {
   "cell_type": "code",
   "execution_count": 16,
   "metadata": {},
   "outputs": [
    {
     "data": {
      "text/plain": [
       "Listing ID                             object\n",
       "Name                                   object\n",
       "Host ID                                object\n",
       "Host Name                              object\n",
       "Host Response Rate                    float64\n",
       "Host Is Superhost                        bool\n",
       "Host total listings count             float64\n",
       "Street                                 object\n",
       "City                                   object\n",
       "Neighbourhood cleansed                 object\n",
       "State                                  object\n",
       "Country                                object\n",
       "latitude                              float64\n",
       "longitude                             float64\n",
       "Property type                          object\n",
       "Room type                              object\n",
       "Accommodates                            int64\n",
       "Bathrooms                             float64\n",
       "Bedrooms                              float64\n",
       "Amenities                              object\n",
       "Price                                 float64\n",
       "Minimum nights                          int64\n",
       "Maximum nights                          int64\n",
       "Availability 365                        int64\n",
       "Calendar last scraped          datetime64[ns]\n",
       "Number of reviews                       int64\n",
       "Last Review Date               datetime64[ns]\n",
       "Review Scores Rating                  float64\n",
       "Review Scores Accuracy                float64\n",
       "Review Scores Cleanliness             float64\n",
       "Review Scores Checkin                 float64\n",
       "Review Scores Communication           float64\n",
       "Review Scores Location                float64\n",
       "Review Scores Value                   float64\n",
       "Reviews per month                     float64\n",
       "Amenities_List                         object\n",
       "Amenity_Count                           int64\n",
       "dtype: object"
      ]
     },
     "execution_count": 16,
     "metadata": {},
     "output_type": "execute_result"
    }
   ],
   "source": [
    "df.dtypes"
   ]
  },
  {
   "cell_type": "markdown",
   "metadata": {},
   "source": [
    "### Verifying Countries' Column"
   ]
  },
  {
   "cell_type": "code",
   "execution_count": 17,
   "metadata": {},
   "outputs": [
    {
     "data": {
      "text/plain": [
       "{'Australia',\n",
       " 'Austria',\n",
       " 'Belgium',\n",
       " 'Canada',\n",
       " 'China',\n",
       " 'Denmark',\n",
       " 'France',\n",
       " 'Germany',\n",
       " 'Greece',\n",
       " 'Hong Kong',\n",
       " 'Ireland',\n",
       " 'Italy',\n",
       " 'Mexico',\n",
       " 'Netherlands',\n",
       " 'Spain',\n",
       " 'Switzerland',\n",
       " 'United Kingdom',\n",
       " 'United States',\n",
       " 'Uruguay',\n",
       " 'Vanuatu',\n",
       " 'Vatican City'}"
      ]
     },
     "execution_count": 17,
     "metadata": {},
     "output_type": "execute_result"
    }
   ],
   "source": [
    "set(df[\"Country\"])"
   ]
  },
  {
   "cell_type": "markdown",
   "metadata": {},
   "source": [
    "### Exporting final clean datas to a pickle\n",
    "\n",
    "1. Countries data set"
   ]
  },
  {
   "cell_type": "code",
   "execution_count": 18,
   "metadata": {},
   "outputs": [
    {
     "data": {
      "text/plain": [
       "Index(['Listing ID', 'Name', 'Host ID', 'Host Name', 'Host Response Rate',\n",
       "       'Host Is Superhost', 'Host total listings count', 'Street', 'City',\n",
       "       'Neighbourhood cleansed', 'State', 'Country', 'latitude', 'longitude',\n",
       "       'Property type', 'Room type', 'Accommodates', 'Bathrooms', 'Bedrooms',\n",
       "       'Amenities', 'Price', 'Minimum nights', 'Maximum nights',\n",
       "       'Availability 365', 'Calendar last scraped', 'Number of reviews',\n",
       "       'Last Review Date', 'Review Scores Rating', 'Review Scores Accuracy',\n",
       "       'Review Scores Cleanliness', 'Review Scores Checkin',\n",
       "       'Review Scores Communication', 'Review Scores Location',\n",
       "       'Review Scores Value', 'Reviews per month', 'Amenities_List',\n",
       "       'Amenity_Count'],\n",
       "      dtype='object')"
      ]
     },
     "execution_count": 18,
     "metadata": {},
     "output_type": "execute_result"
    }
   ],
   "source": [
    "df.columns"
   ]
  },
  {
   "cell_type": "code",
   "execution_count": 19,
   "metadata": {},
   "outputs": [],
   "source": [
    "df_countries = df[['Listing ID', 'Name', 'Host ID', 'Host Name', 'Host Response Rate'\n",
    "                  ,'Host Is Superhost', 'Host total listings count', 'Country', 'latitude'\n",
    "                  , 'longitude','Property type', 'Room type', 'Accommodates', 'Bathrooms', 'Bedrooms'\n",
    "                  , 'Amenities', 'Price', 'Minimum nights', 'Maximum nights', 'Availability 365'\n",
    "                  , 'Calendar last scraped', 'Number of reviews', 'Last Review Date', 'Review Scores Rating'\n",
    "                  , 'Review Scores Accuracy', 'Review Scores Cleanliness', 'Review Scores Checkin'\n",
    "                  , 'Review Scores Communication', 'Review Scores Location', 'Review Scores Value'\n",
    "                  , 'Reviews per month', 'Amenity_Count']]"
   ]
  },
  {
   "cell_type": "code",
   "execution_count": 20,
   "metadata": {},
   "outputs": [
    {
     "data": {
      "text/html": [
       "<div>\n",
       "<style scoped>\n",
       "    .dataframe tbody tr th:only-of-type {\n",
       "        vertical-align: middle;\n",
       "    }\n",
       "\n",
       "    .dataframe tbody tr th {\n",
       "        vertical-align: top;\n",
       "    }\n",
       "\n",
       "    .dataframe thead th {\n",
       "        text-align: right;\n",
       "    }\n",
       "</style>\n",
       "<table border=\"1\" class=\"dataframe\">\n",
       "  <thead>\n",
       "    <tr style=\"text-align: right;\">\n",
       "      <th></th>\n",
       "      <th>Listing ID</th>\n",
       "      <th>Name</th>\n",
       "      <th>Host ID</th>\n",
       "      <th>Host Name</th>\n",
       "      <th>Host Response Rate</th>\n",
       "      <th>Host Is Superhost</th>\n",
       "      <th>Host total listings count</th>\n",
       "      <th>Country</th>\n",
       "      <th>latitude</th>\n",
       "      <th>longitude</th>\n",
       "      <th>...</th>\n",
       "      <th>Last Review Date</th>\n",
       "      <th>Review Scores Rating</th>\n",
       "      <th>Review Scores Accuracy</th>\n",
       "      <th>Review Scores Cleanliness</th>\n",
       "      <th>Review Scores Checkin</th>\n",
       "      <th>Review Scores Communication</th>\n",
       "      <th>Review Scores Location</th>\n",
       "      <th>Review Scores Value</th>\n",
       "      <th>Reviews per month</th>\n",
       "      <th>Amenity_Count</th>\n",
       "    </tr>\n",
       "  </thead>\n",
       "  <tbody>\n",
       "    <tr>\n",
       "      <th>0</th>\n",
       "      <td>5534229</td>\n",
       "      <td>A 2 Passi da San Pietro</td>\n",
       "      <td>28697142</td>\n",
       "      <td>Veronica</td>\n",
       "      <td>100.0</td>\n",
       "      <td>False</td>\n",
       "      <td>5.0</td>\n",
       "      <td>Italy</td>\n",
       "      <td>41.895878</td>\n",
       "      <td>12.454430</td>\n",
       "      <td>...</td>\n",
       "      <td>2015-08-29</td>\n",
       "      <td>90.0</td>\n",
       "      <td>9.0</td>\n",
       "      <td>10.0</td>\n",
       "      <td>8.0</td>\n",
       "      <td>8.0</td>\n",
       "      <td>9.0</td>\n",
       "      <td>9.0</td>\n",
       "      <td>0.08</td>\n",
       "      <td>11</td>\n",
       "    </tr>\n",
       "    <tr>\n",
       "      <th>1</th>\n",
       "      <td>5903406</td>\n",
       "      <td>cosy small apartment</td>\n",
       "      <td>1853799</td>\n",
       "      <td>Veronika</td>\n",
       "      <td>88.0</td>\n",
       "      <td>False</td>\n",
       "      <td>2.0</td>\n",
       "      <td>Austria</td>\n",
       "      <td>48.246033</td>\n",
       "      <td>16.340743</td>\n",
       "      <td>...</td>\n",
       "      <td>2017-09-09</td>\n",
       "      <td>87.0</td>\n",
       "      <td>9.0</td>\n",
       "      <td>10.0</td>\n",
       "      <td>10.0</td>\n",
       "      <td>10.0</td>\n",
       "      <td>10.0</td>\n",
       "      <td>8.0</td>\n",
       "      <td>0.27</td>\n",
       "      <td>12</td>\n",
       "    </tr>\n",
       "    <tr>\n",
       "      <th>2</th>\n",
       "      <td>5203533</td>\n",
       "      <td>Rummelig lejl i hjertet af KBH</td>\n",
       "      <td>24801534</td>\n",
       "      <td>Marianne</td>\n",
       "      <td>100.0</td>\n",
       "      <td>False</td>\n",
       "      <td>1.0</td>\n",
       "      <td>Denmark</td>\n",
       "      <td>55.681579</td>\n",
       "      <td>12.562770</td>\n",
       "      <td>...</td>\n",
       "      <td>2016-07-26</td>\n",
       "      <td>100.0</td>\n",
       "      <td>10.0</td>\n",
       "      <td>10.0</td>\n",
       "      <td>10.0</td>\n",
       "      <td>10.0</td>\n",
       "      <td>10.0</td>\n",
       "      <td>10.0</td>\n",
       "      <td>0.28</td>\n",
       "      <td>8</td>\n",
       "    </tr>\n",
       "    <tr>\n",
       "      <th>3</th>\n",
       "      <td>8858475</td>\n",
       "      <td>Modern; spacious and warm; with its own balcony</td>\n",
       "      <td>3000397</td>\n",
       "      <td>Lasse</td>\n",
       "      <td>100.0</td>\n",
       "      <td>True</td>\n",
       "      <td>1.0</td>\n",
       "      <td>Denmark</td>\n",
       "      <td>55.708413</td>\n",
       "      <td>12.596737</td>\n",
       "      <td>...</td>\n",
       "      <td>2017-05-07</td>\n",
       "      <td>100.0</td>\n",
       "      <td>10.0</td>\n",
       "      <td>10.0</td>\n",
       "      <td>10.0</td>\n",
       "      <td>10.0</td>\n",
       "      <td>9.0</td>\n",
       "      <td>10.0</td>\n",
       "      <td>0.79</td>\n",
       "      <td>23</td>\n",
       "    </tr>\n",
       "    <tr>\n",
       "      <th>4</th>\n",
       "      <td>4215511</td>\n",
       "      <td>Nice room; Bohemian Cph; N�rrebro</td>\n",
       "      <td>126020</td>\n",
       "      <td>Lea</td>\n",
       "      <td>100.0</td>\n",
       "      <td>True</td>\n",
       "      <td>2.0</td>\n",
       "      <td>Denmark</td>\n",
       "      <td>55.687506</td>\n",
       "      <td>12.558365</td>\n",
       "      <td>...</td>\n",
       "      <td>2017-05-08</td>\n",
       "      <td>94.0</td>\n",
       "      <td>10.0</td>\n",
       "      <td>10.0</td>\n",
       "      <td>9.0</td>\n",
       "      <td>10.0</td>\n",
       "      <td>10.0</td>\n",
       "      <td>10.0</td>\n",
       "      <td>1.40</td>\n",
       "      <td>10</td>\n",
       "    </tr>\n",
       "  </tbody>\n",
       "</table>\n",
       "<p>5 rows × 32 columns</p>\n",
       "</div>"
      ],
      "text/plain": [
       "  Listing ID                                             Name   Host ID  \\\n",
       "0    5534229                          A 2 Passi da San Pietro  28697142   \n",
       "1    5903406                             cosy small apartment   1853799   \n",
       "2    5203533                   Rummelig lejl i hjertet af KBH  24801534   \n",
       "3    8858475  Modern; spacious and warm; with its own balcony   3000397   \n",
       "4    4215511                Nice room; Bohemian Cph; N�rrebro    126020   \n",
       "\n",
       "  Host Name  Host Response Rate  Host Is Superhost  Host total listings count  \\\n",
       "0  Veronica               100.0              False                        5.0   \n",
       "1  Veronika                88.0              False                        2.0   \n",
       "2  Marianne               100.0              False                        1.0   \n",
       "3     Lasse               100.0               True                        1.0   \n",
       "4       Lea               100.0               True                        2.0   \n",
       "\n",
       "   Country   latitude  longitude  ... Last Review Date Review Scores Rating  \\\n",
       "0    Italy  41.895878  12.454430  ...       2015-08-29                 90.0   \n",
       "1  Austria  48.246033  16.340743  ...       2017-09-09                 87.0   \n",
       "2  Denmark  55.681579  12.562770  ...       2016-07-26                100.0   \n",
       "3  Denmark  55.708413  12.596737  ...       2017-05-07                100.0   \n",
       "4  Denmark  55.687506  12.558365  ...       2017-05-08                 94.0   \n",
       "\n",
       "   Review Scores Accuracy  Review Scores Cleanliness  Review Scores Checkin  \\\n",
       "0                     9.0                       10.0                    8.0   \n",
       "1                     9.0                       10.0                   10.0   \n",
       "2                    10.0                       10.0                   10.0   \n",
       "3                    10.0                       10.0                   10.0   \n",
       "4                    10.0                       10.0                    9.0   \n",
       "\n",
       "  Review Scores Communication  Review Scores Location  Review Scores Value  \\\n",
       "0                         8.0                     9.0                  9.0   \n",
       "1                        10.0                    10.0                  8.0   \n",
       "2                        10.0                    10.0                 10.0   \n",
       "3                        10.0                     9.0                 10.0   \n",
       "4                        10.0                    10.0                 10.0   \n",
       "\n",
       "   Reviews per month  Amenity_Count  \n",
       "0               0.08             11  \n",
       "1               0.27             12  \n",
       "2               0.28              8  \n",
       "3               0.79             23  \n",
       "4               1.40             10  \n",
       "\n",
       "[5 rows x 32 columns]"
      ]
     },
     "execution_count": 20,
     "metadata": {},
     "output_type": "execute_result"
    }
   ],
   "source": [
    "df_countries.head()"
   ]
  },
  {
   "cell_type": "code",
   "execution_count": 21,
   "metadata": {},
   "outputs": [],
   "source": [
    "df_countries.to_pickle(\"C:/Users/Admin/Documents/ironhack/AirBnB_data/airbnb_listings_countries.pkl\")"
   ]
  },
  {
   "cell_type": "markdown",
   "metadata": {},
   "source": [
    "2. US data set"
   ]
  },
  {
   "cell_type": "code",
   "execution_count": 22,
   "metadata": {},
   "outputs": [],
   "source": [
    "df_usa = df[df[\"Country\"] == \"United States\"].reset_index(drop=True)"
   ]
  },
  {
   "cell_type": "code",
   "execution_count": 24,
   "metadata": {},
   "outputs": [],
   "source": [
    "df_usa = df_usa[['Listing ID', 'Name', 'Host ID', 'Host Name', 'Host Response Rate',\n",
    "               'Host Is Superhost', 'Host total listings count', 'Street', 'City',\n",
    "               'Neighbourhood cleansed', 'State', 'Country', 'latitude', 'longitude',\n",
    "               'Property type', 'Room type', 'Accommodates', 'Bathrooms', 'Bedrooms',\n",
    "               'Amenities', 'Price', 'Minimum nights', 'Maximum nights',\n",
    "               'Availability 365', 'Calendar last scraped', 'Number of reviews',\n",
    "               'Last Review Date', 'Review Scores Rating', 'Review Scores Accuracy',\n",
    "               'Review Scores Cleanliness', 'Review Scores Checkin',\n",
    "               'Review Scores Communication', 'Review Scores Location',\n",
    "               'Review Scores Value', 'Reviews per month',\n",
    "               'Amenity_Count']]"
   ]
  },
  {
   "cell_type": "code",
   "execution_count": 25,
   "metadata": {},
   "outputs": [],
   "source": [
    "df_usa.to_pickle(\"C:/Users/Admin/Documents/ironhack/AirBnB_data/airbnb_listings_usa.pkl\")"
   ]
  },
  {
   "cell_type": "markdown",
   "metadata": {},
   "source": [
    "3. Amenities data set"
   ]
  },
  {
   "cell_type": "code",
   "execution_count": null,
   "metadata": {},
   "outputs": [],
   "source": []
  }
 ],
 "metadata": {
  "kernelspec": {
   "display_name": "Python 3",
   "language": "python",
   "name": "python3"
  },
  "language_info": {
   "codemirror_mode": {
    "name": "ipython",
    "version": 3
   },
   "file_extension": ".py",
   "mimetype": "text/x-python",
   "name": "python",
   "nbconvert_exporter": "python",
   "pygments_lexer": "ipython3",
   "version": "3.7.6"
  }
 },
 "nbformat": 4,
 "nbformat_minor": 4
}
