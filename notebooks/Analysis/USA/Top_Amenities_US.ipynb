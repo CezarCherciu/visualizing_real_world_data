{
 "cells": [
  {
   "cell_type": "code",
   "execution_count": 1,
   "metadata": {},
   "outputs": [],
   "source": [
    "import pandas as pd\n",
    "import numpy as np"
   ]
  },
  {
   "cell_type": "markdown",
   "metadata": {},
   "source": [
    "## Top amenities per city in the US\n",
    "#### Goals for this step:\n",
    "- Find the top amenities, excluding the basic ones, for each city on the US data frame"
   ]
  },
  {
   "cell_type": "code",
   "execution_count": 2,
   "metadata": {},
   "outputs": [],
   "source": [
    "df = pd.read_pickle(\"C:/Users/Admin/Documents/ironhack/AirBnB_data/airbnb_amenities_usa.pkl\")"
   ]
  },
  {
   "cell_type": "code",
   "execution_count": 3,
   "metadata": {},
   "outputs": [
    {
     "data": {
      "text/html": [
       "<div>\n",
       "<style scoped>\n",
       "    .dataframe tbody tr th:only-of-type {\n",
       "        vertical-align: middle;\n",
       "    }\n",
       "\n",
       "    .dataframe tbody tr th {\n",
       "        vertical-align: top;\n",
       "    }\n",
       "\n",
       "    .dataframe thead th {\n",
       "        text-align: right;\n",
       "    }\n",
       "</style>\n",
       "<table border=\"1\" class=\"dataframe\">\n",
       "  <thead>\n",
       "    <tr style=\"text-align: right;\">\n",
       "      <th>amenity</th>\n",
       "      <th>wireless internet</th>\n",
       "      <th>heating</th>\n",
       "      <th>kitchen</th>\n",
       "      <th>essentials</th>\n",
       "      <th>smoke detector</th>\n",
       "      <th>air conditioning</th>\n",
       "      <th>tv</th>\n",
       "      <th>shampoo</th>\n",
       "      <th>hangers</th>\n",
       "      <th>carbon monoxide detector</th>\n",
       "      <th>...</th>\n",
       "      <th>pocket wifi</th>\n",
       "      <th>changing table</th>\n",
       "      <th>hot water kettle</th>\n",
       "      <th>handheld shower head</th>\n",
       "      <th>wide clearance to shower &amp; toilet</th>\n",
       "      <th>baby monitor</th>\n",
       "      <th>firm mattress</th>\n",
       "      <th>private bathroom</th>\n",
       "      <th>city</th>\n",
       "      <th>review_score</th>\n",
       "    </tr>\n",
       "  </thead>\n",
       "  <tbody>\n",
       "    <tr>\n",
       "      <th>0</th>\n",
       "      <td>1</td>\n",
       "      <td>1</td>\n",
       "      <td>1</td>\n",
       "      <td>1</td>\n",
       "      <td>1</td>\n",
       "      <td>1</td>\n",
       "      <td>0</td>\n",
       "      <td>1</td>\n",
       "      <td>1</td>\n",
       "      <td>1</td>\n",
       "      <td>...</td>\n",
       "      <td>0</td>\n",
       "      <td>0</td>\n",
       "      <td>0</td>\n",
       "      <td>0</td>\n",
       "      <td>0</td>\n",
       "      <td>0</td>\n",
       "      <td>0</td>\n",
       "      <td>0</td>\n",
       "      <td>San Francisco</td>\n",
       "      <td>92.0</td>\n",
       "    </tr>\n",
       "    <tr>\n",
       "      <th>1</th>\n",
       "      <td>1</td>\n",
       "      <td>1</td>\n",
       "      <td>0</td>\n",
       "      <td>0</td>\n",
       "      <td>1</td>\n",
       "      <td>1</td>\n",
       "      <td>0</td>\n",
       "      <td>0</td>\n",
       "      <td>1</td>\n",
       "      <td>1</td>\n",
       "      <td>...</td>\n",
       "      <td>0</td>\n",
       "      <td>0</td>\n",
       "      <td>0</td>\n",
       "      <td>0</td>\n",
       "      <td>0</td>\n",
       "      <td>0</td>\n",
       "      <td>0</td>\n",
       "      <td>0</td>\n",
       "      <td>Los Angeles</td>\n",
       "      <td>95.0</td>\n",
       "    </tr>\n",
       "    <tr>\n",
       "      <th>2</th>\n",
       "      <td>1</td>\n",
       "      <td>1</td>\n",
       "      <td>0</td>\n",
       "      <td>0</td>\n",
       "      <td>0</td>\n",
       "      <td>0</td>\n",
       "      <td>0</td>\n",
       "      <td>0</td>\n",
       "      <td>0</td>\n",
       "      <td>0</td>\n",
       "      <td>...</td>\n",
       "      <td>0</td>\n",
       "      <td>0</td>\n",
       "      <td>0</td>\n",
       "      <td>0</td>\n",
       "      <td>0</td>\n",
       "      <td>0</td>\n",
       "      <td>0</td>\n",
       "      <td>0</td>\n",
       "      <td>San Francisco</td>\n",
       "      <td>100.0</td>\n",
       "    </tr>\n",
       "    <tr>\n",
       "      <th>3</th>\n",
       "      <td>1</td>\n",
       "      <td>1</td>\n",
       "      <td>1</td>\n",
       "      <td>1</td>\n",
       "      <td>1</td>\n",
       "      <td>1</td>\n",
       "      <td>1</td>\n",
       "      <td>1</td>\n",
       "      <td>1</td>\n",
       "      <td>0</td>\n",
       "      <td>...</td>\n",
       "      <td>0</td>\n",
       "      <td>0</td>\n",
       "      <td>0</td>\n",
       "      <td>0</td>\n",
       "      <td>0</td>\n",
       "      <td>0</td>\n",
       "      <td>0</td>\n",
       "      <td>0</td>\n",
       "      <td>Los Angeles</td>\n",
       "      <td>90.0</td>\n",
       "    </tr>\n",
       "    <tr>\n",
       "      <th>4</th>\n",
       "      <td>1</td>\n",
       "      <td>1</td>\n",
       "      <td>1</td>\n",
       "      <td>1</td>\n",
       "      <td>1</td>\n",
       "      <td>0</td>\n",
       "      <td>0</td>\n",
       "      <td>1</td>\n",
       "      <td>1</td>\n",
       "      <td>1</td>\n",
       "      <td>...</td>\n",
       "      <td>0</td>\n",
       "      <td>0</td>\n",
       "      <td>0</td>\n",
       "      <td>0</td>\n",
       "      <td>0</td>\n",
       "      <td>0</td>\n",
       "      <td>0</td>\n",
       "      <td>0</td>\n",
       "      <td>San Diego</td>\n",
       "      <td>95.0</td>\n",
       "    </tr>\n",
       "    <tr>\n",
       "      <th>...</th>\n",
       "      <td>...</td>\n",
       "      <td>...</td>\n",
       "      <td>...</td>\n",
       "      <td>...</td>\n",
       "      <td>...</td>\n",
       "      <td>...</td>\n",
       "      <td>...</td>\n",
       "      <td>...</td>\n",
       "      <td>...</td>\n",
       "      <td>...</td>\n",
       "      <td>...</td>\n",
       "      <td>...</td>\n",
       "      <td>...</td>\n",
       "      <td>...</td>\n",
       "      <td>...</td>\n",
       "      <td>...</td>\n",
       "      <td>...</td>\n",
       "      <td>...</td>\n",
       "      <td>...</td>\n",
       "      <td>...</td>\n",
       "      <td>...</td>\n",
       "    </tr>\n",
       "    <tr>\n",
       "      <th>105548</th>\n",
       "      <td>1</td>\n",
       "      <td>1</td>\n",
       "      <td>1</td>\n",
       "      <td>1</td>\n",
       "      <td>1</td>\n",
       "      <td>1</td>\n",
       "      <td>1</td>\n",
       "      <td>1</td>\n",
       "      <td>1</td>\n",
       "      <td>0</td>\n",
       "      <td>...</td>\n",
       "      <td>0</td>\n",
       "      <td>0</td>\n",
       "      <td>0</td>\n",
       "      <td>0</td>\n",
       "      <td>0</td>\n",
       "      <td>0</td>\n",
       "      <td>0</td>\n",
       "      <td>0</td>\n",
       "      <td>Los Angeles</td>\n",
       "      <td>92.0</td>\n",
       "    </tr>\n",
       "    <tr>\n",
       "      <th>105549</th>\n",
       "      <td>1</td>\n",
       "      <td>1</td>\n",
       "      <td>1</td>\n",
       "      <td>1</td>\n",
       "      <td>1</td>\n",
       "      <td>1</td>\n",
       "      <td>1</td>\n",
       "      <td>1</td>\n",
       "      <td>1</td>\n",
       "      <td>1</td>\n",
       "      <td>...</td>\n",
       "      <td>0</td>\n",
       "      <td>0</td>\n",
       "      <td>0</td>\n",
       "      <td>0</td>\n",
       "      <td>0</td>\n",
       "      <td>0</td>\n",
       "      <td>0</td>\n",
       "      <td>0</td>\n",
       "      <td>Los Angeles</td>\n",
       "      <td>82.0</td>\n",
       "    </tr>\n",
       "    <tr>\n",
       "      <th>105550</th>\n",
       "      <td>1</td>\n",
       "      <td>1</td>\n",
       "      <td>1</td>\n",
       "      <td>1</td>\n",
       "      <td>1</td>\n",
       "      <td>1</td>\n",
       "      <td>1</td>\n",
       "      <td>1</td>\n",
       "      <td>1</td>\n",
       "      <td>1</td>\n",
       "      <td>...</td>\n",
       "      <td>0</td>\n",
       "      <td>0</td>\n",
       "      <td>0</td>\n",
       "      <td>0</td>\n",
       "      <td>0</td>\n",
       "      <td>0</td>\n",
       "      <td>0</td>\n",
       "      <td>0</td>\n",
       "      <td>Los Angeles</td>\n",
       "      <td>98.0</td>\n",
       "    </tr>\n",
       "    <tr>\n",
       "      <th>105551</th>\n",
       "      <td>1</td>\n",
       "      <td>1</td>\n",
       "      <td>1</td>\n",
       "      <td>1</td>\n",
       "      <td>1</td>\n",
       "      <td>1</td>\n",
       "      <td>1</td>\n",
       "      <td>1</td>\n",
       "      <td>1</td>\n",
       "      <td>1</td>\n",
       "      <td>...</td>\n",
       "      <td>0</td>\n",
       "      <td>0</td>\n",
       "      <td>0</td>\n",
       "      <td>0</td>\n",
       "      <td>0</td>\n",
       "      <td>0</td>\n",
       "      <td>0</td>\n",
       "      <td>0</td>\n",
       "      <td>Los Angeles</td>\n",
       "      <td>100.0</td>\n",
       "    </tr>\n",
       "    <tr>\n",
       "      <th>105552</th>\n",
       "      <td>1</td>\n",
       "      <td>1</td>\n",
       "      <td>1</td>\n",
       "      <td>0</td>\n",
       "      <td>1</td>\n",
       "      <td>1</td>\n",
       "      <td>1</td>\n",
       "      <td>0</td>\n",
       "      <td>1</td>\n",
       "      <td>1</td>\n",
       "      <td>...</td>\n",
       "      <td>0</td>\n",
       "      <td>0</td>\n",
       "      <td>0</td>\n",
       "      <td>0</td>\n",
       "      <td>0</td>\n",
       "      <td>0</td>\n",
       "      <td>0</td>\n",
       "      <td>0</td>\n",
       "      <td>Los Angeles</td>\n",
       "      <td>90.0</td>\n",
       "    </tr>\n",
       "  </tbody>\n",
       "</table>\n",
       "<p>105553 rows × 102 columns</p>\n",
       "</div>"
      ],
      "text/plain": [
       "amenity  wireless internet  heating  kitchen  essentials  smoke detector  \\\n",
       "0                        1        1        1           1               1   \n",
       "1                        1        1        0           0               1   \n",
       "2                        1        1        0           0               0   \n",
       "3                        1        1        1           1               1   \n",
       "4                        1        1        1           1               1   \n",
       "...                    ...      ...      ...         ...             ...   \n",
       "105548                   1        1        1           1               1   \n",
       "105549                   1        1        1           1               1   \n",
       "105550                   1        1        1           1               1   \n",
       "105551                   1        1        1           1               1   \n",
       "105552                   1        1        1           0               1   \n",
       "\n",
       "amenity  air conditioning  tv  shampoo  hangers  carbon monoxide detector  \\\n",
       "0                       1   0        1        1                         1   \n",
       "1                       1   0        0        1                         1   \n",
       "2                       0   0        0        0                         0   \n",
       "3                       1   1        1        1                         0   \n",
       "4                       0   0        1        1                         1   \n",
       "...                   ...  ..      ...      ...                       ...   \n",
       "105548                  1   1        1        1                         0   \n",
       "105549                  1   1        1        1                         1   \n",
       "105550                  1   1        1        1                         1   \n",
       "105551                  1   1        1        1                         1   \n",
       "105552                  1   1        0        1                         1   \n",
       "\n",
       "amenity  ...  pocket wifi  changing table  hot water kettle  \\\n",
       "0        ...            0               0                 0   \n",
       "1        ...            0               0                 0   \n",
       "2        ...            0               0                 0   \n",
       "3        ...            0               0                 0   \n",
       "4        ...            0               0                 0   \n",
       "...      ...          ...             ...               ...   \n",
       "105548   ...            0               0                 0   \n",
       "105549   ...            0               0                 0   \n",
       "105550   ...            0               0                 0   \n",
       "105551   ...            0               0                 0   \n",
       "105552   ...            0               0                 0   \n",
       "\n",
       "amenity  handheld shower head  wide clearance to shower & toilet  \\\n",
       "0                           0                                  0   \n",
       "1                           0                                  0   \n",
       "2                           0                                  0   \n",
       "3                           0                                  0   \n",
       "4                           0                                  0   \n",
       "...                       ...                                ...   \n",
       "105548                      0                                  0   \n",
       "105549                      0                                  0   \n",
       "105550                      0                                  0   \n",
       "105551                      0                                  0   \n",
       "105552                      0                                  0   \n",
       "\n",
       "amenity  baby monitor  firm mattress  private bathroom           city  \\\n",
       "0                   0              0                 0  San Francisco   \n",
       "1                   0              0                 0    Los Angeles   \n",
       "2                   0              0                 0  San Francisco   \n",
       "3                   0              0                 0    Los Angeles   \n",
       "4                   0              0                 0      San Diego   \n",
       "...               ...            ...               ...            ...   \n",
       "105548              0              0                 0    Los Angeles   \n",
       "105549              0              0                 0    Los Angeles   \n",
       "105550              0              0                 0    Los Angeles   \n",
       "105551              0              0                 0    Los Angeles   \n",
       "105552              0              0                 0    Los Angeles   \n",
       "\n",
       "amenity  review_score  \n",
       "0                92.0  \n",
       "1                95.0  \n",
       "2               100.0  \n",
       "3                90.0  \n",
       "4                95.0  \n",
       "...               ...  \n",
       "105548           92.0  \n",
       "105549           82.0  \n",
       "105550           98.0  \n",
       "105551          100.0  \n",
       "105552           90.0  \n",
       "\n",
       "[105553 rows x 102 columns]"
      ]
     },
     "execution_count": 3,
     "metadata": {},
     "output_type": "execute_result"
    }
   ],
   "source": [
    "df"
   ]
  },
  {
   "cell_type": "code",
   "execution_count": 4,
   "metadata": {},
   "outputs": [],
   "source": [
    "cities = list(df[\"city\"].value_counts().index)\n",
    "cities.sort()"
   ]
  },
  {
   "cell_type": "code",
   "execution_count": 5,
   "metadata": {},
   "outputs": [
    {
     "data": {
      "text/plain": [
       "['Austin',\n",
       " 'Boston',\n",
       " 'Brooklyn',\n",
       " 'Chicago',\n",
       " 'Denver',\n",
       " 'Los Angeles',\n",
       " 'Manhattan',\n",
       " 'Nashville',\n",
       " 'New Orleans',\n",
       " 'Oakland',\n",
       " 'Portland',\n",
       " 'Queens',\n",
       " 'San Diego',\n",
       " 'San Francisco',\n",
       " 'Seattle',\n",
       " 'Washington']"
      ]
     },
     "execution_count": 5,
     "metadata": {},
     "output_type": "execute_result"
    }
   ],
   "source": [
    "cities"
   ]
  },
  {
   "cell_type": "markdown",
   "metadata": {},
   "source": [
    "We will use the same function created on the Top Amenities pero Country Notebook."
   ]
  },
  {
   "cell_type": "code",
   "execution_count": 6,
   "metadata": {},
   "outputs": [],
   "source": [
    "def amenities_per_city(df, city, no=10):\n",
    "    df = df[df[\"city\"] == city].copy().reset_index(drop=True)\n",
    "    df = df[df[\"review_score\"] >= 98].copy().reset_index(drop=True)\n",
    "    top_amenities = list(df.drop(columns=[\"city\", \"review_score\"])\n",
    "                         .sum().sort_values(ascending=False).head(no).index)\n",
    "    return top_amenities"
   ]
  },
  {
   "cell_type": "code",
   "execution_count": 7,
   "metadata": {},
   "outputs": [
    {
     "data": {
      "text/plain": [
       "['air conditioning',\n",
       " 'wireless internet',\n",
       " 'heating',\n",
       " 'kitchen',\n",
       " 'free parking on premises',\n",
       " 'smoke detector',\n",
       " 'essentials',\n",
       " 'washer',\n",
       " 'tv',\n",
       " 'dryer']"
      ]
     },
     "execution_count": 7,
     "metadata": {},
     "output_type": "execute_result"
    }
   ],
   "source": [
    "amenities_per_city(df, cities[0], 10)"
   ]
  },
  {
   "cell_type": "markdown",
   "metadata": {},
   "source": [
    "We will remove the basic amenities from the original data frame."
   ]
  },
  {
   "cell_type": "code",
   "execution_count": 8,
   "metadata": {},
   "outputs": [],
   "source": [
    "basic_amenities = [\"essentials\", \"wireless internet\", \"internet\", \"tv\", \"heating\", \"air conditioning\", \"iron\", \"shampoo\"\n",
    "                   , \"hair dryer\", \"breakfast\", \"laptop friendly workspace\", \"indoor fireplace\", \"hangers\", \"private entrance\"\n",
    "                  , \"smoke detector\", \"carbon monoxide detector\", \"fire extinguisher\", \"first aid kit\"\n",
    "                   , \"lock on bedroom door\"]"
   ]
  },
  {
   "cell_type": "code",
   "execution_count": 9,
   "metadata": {},
   "outputs": [],
   "source": [
    "new_columns = []\n",
    "\n",
    "for i in df.columns:\n",
    "    if i not in basic_amenities:\n",
    "        new_columns.append(i)"
   ]
  },
  {
   "cell_type": "code",
   "execution_count": 10,
   "metadata": {},
   "outputs": [
    {
     "data": {
      "text/html": [
       "<div>\n",
       "<style scoped>\n",
       "    .dataframe tbody tr th:only-of-type {\n",
       "        vertical-align: middle;\n",
       "    }\n",
       "\n",
       "    .dataframe tbody tr th {\n",
       "        vertical-align: top;\n",
       "    }\n",
       "\n",
       "    .dataframe thead th {\n",
       "        text-align: right;\n",
       "    }\n",
       "</style>\n",
       "<table border=\"1\" class=\"dataframe\">\n",
       "  <thead>\n",
       "    <tr style=\"text-align: right;\">\n",
       "      <th>amenity</th>\n",
       "      <th>kitchen</th>\n",
       "      <th>washer</th>\n",
       "      <th>dryer</th>\n",
       "      <th>family/kid friendly</th>\n",
       "      <th>free parking on premises</th>\n",
       "      <th>cable tv</th>\n",
       "      <th>24-hour check-in</th>\n",
       "      <th>buzzer/wireless intercom</th>\n",
       "      <th>self check-in</th>\n",
       "      <th>safety card</th>\n",
       "      <th>...</th>\n",
       "      <th>pocket wifi</th>\n",
       "      <th>changing table</th>\n",
       "      <th>hot water kettle</th>\n",
       "      <th>handheld shower head</th>\n",
       "      <th>wide clearance to shower &amp; toilet</th>\n",
       "      <th>baby monitor</th>\n",
       "      <th>firm mattress</th>\n",
       "      <th>private bathroom</th>\n",
       "      <th>city</th>\n",
       "      <th>review_score</th>\n",
       "    </tr>\n",
       "  </thead>\n",
       "  <tbody>\n",
       "    <tr>\n",
       "      <th>0</th>\n",
       "      <td>1</td>\n",
       "      <td>0</td>\n",
       "      <td>0</td>\n",
       "      <td>1</td>\n",
       "      <td>0</td>\n",
       "      <td>0</td>\n",
       "      <td>1</td>\n",
       "      <td>0</td>\n",
       "      <td>0</td>\n",
       "      <td>1</td>\n",
       "      <td>...</td>\n",
       "      <td>0</td>\n",
       "      <td>0</td>\n",
       "      <td>0</td>\n",
       "      <td>0</td>\n",
       "      <td>0</td>\n",
       "      <td>0</td>\n",
       "      <td>0</td>\n",
       "      <td>0</td>\n",
       "      <td>San Francisco</td>\n",
       "      <td>92.0</td>\n",
       "    </tr>\n",
       "    <tr>\n",
       "      <th>1</th>\n",
       "      <td>0</td>\n",
       "      <td>1</td>\n",
       "      <td>1</td>\n",
       "      <td>1</td>\n",
       "      <td>0</td>\n",
       "      <td>0</td>\n",
       "      <td>0</td>\n",
       "      <td>0</td>\n",
       "      <td>0</td>\n",
       "      <td>0</td>\n",
       "      <td>...</td>\n",
       "      <td>0</td>\n",
       "      <td>0</td>\n",
       "      <td>0</td>\n",
       "      <td>0</td>\n",
       "      <td>0</td>\n",
       "      <td>0</td>\n",
       "      <td>0</td>\n",
       "      <td>0</td>\n",
       "      <td>Los Angeles</td>\n",
       "      <td>95.0</td>\n",
       "    </tr>\n",
       "    <tr>\n",
       "      <th>2</th>\n",
       "      <td>0</td>\n",
       "      <td>1</td>\n",
       "      <td>1</td>\n",
       "      <td>0</td>\n",
       "      <td>0</td>\n",
       "      <td>0</td>\n",
       "      <td>0</td>\n",
       "      <td>0</td>\n",
       "      <td>0</td>\n",
       "      <td>0</td>\n",
       "      <td>...</td>\n",
       "      <td>0</td>\n",
       "      <td>0</td>\n",
       "      <td>0</td>\n",
       "      <td>0</td>\n",
       "      <td>0</td>\n",
       "      <td>0</td>\n",
       "      <td>0</td>\n",
       "      <td>0</td>\n",
       "      <td>San Francisco</td>\n",
       "      <td>100.0</td>\n",
       "    </tr>\n",
       "    <tr>\n",
       "      <th>3</th>\n",
       "      <td>1</td>\n",
       "      <td>1</td>\n",
       "      <td>1</td>\n",
       "      <td>1</td>\n",
       "      <td>1</td>\n",
       "      <td>0</td>\n",
       "      <td>0</td>\n",
       "      <td>0</td>\n",
       "      <td>1</td>\n",
       "      <td>0</td>\n",
       "      <td>...</td>\n",
       "      <td>0</td>\n",
       "      <td>0</td>\n",
       "      <td>0</td>\n",
       "      <td>0</td>\n",
       "      <td>0</td>\n",
       "      <td>0</td>\n",
       "      <td>0</td>\n",
       "      <td>0</td>\n",
       "      <td>Los Angeles</td>\n",
       "      <td>90.0</td>\n",
       "    </tr>\n",
       "    <tr>\n",
       "      <th>4</th>\n",
       "      <td>1</td>\n",
       "      <td>0</td>\n",
       "      <td>0</td>\n",
       "      <td>0</td>\n",
       "      <td>1</td>\n",
       "      <td>0</td>\n",
       "      <td>1</td>\n",
       "      <td>0</td>\n",
       "      <td>0</td>\n",
       "      <td>0</td>\n",
       "      <td>...</td>\n",
       "      <td>0</td>\n",
       "      <td>0</td>\n",
       "      <td>0</td>\n",
       "      <td>0</td>\n",
       "      <td>0</td>\n",
       "      <td>0</td>\n",
       "      <td>0</td>\n",
       "      <td>0</td>\n",
       "      <td>San Diego</td>\n",
       "      <td>95.0</td>\n",
       "    </tr>\n",
       "  </tbody>\n",
       "</table>\n",
       "<p>5 rows × 83 columns</p>\n",
       "</div>"
      ],
      "text/plain": [
       "amenity  kitchen  washer  dryer  family/kid friendly  \\\n",
       "0              1       0      0                    1   \n",
       "1              0       1      1                    1   \n",
       "2              0       1      1                    0   \n",
       "3              1       1      1                    1   \n",
       "4              1       0      0                    0   \n",
       "\n",
       "amenity  free parking on premises  cable tv  24-hour check-in  \\\n",
       "0                               0         0                 1   \n",
       "1                               0         0                 0   \n",
       "2                               0         0                 0   \n",
       "3                               1         0                 0   \n",
       "4                               1         0                 1   \n",
       "\n",
       "amenity  buzzer/wireless intercom  self check-in  safety card  ...  \\\n",
       "0                               0              0            1  ...   \n",
       "1                               0              0            0  ...   \n",
       "2                               0              0            0  ...   \n",
       "3                               0              1            0  ...   \n",
       "4                               0              0            0  ...   \n",
       "\n",
       "amenity  pocket wifi  changing table  hot water kettle  handheld shower head  \\\n",
       "0                  0               0                 0                     0   \n",
       "1                  0               0                 0                     0   \n",
       "2                  0               0                 0                     0   \n",
       "3                  0               0                 0                     0   \n",
       "4                  0               0                 0                     0   \n",
       "\n",
       "amenity  wide clearance to shower & toilet  baby monitor  firm mattress  \\\n",
       "0                                        0             0              0   \n",
       "1                                        0             0              0   \n",
       "2                                        0             0              0   \n",
       "3                                        0             0              0   \n",
       "4                                        0             0              0   \n",
       "\n",
       "amenity  private bathroom           city  review_score  \n",
       "0                       0  San Francisco          92.0  \n",
       "1                       0    Los Angeles          95.0  \n",
       "2                       0  San Francisco         100.0  \n",
       "3                       0    Los Angeles          90.0  \n",
       "4                       0      San Diego          95.0  \n",
       "\n",
       "[5 rows x 83 columns]"
      ]
     },
     "execution_count": 10,
     "metadata": {},
     "output_type": "execute_result"
    }
   ],
   "source": [
    "df_extra_amenities = df[new_columns].reset_index(drop=True).copy()\n",
    "\n",
    "df_extra_amenities.head()"
   ]
  },
  {
   "cell_type": "markdown",
   "metadata": {},
   "source": [
    "Now we can look at the top 10 amenities for each city."
   ]
  },
  {
   "cell_type": "code",
   "execution_count": 11,
   "metadata": {},
   "outputs": [],
   "source": [
    "cities_top_amenities = {}\n",
    "\n",
    "for i in cities:\n",
    "    cities_top_amenities[i] = amenities_per_city(df_extra_amenities, i, 10)"
   ]
  },
  {
   "cell_type": "code",
   "execution_count": 12,
   "metadata": {},
   "outputs": [
    {
     "data": {
      "text/plain": [
       "['kitchen',\n",
       " 'free parking on premises',\n",
       " 'washer',\n",
       " 'dryer',\n",
       " 'family/kid friendly',\n",
       " '24-hour check-in',\n",
       " 'cable tv',\n",
       " 'pets live on this property',\n",
       " 'pool',\n",
       " 'pets allowed']"
      ]
     },
     "execution_count": 12,
     "metadata": {},
     "output_type": "execute_result"
    }
   ],
   "source": [
    "cities_top_amenities[\"Austin\"]"
   ]
  },
  {
   "cell_type": "code",
   "execution_count": 13,
   "metadata": {},
   "outputs": [
    {
     "data": {
      "text/plain": [
       "['kitchen',\n",
       " 'washer',\n",
       " 'dryer',\n",
       " 'family/kid friendly',\n",
       " 'cable tv',\n",
       " 'self check-in',\n",
       " '24-hour check-in',\n",
       " 'refrigerator',\n",
       " 'free parking on premises',\n",
       " 'microwave']"
      ]
     },
     "execution_count": 13,
     "metadata": {},
     "output_type": "execute_result"
    }
   ],
   "source": [
    "cities_top_amenities[\"Boston\"]"
   ]
  },
  {
   "cell_type": "code",
   "execution_count": 14,
   "metadata": {},
   "outputs": [
    {
     "data": {
      "text/plain": [
       "['kitchen',\n",
       " 'washer',\n",
       " 'dryer',\n",
       " 'family/kid friendly',\n",
       " 'buzzer/wireless intercom',\n",
       " 'cable tv',\n",
       " 'elevator',\n",
       " '24-hour check-in',\n",
       " 'self check-in',\n",
       " 'pets live on this property']"
      ]
     },
     "execution_count": 14,
     "metadata": {},
     "output_type": "execute_result"
    }
   ],
   "source": [
    "cities_top_amenities[\"Brooklyn\"]"
   ]
  },
  {
   "cell_type": "code",
   "execution_count": 15,
   "metadata": {},
   "outputs": [
    {
     "data": {
      "text/plain": [
       "['kitchen',\n",
       " 'washer',\n",
       " 'dryer',\n",
       " 'family/kid friendly',\n",
       " 'cable tv',\n",
       " 'free parking on premises',\n",
       " '24-hour check-in',\n",
       " 'buzzer/wireless intercom',\n",
       " 'self check-in',\n",
       " 'safety card']"
      ]
     },
     "execution_count": 15,
     "metadata": {},
     "output_type": "execute_result"
    }
   ],
   "source": [
    "cities_top_amenities[\"Chicago\"]"
   ]
  },
  {
   "cell_type": "code",
   "execution_count": 16,
   "metadata": {},
   "outputs": [
    {
     "data": {
      "text/plain": [
       "['kitchen',\n",
       " 'washer',\n",
       " 'dryer',\n",
       " 'free parking on premises',\n",
       " 'family/kid friendly',\n",
       " 'self check-in',\n",
       " 'cable tv',\n",
       " 'refrigerator',\n",
       " 'dishes and silverware',\n",
       " 'safety card']"
      ]
     },
     "execution_count": 16,
     "metadata": {},
     "output_type": "execute_result"
    }
   ],
   "source": [
    "cities_top_amenities[\"Denver\"]"
   ]
  },
  {
   "cell_type": "code",
   "execution_count": 17,
   "metadata": {},
   "outputs": [
    {
     "data": {
      "text/plain": [
       "['kitchen',\n",
       " 'washer',\n",
       " 'dryer',\n",
       " 'free parking on premises',\n",
       " 'family/kid friendly',\n",
       " 'cable tv',\n",
       " '24-hour check-in',\n",
       " 'pets live on this property',\n",
       " 'pool',\n",
       " 'safety card']"
      ]
     },
     "execution_count": 17,
     "metadata": {},
     "output_type": "execute_result"
    }
   ],
   "source": [
    "cities_top_amenities[\"Los Angeles\"]"
   ]
  },
  {
   "cell_type": "code",
   "execution_count": 18,
   "metadata": {},
   "outputs": [
    {
     "data": {
      "text/plain": [
       "['kitchen',\n",
       " 'washer',\n",
       " 'dryer',\n",
       " 'elevator',\n",
       " 'buzzer/wireless intercom',\n",
       " 'family/kid friendly',\n",
       " 'cable tv',\n",
       " '24-hour check-in',\n",
       " 'doorman',\n",
       " 'safety card']"
      ]
     },
     "execution_count": 18,
     "metadata": {},
     "output_type": "execute_result"
    }
   ],
   "source": [
    "cities_top_amenities[\"Manhattan\"]"
   ]
  },
  {
   "cell_type": "code",
   "execution_count": 19,
   "metadata": {},
   "outputs": [
    {
     "data": {
      "text/plain": [
       "['free parking on premises',\n",
       " 'kitchen',\n",
       " 'washer',\n",
       " 'dryer',\n",
       " 'family/kid friendly',\n",
       " 'cable tv',\n",
       " 'self check-in',\n",
       " '24-hour check-in',\n",
       " 'safety card',\n",
       " 'keypad']"
      ]
     },
     "execution_count": 19,
     "metadata": {},
     "output_type": "execute_result"
    }
   ],
   "source": [
    "cities_top_amenities[\"Nashville\"]"
   ]
  },
  {
   "cell_type": "code",
   "execution_count": 20,
   "metadata": {},
   "outputs": [
    {
     "data": {
      "text/plain": [
       "['kitchen',\n",
       " 'washer',\n",
       " 'dryer',\n",
       " 'family/kid friendly',\n",
       " 'free parking on premises',\n",
       " 'cable tv',\n",
       " '24-hour check-in',\n",
       " 'self check-in',\n",
       " 'safety card',\n",
       " 'pets live on this property']"
      ]
     },
     "execution_count": 20,
     "metadata": {},
     "output_type": "execute_result"
    }
   ],
   "source": [
    "cities_top_amenities[\"New Orleans\"]"
   ]
  },
  {
   "cell_type": "code",
   "execution_count": 21,
   "metadata": {},
   "outputs": [
    {
     "data": {
      "text/plain": [
       "['kitchen',\n",
       " 'washer',\n",
       " 'dryer',\n",
       " 'free parking on premises',\n",
       " 'family/kid friendly',\n",
       " 'cable tv',\n",
       " 'pets live on this property',\n",
       " '24-hour check-in',\n",
       " 'safety card',\n",
       " 'dog(s)']"
      ]
     },
     "execution_count": 21,
     "metadata": {},
     "output_type": "execute_result"
    }
   ],
   "source": [
    "cities_top_amenities[\"Oakland\"]"
   ]
  },
  {
   "cell_type": "code",
   "execution_count": 22,
   "metadata": {},
   "outputs": [
    {
     "data": {
      "text/plain": [
       "['kitchen',\n",
       " 'free parking on premises',\n",
       " 'dryer',\n",
       " 'washer',\n",
       " 'family/kid friendly',\n",
       " '24-hour check-in',\n",
       " 'pets live on this property',\n",
       " 'safety card',\n",
       " 'cable tv',\n",
       " 'self check-in']"
      ]
     },
     "execution_count": 22,
     "metadata": {},
     "output_type": "execute_result"
    }
   ],
   "source": [
    "cities_top_amenities[\"Portland\"]"
   ]
  },
  {
   "cell_type": "code",
   "execution_count": 23,
   "metadata": {},
   "outputs": [
    {
     "data": {
      "text/plain": [
       "['kitchen',\n",
       " 'family/kid friendly',\n",
       " 'washer',\n",
       " 'dryer',\n",
       " 'cable tv',\n",
       " 'buzzer/wireless intercom',\n",
       " 'elevator',\n",
       " 'free parking on premises',\n",
       " 'safety card',\n",
       " '24-hour check-in']"
      ]
     },
     "execution_count": 23,
     "metadata": {},
     "output_type": "execute_result"
    }
   ],
   "source": [
    "cities_top_amenities[\"Queens\"]"
   ]
  },
  {
   "cell_type": "code",
   "execution_count": 24,
   "metadata": {},
   "outputs": [
    {
     "data": {
      "text/plain": [
       "['kitchen',\n",
       " 'washer',\n",
       " 'dryer',\n",
       " 'free parking on premises',\n",
       " 'family/kid friendly',\n",
       " 'cable tv',\n",
       " '24-hour check-in',\n",
       " 'pets live on this property',\n",
       " 'hot tub',\n",
       " 'pool']"
      ]
     },
     "execution_count": 24,
     "metadata": {},
     "output_type": "execute_result"
    }
   ],
   "source": [
    "cities_top_amenities[\"San Diego\"]"
   ]
  },
  {
   "cell_type": "code",
   "execution_count": 25,
   "metadata": {},
   "outputs": [
    {
     "data": {
      "text/plain": [
       "['kitchen',\n",
       " 'washer',\n",
       " 'dryer',\n",
       " 'family/kid friendly',\n",
       " 'cable tv',\n",
       " '24-hour check-in',\n",
       " 'self check-in',\n",
       " 'free parking on premises',\n",
       " 'safety card',\n",
       " 'buzzer/wireless intercom']"
      ]
     },
     "execution_count": 25,
     "metadata": {},
     "output_type": "execute_result"
    }
   ],
   "source": [
    "cities_top_amenities[\"San Francisco\"]"
   ]
  },
  {
   "cell_type": "code",
   "execution_count": 26,
   "metadata": {},
   "outputs": [
    {
     "data": {
      "text/plain": [
       "['kitchen',\n",
       " 'dryer',\n",
       " 'washer',\n",
       " 'free parking on premises',\n",
       " 'family/kid friendly',\n",
       " 'cable tv',\n",
       " 'pets live on this property',\n",
       " 'safety card',\n",
       " 'elevator in building',\n",
       " '24-hour check-in']"
      ]
     },
     "execution_count": 26,
     "metadata": {},
     "output_type": "execute_result"
    }
   ],
   "source": [
    "cities_top_amenities[\"Seattle\"]"
   ]
  },
  {
   "cell_type": "code",
   "execution_count": 27,
   "metadata": {},
   "outputs": [
    {
     "data": {
      "text/plain": [
       "['kitchen',\n",
       " 'washer',\n",
       " 'dryer',\n",
       " 'family/kid friendly',\n",
       " 'cable tv',\n",
       " '24-hour check-in',\n",
       " 'free parking on premises',\n",
       " 'self check-in',\n",
       " 'safety card',\n",
       " 'elevator in building']"
      ]
     },
     "execution_count": 27,
     "metadata": {},
     "output_type": "execute_result"
    }
   ],
   "source": [
    "cities_top_amenities[\"Washington\"]"
   ]
  },
  {
   "cell_type": "markdown",
   "metadata": {},
   "source": [
    "## Conclusions\n",
    "\n",
    "- All cities seem to have the same top amenities.\n",
    "- Nashville is the only one who has free parking on premises as the number one amenity instead of a kitchen.\n",
    "- Boston and Denver's top amenities are kitchen related (microwave, refrigerator, dishes and silverware)\n",
    "- The top amenities for each city include:\n",
    "    1. Kitchen\n",
    "    2. Washer\n",
    "    3. Dryer\n",
    "    4. Free parking\n",
    "    5. Family/kid friendly\n",
    "    6. Cable TV\n",
    "    7. Safety card"
   ]
  },
  {
   "cell_type": "code",
   "execution_count": null,
   "metadata": {},
   "outputs": [],
   "source": []
  }
 ],
 "metadata": {
  "kernelspec": {
   "display_name": "Python 3",
   "language": "python",
   "name": "python3"
  },
  "language_info": {
   "codemirror_mode": {
    "name": "ipython",
    "version": 3
   },
   "file_extension": ".py",
   "mimetype": "text/x-python",
   "name": "python",
   "nbconvert_exporter": "python",
   "pygments_lexer": "ipython3",
   "version": "3.7.6"
  }
 },
 "nbformat": 4,
 "nbformat_minor": 4
}
