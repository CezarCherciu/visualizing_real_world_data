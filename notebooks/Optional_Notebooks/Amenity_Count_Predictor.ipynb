{
 "cells": [
  {
   "cell_type": "code",
   "execution_count": 3,
   "metadata": {},
   "outputs": [],
   "source": [
    "import pandas as pd\n",
    "import numpy as np"
   ]
  },
  {
   "cell_type": "markdown",
   "metadata": {},
   "source": [
    "# Note: \n",
    "We have decided not to use this predictor. The R value for this model is 0.413, which is not statistically relevant. We have kept it here as a document of what we would do with a more effective model. "
   ]
  },
  {
   "cell_type": "markdown",
   "metadata": {},
   "source": [
    "## Creating an Amenity Count Predictor Function\n",
    "Our goal will be to create a function that will predict how much you should charge based on the number of amenities you have. It will take country and amenity count as imputs and will return a range of prices acceptible."
   ]
  },
  {
   "cell_type": "code",
   "execution_count": 4,
   "metadata": {},
   "outputs": [],
   "source": [
    "df = pd.read_pickle(\"../../Datasets/Data_viz_project/airbnb_listings_final_predictive\")"
   ]
  },
  {
   "cell_type": "code",
   "execution_count": 5,
   "metadata": {},
   "outputs": [
    {
     "data": {
      "text/plain": [
       "Index(['Listing ID', 'Host Response Rate', 'Host Is Superhost', 'Country',\n",
       "       'Accommodates', 'Bedrooms', 'Bathrooms', 'Price', 'Minimum nights',\n",
       "       'Maximum nights', 'Review Scores Rating', 'Reviews per month',\n",
       "       'Amenity_Count', 'Country_Average', 'Normalized', 'Const', 'Pred_1',\n",
       "       'AC2', 'Pred_2', 'AC3', 'Pred_3', 'AC4', 'Pred_4', 'AC5', 'Pred_5',\n",
       "       'Host Is Superhost2', 'Model_3'],\n",
       "      dtype='object')"
      ]
     },
     "execution_count": 5,
     "metadata": {},
     "output_type": "execute_result"
    }
   ],
   "source": [
    "df.columns"
   ]
  },
  {
   "cell_type": "markdown",
   "metadata": {},
   "source": [
    "#### Find the range of prices that can be charged in a country for that number of amenities"
   ]
  },
  {
   "cell_type": "code",
   "execution_count": null,
   "metadata": {},
   "outputs": [],
   "source": [
    "def price_range(amenity_count, country, prediction_df=df):\n",
    "    if amenity_count > 30:\n",
    "        amenity_count = 30\n",
    "    country_select = prediction_df.loc[prediction_df[\"Country\"]==country]\n",
    "    amenity_select = country_select.loc[country_select[\"Amenity_Count\"]==amenity_count]\n",
    "    price_min = amenity_select[\"Price\"].min()\n",
    "    price_max = amenity_select[\"Price\"].max()\n",
    "    return f\"You can charge between {price_min} and {price_max} in your local currency.\""
   ]
  },
  {
   "cell_type": "code",
   "execution_count": 24,
   "metadata": {},
   "outputs": [
    {
     "data": {
      "text/plain": [
       "'You can charge between 39.0 and 135.0 in your local currency.'"
      ]
     },
     "execution_count": 24,
     "metadata": {},
     "output_type": "execute_result"
    }
   ],
   "source": [
    "price_range(30, \"Ireland\")"
   ]
  },
  {
   "cell_type": "code",
   "execution_count": 25,
   "metadata": {},
   "outputs": [
    {
     "data": {
      "text/plain": [
       "'You can charge between 14.0 and 495.0 in your local currency.'"
      ]
     },
     "execution_count": 25,
     "metadata": {},
     "output_type": "execute_result"
    }
   ],
   "source": [
    "price_range(10, \"Ireland\")"
   ]
  },
  {
   "cell_type": "code",
   "execution_count": null,
   "metadata": {},
   "outputs": [],
   "source": []
  }
 ],
 "metadata": {
  "kernelspec": {
   "display_name": "Python 3",
   "language": "python",
   "name": "python3"
  },
  "language_info": {
   "codemirror_mode": {
    "name": "ipython",
    "version": 3
   },
   "file_extension": ".py",
   "mimetype": "text/x-python",
   "name": "python",
   "nbconvert_exporter": "python",
   "pygments_lexer": "ipython3",
   "version": "3.7.6"
  }
 },
 "nbformat": 4,
 "nbformat_minor": 4
}
