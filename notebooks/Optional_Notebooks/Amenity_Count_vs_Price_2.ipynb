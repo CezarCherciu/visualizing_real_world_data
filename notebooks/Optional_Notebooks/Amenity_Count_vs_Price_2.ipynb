{
 "cells": [
  {
   "cell_type": "code",
   "execution_count": 2,
   "metadata": {},
   "outputs": [],
   "source": [
    "import pandas as pd\n",
    "import numpy as np\n",
    "import matplotlib\n",
    "import matplotlib.pyplot as plt\n",
    "import seaborn as sns\n",
    "import statsmodels.api as sm\n",
    "sns.set(style=\"white\")"
   ]
  },
  {
   "cell_type": "markdown",
   "metadata": {},
   "source": [
    "# Note: \n",
    "After significant thought, we have decided not to continue with this predictive model. It was overfit and controlled for multiple variables that could correlate with each other (i.e Accomodates and number of Bedrooms/Bathrooms). To follow our more accurate model, please go to notebook Perfecting_Regression_Model. "
   ]
  },
  {
   "cell_type": "markdown",
   "metadata": {},
   "source": [
    "## Next steps with our predictive model\n",
    "Our predictive model with amenity count and price showed statistically relevant P values for each variable; however, our R squared was still too low. In an attempt to fix this, we will add a larger variety of variables to see if that increases the corrollation. \n",
    "\n",
    "Goals: \n",
    "- Merge the pickle from the previous notebook with additional variables we would like to check the significance of\n",
    "- Use our linear regression model to see if this change made an impact\n",
    "- Ideally reach a minimum R of 50%, because there are a number of other values that we do not have access to that could affect the price. Goal R squared would be above 70%."
   ]
  },
  {
   "cell_type": "code",
   "execution_count": 3,
   "metadata": {},
   "outputs": [],
   "source": [
    "df = pd.read_pickle(\"../../Datasets/Data_viz_project/airbnb_listings_predictive\")"
   ]
  },
  {
   "cell_type": "code",
   "execution_count": 4,
   "metadata": {},
   "outputs": [],
   "source": [
    "df_complete = pd.read_pickle(\"../../Datasets/Data_viz_project/airbnb_listings_price_normalized\")"
   ]
  },
  {
   "cell_type": "code",
   "execution_count": 5,
   "metadata": {
    "scrolled": true
   },
   "outputs": [
    {
     "data": {
      "text/plain": [
       "(371013, 16)"
      ]
     },
     "execution_count": 5,
     "metadata": {},
     "output_type": "execute_result"
    }
   ],
   "source": [
    "df.shape"
   ]
  },
  {
   "cell_type": "code",
   "execution_count": 6,
   "metadata": {},
   "outputs": [
    {
     "data": {
      "text/plain": [
       "Index(['Listing ID', 'Price', 'Country', 'Amenity_Count', 'Country_Average',\n",
       "       'Normalized', 'Const', 'Pred_1', 'AC2', 'Pred_2', 'AC3', 'Pred_3',\n",
       "       'AC4', 'Pred_4', 'AC5', 'Pred_5'],\n",
       "      dtype='object')"
      ]
     },
     "execution_count": 6,
     "metadata": {},
     "output_type": "execute_result"
    }
   ],
   "source": [
    "df.columns"
   ]
  },
  {
   "cell_type": "code",
   "execution_count": 7,
   "metadata": {},
   "outputs": [
    {
     "data": {
      "text/plain": [
       "(380224, 34)"
      ]
     },
     "execution_count": 7,
     "metadata": {},
     "output_type": "execute_result"
    }
   ],
   "source": [
    "df_complete.shape"
   ]
  },
  {
   "cell_type": "code",
   "execution_count": 8,
   "metadata": {},
   "outputs": [
    {
     "data": {
      "text/plain": [
       "Index(['Listing ID', 'Name', 'Host ID', 'Host Name', 'Host Response Rate',\n",
       "       'Host Is Superhost', 'Host total listings count', 'Country', 'latitude',\n",
       "       'longitude', 'Property type', 'Room type', 'Accommodates', 'Bathrooms',\n",
       "       'Bedrooms', 'Amenities', 'Price', 'Minimum nights', 'Maximum nights',\n",
       "       'Availability 365', 'Calendar last scraped', 'Number of reviews',\n",
       "       'Last Review Date', 'Review Scores Rating', 'Review Scores Accuracy',\n",
       "       'Review Scores Cleanliness', 'Review Scores Checkin',\n",
       "       'Review Scores Communication', 'Review Scores Location',\n",
       "       'Review Scores Value', 'Reviews per month', 'Amenity_Count',\n",
       "       'Country_Average', 'Normalized'],\n",
       "      dtype='object')"
      ]
     },
     "execution_count": 8,
     "metadata": {},
     "output_type": "execute_result"
    }
   ],
   "source": [
    "df_complete.columns"
   ]
  },
  {
   "cell_type": "code",
   "execution_count": 9,
   "metadata": {},
   "outputs": [],
   "source": [
    "df_m = df.merge(df_complete, on=\"Listing ID\", how=\"left\")[[\"Listing ID\", \n",
    "                                                    \"Host Response Rate\",\n",
    "                                                    \"Host Is Superhost\",\n",
    "                                                    \"Country_x\",\n",
    "                                                    \"Accommodates\",\n",
    "                                                    \"Bedrooms\", \n",
    "                                                    \"Bathrooms\",\n",
    "                                                    \"Price_x\",\n",
    "                                                    \"Minimum nights\",\n",
    "                                                    \"Maximum nights\",\n",
    "                                                    \"Review Scores Rating\",\n",
    "                                                    \"Reviews per month\", \n",
    "                                                    'Amenity_Count_x', \n",
    "                                                    'Country_Average_x',\n",
    "                                                    'Normalized_x', \n",
    "                                                    'Const',\n",
    "                                                    'Pred_1', \n",
    "                                                    'AC2', \n",
    "                                                    'Pred_2', \n",
    "                                                    'AC3', \n",
    "                                                    'Pred_3',\n",
    "                                                    'AC4', \n",
    "                                                    'Pred_4', \n",
    "                                                    'AC5', \n",
    "                                                    'Pred_5'\n",
    "                                                   ]]"
   ]
  },
  {
   "cell_type": "code",
   "execution_count": 10,
   "metadata": {},
   "outputs": [
    {
     "data": {
      "text/plain": [
       "Index(['Listing ID', 'Host Response Rate', 'Host Is Superhost', 'Country_x',\n",
       "       'Accommodates', 'Bedrooms', 'Bathrooms', 'Price_x', 'Minimum nights',\n",
       "       'Maximum nights', 'Review Scores Rating', 'Reviews per month',\n",
       "       'Amenity_Count_x', 'Country_Average_x', 'Normalized_x', 'Const',\n",
       "       'Pred_1', 'AC2', 'Pred_2', 'AC3', 'Pred_3', 'AC4', 'Pred_4', 'AC5',\n",
       "       'Pred_5'],\n",
       "      dtype='object')"
      ]
     },
     "execution_count": 10,
     "metadata": {},
     "output_type": "execute_result"
    }
   ],
   "source": [
    "df_m.columns"
   ]
  },
  {
   "cell_type": "code",
   "execution_count": 11,
   "metadata": {},
   "outputs": [
    {
     "data": {
      "text/plain": [
       "(371023, 25)"
      ]
     },
     "execution_count": 11,
     "metadata": {},
     "output_type": "execute_result"
    }
   ],
   "source": [
    "df_m.shape"
   ]
  },
  {
   "cell_type": "code",
   "execution_count": 12,
   "metadata": {},
   "outputs": [],
   "source": [
    "df_m = df_m.rename(columns={\"Country_x\":\"Country\",\n",
    "                     \"Price_x\":\"Price\",\n",
    "                    \"Amenity_Count_x\":\"Amenity_Count\",\n",
    "                    \"Country_Average_x\":\"Country_Average\",\n",
    "                    \"Normalized_x\":\"Normalized\"})"
   ]
  },
  {
   "cell_type": "markdown",
   "metadata": {},
   "source": [
    "### Model 1: Accomodates"
   ]
  },
  {
   "cell_type": "code",
   "execution_count": 13,
   "metadata": {},
   "outputs": [
    {
     "data": {
      "text/html": [
       "<table class=\"simpletable\">\n",
       "<caption>OLS Regression Results</caption>\n",
       "<tr>\n",
       "  <th>Dep. Variable:</th>       <td>Normalized</td>    <th>  R-squared:         </th>  <td>   0.353</td>  \n",
       "</tr>\n",
       "<tr>\n",
       "  <th>Model:</th>                   <td>OLS</td>       <th>  Adj. R-squared:    </th>  <td>   0.353</td>  \n",
       "</tr>\n",
       "<tr>\n",
       "  <th>Method:</th>             <td>Least Squares</td>  <th>  F-statistic:       </th>  <td>3.376e+04</td> \n",
       "</tr>\n",
       "<tr>\n",
       "  <th>Date:</th>             <td>Thu, 30 Apr 2020</td> <th>  Prob (F-statistic):</th>   <td>  0.00</td>   \n",
       "</tr>\n",
       "<tr>\n",
       "  <th>Time:</th>                 <td>14:24:03</td>     <th>  Log-Likelihood:    </th> <td>-3.5125e+05</td>\n",
       "</tr>\n",
       "<tr>\n",
       "  <th>No. Observations:</th>      <td>371023</td>      <th>  AIC:               </th>  <td>7.025e+05</td> \n",
       "</tr>\n",
       "<tr>\n",
       "  <th>Df Residuals:</th>          <td>371016</td>      <th>  BIC:               </th>  <td>7.026e+05</td> \n",
       "</tr>\n",
       "<tr>\n",
       "  <th>Df Model:</th>              <td>     6</td>      <th>                     </th>      <td> </td>     \n",
       "</tr>\n",
       "<tr>\n",
       "  <th>Covariance Type:</th>      <td>nonrobust</td>    <th>                     </th>      <td> </td>     \n",
       "</tr>\n",
       "</table>\n",
       "<table class=\"simpletable\">\n",
       "<tr>\n",
       "        <td></td>           <th>coef</th>     <th>std err</th>      <th>t</th>      <th>P>|t|</th>  <th>[0.025</th>    <th>0.975]</th>  \n",
       "</tr>\n",
       "<tr>\n",
       "  <th>AC5</th>           <td> 8.039e-08</td> <td> 6.36e-08</td> <td>    1.263</td> <td> 0.207</td> <td>-4.44e-08</td> <td> 2.05e-07</td>\n",
       "</tr>\n",
       "<tr>\n",
       "  <th>AC4</th>           <td>-5.719e-06</td> <td> 5.08e-06</td> <td>   -1.125</td> <td> 0.261</td> <td>-1.57e-05</td> <td> 4.25e-06</td>\n",
       "</tr>\n",
       "<tr>\n",
       "  <th>AC3</th>           <td>    0.0001</td> <td>    0.000</td> <td>    0.819</td> <td> 0.413</td> <td>   -0.000</td> <td>    0.000</td>\n",
       "</tr>\n",
       "<tr>\n",
       "  <th>AC2</th>           <td>   -0.0007</td> <td>    0.002</td> <td>   -0.320</td> <td> 0.749</td> <td>   -0.005</td> <td>    0.003</td>\n",
       "</tr>\n",
       "<tr>\n",
       "  <th>Amenity_Count</th> <td>    0.0023</td> <td>    0.013</td> <td>    0.174</td> <td> 0.862</td> <td>   -0.024</td> <td>    0.028</td>\n",
       "</tr>\n",
       "<tr>\n",
       "  <th>Accommodates</th>  <td>    0.2246</td> <td>    0.001</td> <td>  431.427</td> <td> 0.000</td> <td>    0.224</td> <td>    0.226</td>\n",
       "</tr>\n",
       "<tr>\n",
       "  <th>Const</th>         <td>    0.1765</td> <td>    0.031</td> <td>    5.704</td> <td> 0.000</td> <td>    0.116</td> <td>    0.237</td>\n",
       "</tr>\n",
       "</table>\n",
       "<table class=\"simpletable\">\n",
       "<tr>\n",
       "  <th>Omnibus:</th>       <td>265042.005</td> <th>  Durbin-Watson:     </th>   <td>   1.685</td>  \n",
       "</tr>\n",
       "<tr>\n",
       "  <th>Prob(Omnibus):</th>   <td> 0.000</td>   <th>  Jarque-Bera (JB):  </th> <td>10454572.084</td>\n",
       "</tr>\n",
       "<tr>\n",
       "  <th>Skew:</th>            <td> 2.989</td>   <th>  Prob(JB):          </th>   <td>    0.00</td>  \n",
       "</tr>\n",
       "<tr>\n",
       "  <th>Kurtosis:</th>        <td>28.309</td>   <th>  Cond. No.          </th>   <td>1.38e+08</td>  \n",
       "</tr>\n",
       "</table><br/><br/>Warnings:<br/>[1] Standard Errors assume that the covariance matrix of the errors is correctly specified.<br/>[2] The condition number is large, 1.38e+08. This might indicate that there are<br/>strong multicollinearity or other numerical problems."
      ],
      "text/plain": [
       "<class 'statsmodels.iolib.summary.Summary'>\n",
       "\"\"\"\n",
       "                            OLS Regression Results                            \n",
       "==============================================================================\n",
       "Dep. Variable:             Normalized   R-squared:                       0.353\n",
       "Model:                            OLS   Adj. R-squared:                  0.353\n",
       "Method:                 Least Squares   F-statistic:                 3.376e+04\n",
       "Date:                Thu, 30 Apr 2020   Prob (F-statistic):               0.00\n",
       "Time:                        14:24:03   Log-Likelihood:            -3.5125e+05\n",
       "No. Observations:              371023   AIC:                         7.025e+05\n",
       "Df Residuals:                  371016   BIC:                         7.026e+05\n",
       "Df Model:                           6                                         \n",
       "Covariance Type:            nonrobust                                         \n",
       "=================================================================================\n",
       "                    coef    std err          t      P>|t|      [0.025      0.975]\n",
       "---------------------------------------------------------------------------------\n",
       "AC5            8.039e-08   6.36e-08      1.263      0.207   -4.44e-08    2.05e-07\n",
       "AC4           -5.719e-06   5.08e-06     -1.125      0.261   -1.57e-05    4.25e-06\n",
       "AC3               0.0001      0.000      0.819      0.413      -0.000       0.000\n",
       "AC2              -0.0007      0.002     -0.320      0.749      -0.005       0.003\n",
       "Amenity_Count     0.0023      0.013      0.174      0.862      -0.024       0.028\n",
       "Accommodates      0.2246      0.001    431.427      0.000       0.224       0.226\n",
       "Const             0.1765      0.031      5.704      0.000       0.116       0.237\n",
       "==============================================================================\n",
       "Omnibus:                   265042.005   Durbin-Watson:                   1.685\n",
       "Prob(Omnibus):                  0.000   Jarque-Bera (JB):         10454572.084\n",
       "Skew:                           2.989   Prob(JB):                         0.00\n",
       "Kurtosis:                      28.309   Cond. No.                     1.38e+08\n",
       "==============================================================================\n",
       "\n",
       "Warnings:\n",
       "[1] Standard Errors assume that the covariance matrix of the errors is correctly specified.\n",
       "[2] The condition number is large, 1.38e+08. This might indicate that there are\n",
       "strong multicollinearity or other numerical problems.\n",
       "\"\"\""
      ]
     },
     "execution_count": 13,
     "metadata": {},
     "output_type": "execute_result"
    }
   ],
   "source": [
    "X = df_m[[\"AC5\", \"AC4\", \"AC3\", \"AC2\", \"Amenity_Count\", \"Accommodates\", \"Const\"]]\n",
    "y = df_m[\"Normalized\"]\n",
    "\n",
    "model = sm.OLS(y, X).fit()\n",
    "result = model.predict(X)\n",
    "\n",
    "model.summary()"
   ]
  },
  {
   "cell_type": "markdown",
   "metadata": {},
   "source": [
    "### Even with only adding accomodates (which indicates size), the R value has increased by over 30%. Next, we will add bathroom and bedroom counts to see if that helps as well.\n",
    "\n",
    "### Model 2: Bedrooms and Bathrooms"
   ]
  },
  {
   "cell_type": "code",
   "execution_count": 14,
   "metadata": {},
   "outputs": [],
   "source": [
    "df_m = df_m.loc[~df_m[\"Bedrooms\"].isna()]"
   ]
  },
  {
   "cell_type": "code",
   "execution_count": 15,
   "metadata": {},
   "outputs": [],
   "source": [
    "df_m = df_m.loc[~df_m[\"Bathrooms\"].isna()]"
   ]
  },
  {
   "cell_type": "code",
   "execution_count": 16,
   "metadata": {},
   "outputs": [
    {
     "data": {
      "text/html": [
       "<table class=\"simpletable\">\n",
       "<caption>OLS Regression Results</caption>\n",
       "<tr>\n",
       "  <th>Dep. Variable:</th>       <td>Normalized</td>    <th>  R-squared:         </th>  <td>   0.405</td>  \n",
       "</tr>\n",
       "<tr>\n",
       "  <th>Model:</th>                   <td>OLS</td>       <th>  Adj. R-squared:    </th>  <td>   0.405</td>  \n",
       "</tr>\n",
       "<tr>\n",
       "  <th>Method:</th>             <td>Least Squares</td>  <th>  F-statistic:       </th>  <td>3.141e+04</td> \n",
       "</tr>\n",
       "<tr>\n",
       "  <th>Date:</th>             <td>Thu, 30 Apr 2020</td> <th>  Prob (F-statistic):</th>   <td>  0.00</td>   \n",
       "</tr>\n",
       "<tr>\n",
       "  <th>Time:</th>                 <td>14:24:04</td>     <th>  Log-Likelihood:    </th> <td>-3.3505e+05</td>\n",
       "</tr>\n",
       "<tr>\n",
       "  <th>No. Observations:</th>      <td>369856</td>      <th>  AIC:               </th>  <td>6.701e+05</td> \n",
       "</tr>\n",
       "<tr>\n",
       "  <th>Df Residuals:</th>          <td>369847</td>      <th>  BIC:               </th>  <td>6.702e+05</td> \n",
       "</tr>\n",
       "<tr>\n",
       "  <th>Df Model:</th>              <td>     8</td>      <th>                     </th>      <td> </td>     \n",
       "</tr>\n",
       "<tr>\n",
       "  <th>Covariance Type:</th>      <td>nonrobust</td>    <th>                     </th>      <td> </td>     \n",
       "</tr>\n",
       "</table>\n",
       "<table class=\"simpletable\">\n",
       "<tr>\n",
       "        <td></td>           <th>coef</th>     <th>std err</th>      <th>t</th>      <th>P>|t|</th>  <th>[0.025</th>    <th>0.975]</th>  \n",
       "</tr>\n",
       "<tr>\n",
       "  <th>AC5</th>           <td> 1.052e-07</td> <td> 6.12e-08</td> <td>    1.718</td> <td> 0.086</td> <td>-1.48e-08</td> <td> 2.25e-07</td>\n",
       "</tr>\n",
       "<tr>\n",
       "  <th>AC4</th>           <td>-7.995e-06</td> <td> 4.89e-06</td> <td>   -1.634</td> <td> 0.102</td> <td>-1.76e-05</td> <td>  1.6e-06</td>\n",
       "</tr>\n",
       "<tr>\n",
       "  <th>AC3</th>           <td>    0.0002</td> <td>    0.000</td> <td>    1.447</td> <td> 0.148</td> <td> -7.5e-05</td> <td>    0.000</td>\n",
       "</tr>\n",
       "<tr>\n",
       "  <th>AC2</th>           <td>   -0.0023</td> <td>    0.002</td> <td>   -1.151</td> <td> 0.250</td> <td>   -0.006</td> <td>    0.002</td>\n",
       "</tr>\n",
       "<tr>\n",
       "  <th>Amenity_Count</th> <td>    0.0157</td> <td>    0.013</td> <td>    1.225</td> <td> 0.220</td> <td>   -0.009</td> <td>    0.041</td>\n",
       "</tr>\n",
       "<tr>\n",
       "  <th>Accommodates</th>  <td>    0.1296</td> <td>    0.001</td> <td>  171.621</td> <td> 0.000</td> <td>    0.128</td> <td>    0.131</td>\n",
       "</tr>\n",
       "<tr>\n",
       "  <th>Bedrooms</th>      <td>    0.2111</td> <td>    0.002</td> <td>  115.961</td> <td> 0.000</td> <td>    0.208</td> <td>    0.215</td>\n",
       "</tr>\n",
       "<tr>\n",
       "  <th>Bathrooms</th>     <td>    0.2062</td> <td>    0.002</td> <td>   92.447</td> <td> 0.000</td> <td>    0.202</td> <td>    0.211</td>\n",
       "</tr>\n",
       "<tr>\n",
       "  <th>Const</th>         <td>   -0.0747</td> <td>    0.030</td> <td>   -2.497</td> <td> 0.013</td> <td>   -0.133</td> <td>   -0.016</td>\n",
       "</tr>\n",
       "</table>\n",
       "<table class=\"simpletable\">\n",
       "<tr>\n",
       "  <th>Omnibus:</th>       <td>252610.844</td> <th>  Durbin-Watson:     </th>  <td>   1.638</td>  \n",
       "</tr>\n",
       "<tr>\n",
       "  <th>Prob(Omnibus):</th>   <td> 0.000</td>   <th>  Jarque-Bera (JB):  </th> <td>9927752.964</td>\n",
       "</tr>\n",
       "<tr>\n",
       "  <th>Skew:</th>            <td> 2.789</td>   <th>  Prob(JB):          </th>  <td>    0.00</td>  \n",
       "</tr>\n",
       "<tr>\n",
       "  <th>Kurtosis:</th>        <td>27.761</td>   <th>  Cond. No.          </th>  <td>1.38e+08</td>  \n",
       "</tr>\n",
       "</table><br/><br/>Warnings:<br/>[1] Standard Errors assume that the covariance matrix of the errors is correctly specified.<br/>[2] The condition number is large, 1.38e+08. This might indicate that there are<br/>strong multicollinearity or other numerical problems."
      ],
      "text/plain": [
       "<class 'statsmodels.iolib.summary.Summary'>\n",
       "\"\"\"\n",
       "                            OLS Regression Results                            \n",
       "==============================================================================\n",
       "Dep. Variable:             Normalized   R-squared:                       0.405\n",
       "Model:                            OLS   Adj. R-squared:                  0.405\n",
       "Method:                 Least Squares   F-statistic:                 3.141e+04\n",
       "Date:                Thu, 30 Apr 2020   Prob (F-statistic):               0.00\n",
       "Time:                        14:24:04   Log-Likelihood:            -3.3505e+05\n",
       "No. Observations:              369856   AIC:                         6.701e+05\n",
       "Df Residuals:                  369847   BIC:                         6.702e+05\n",
       "Df Model:                           8                                         \n",
       "Covariance Type:            nonrobust                                         \n",
       "=================================================================================\n",
       "                    coef    std err          t      P>|t|      [0.025      0.975]\n",
       "---------------------------------------------------------------------------------\n",
       "AC5            1.052e-07   6.12e-08      1.718      0.086   -1.48e-08    2.25e-07\n",
       "AC4           -7.995e-06   4.89e-06     -1.634      0.102   -1.76e-05     1.6e-06\n",
       "AC3               0.0002      0.000      1.447      0.148    -7.5e-05       0.000\n",
       "AC2              -0.0023      0.002     -1.151      0.250      -0.006       0.002\n",
       "Amenity_Count     0.0157      0.013      1.225      0.220      -0.009       0.041\n",
       "Accommodates      0.1296      0.001    171.621      0.000       0.128       0.131\n",
       "Bedrooms          0.2111      0.002    115.961      0.000       0.208       0.215\n",
       "Bathrooms         0.2062      0.002     92.447      0.000       0.202       0.211\n",
       "Const            -0.0747      0.030     -2.497      0.013      -0.133      -0.016\n",
       "==============================================================================\n",
       "Omnibus:                   252610.844   Durbin-Watson:                   1.638\n",
       "Prob(Omnibus):                  0.000   Jarque-Bera (JB):          9927752.964\n",
       "Skew:                           2.789   Prob(JB):                         0.00\n",
       "Kurtosis:                      27.761   Cond. No.                     1.38e+08\n",
       "==============================================================================\n",
       "\n",
       "Warnings:\n",
       "[1] Standard Errors assume that the covariance matrix of the errors is correctly specified.\n",
       "[2] The condition number is large, 1.38e+08. This might indicate that there are\n",
       "strong multicollinearity or other numerical problems.\n",
       "\"\"\""
      ]
     },
     "execution_count": 16,
     "metadata": {},
     "output_type": "execute_result"
    }
   ],
   "source": [
    "X = df_m[[\"AC5\", \"AC4\", \"AC3\", \"AC2\", \"Amenity_Count\", \"Accommodates\", \"Bedrooms\", \"Bathrooms\", \"Const\"]]\n",
    "y = df_m[\"Normalized\"]\n",
    "\n",
    "model = sm.OLS(y, X).fit()\n",
    "result = model.predict(X)\n",
    "\n",
    "model.summary()"
   ]
  },
  {
   "cell_type": "markdown",
   "metadata": {},
   "source": [
    "### This addition increased the R value from 0.35 to 0.40. Athough not extremely significant, we will keep it. Next we will add reviews per month, to see if a higher review rate (which we will use to estimate occuption rate), will affect the R value. \n",
    "\n",
    "### Model 3: Reviews per Month (as an estimate of occupancy)"
   ]
  },
  {
   "cell_type": "code",
   "execution_count": 17,
   "metadata": {},
   "outputs": [
    {
     "data": {
      "text/html": [
       "<table class=\"simpletable\">\n",
       "<caption>OLS Regression Results</caption>\n",
       "<tr>\n",
       "  <th>Dep. Variable:</th>       <td>Normalized</td>    <th>  R-squared:         </th>  <td>   0.413</td>  \n",
       "</tr>\n",
       "<tr>\n",
       "  <th>Model:</th>                   <td>OLS</td>       <th>  Adj. R-squared:    </th>  <td>   0.413</td>  \n",
       "</tr>\n",
       "<tr>\n",
       "  <th>Method:</th>             <td>Least Squares</td>  <th>  F-statistic:       </th>  <td>2.886e+04</td> \n",
       "</tr>\n",
       "<tr>\n",
       "  <th>Date:</th>             <td>Thu, 30 Apr 2020</td> <th>  Prob (F-statistic):</th>   <td>  0.00</td>   \n",
       "</tr>\n",
       "<tr>\n",
       "  <th>Time:</th>                 <td>14:24:05</td>     <th>  Log-Likelihood:    </th> <td>-3.3254e+05</td>\n",
       "</tr>\n",
       "<tr>\n",
       "  <th>No. Observations:</th>      <td>369856</td>      <th>  AIC:               </th>  <td>6.651e+05</td> \n",
       "</tr>\n",
       "<tr>\n",
       "  <th>Df Residuals:</th>          <td>369846</td>      <th>  BIC:               </th>  <td>6.652e+05</td> \n",
       "</tr>\n",
       "<tr>\n",
       "  <th>Df Model:</th>              <td>     9</td>      <th>                     </th>      <td> </td>     \n",
       "</tr>\n",
       "<tr>\n",
       "  <th>Covariance Type:</th>      <td>nonrobust</td>    <th>                     </th>      <td> </td>     \n",
       "</tr>\n",
       "</table>\n",
       "<table class=\"simpletable\">\n",
       "<tr>\n",
       "          <td></td>             <th>coef</th>     <th>std err</th>      <th>t</th>      <th>P>|t|</th>  <th>[0.025</th>    <th>0.975]</th>  \n",
       "</tr>\n",
       "<tr>\n",
       "  <th>AC5</th>               <td> 4.743e-08</td> <td> 6.08e-08</td> <td>    0.780</td> <td> 0.436</td> <td>-7.18e-08</td> <td> 1.67e-07</td>\n",
       "</tr>\n",
       "<tr>\n",
       "  <th>AC4</th>               <td>-3.438e-06</td> <td> 4.86e-06</td> <td>   -0.707</td> <td> 0.479</td> <td> -1.3e-05</td> <td> 6.09e-06</td>\n",
       "</tr>\n",
       "<tr>\n",
       "  <th>AC3</th>               <td> 7.302e-05</td> <td>    0.000</td> <td>    0.502</td> <td> 0.615</td> <td>   -0.000</td> <td>    0.000</td>\n",
       "</tr>\n",
       "<tr>\n",
       "  <th>AC2</th>               <td>   -0.0002</td> <td>    0.002</td> <td>   -0.116</td> <td> 0.908</td> <td>   -0.004</td> <td>    0.004</td>\n",
       "</tr>\n",
       "<tr>\n",
       "  <th>Amenity_Count</th>     <td>    0.0028</td> <td>    0.013</td> <td>    0.220</td> <td> 0.826</td> <td>   -0.022</td> <td>    0.028</td>\n",
       "</tr>\n",
       "<tr>\n",
       "  <th>Accommodates</th>      <td>    0.1338</td> <td>    0.001</td> <td>  177.808</td> <td> 0.000</td> <td>    0.132</td> <td>    0.135</td>\n",
       "</tr>\n",
       "<tr>\n",
       "  <th>Bedrooms</th>          <td>    0.1960</td> <td>    0.002</td> <td>  107.639</td> <td> 0.000</td> <td>    0.192</td> <td>    0.200</td>\n",
       "</tr>\n",
       "<tr>\n",
       "  <th>Bathrooms</th>         <td>    0.1999</td> <td>    0.002</td> <td>   90.164</td> <td> 0.000</td> <td>    0.196</td> <td>    0.204</td>\n",
       "</tr>\n",
       "<tr>\n",
       "  <th>Reviews per month</th> <td>   -0.0413</td> <td>    0.001</td> <td>  -71.214</td> <td> 0.000</td> <td>   -0.042</td> <td>   -0.040</td>\n",
       "</tr>\n",
       "<tr>\n",
       "  <th>Const</th>             <td>    0.0039</td> <td>    0.030</td> <td>    0.131</td> <td> 0.895</td> <td>   -0.054</td> <td>    0.062</td>\n",
       "</tr>\n",
       "</table>\n",
       "<table class=\"simpletable\">\n",
       "<tr>\n",
       "  <th>Omnibus:</th>       <td>252618.413</td> <th>  Durbin-Watson:     </th>   <td>   1.635</td>  \n",
       "</tr>\n",
       "<tr>\n",
       "  <th>Prob(Omnibus):</th>   <td> 0.000</td>   <th>  Jarque-Bera (JB):  </th> <td>10098381.007</td>\n",
       "</tr>\n",
       "<tr>\n",
       "  <th>Skew:</th>            <td> 2.783</td>   <th>  Prob(JB):          </th>   <td>    0.00</td>  \n",
       "</tr>\n",
       "<tr>\n",
       "  <th>Kurtosis:</th>        <td>27.986</td>   <th>  Cond. No.          </th>   <td>1.39e+08</td>  \n",
       "</tr>\n",
       "</table><br/><br/>Warnings:<br/>[1] Standard Errors assume that the covariance matrix of the errors is correctly specified.<br/>[2] The condition number is large, 1.39e+08. This might indicate that there are<br/>strong multicollinearity or other numerical problems."
      ],
      "text/plain": [
       "<class 'statsmodels.iolib.summary.Summary'>\n",
       "\"\"\"\n",
       "                            OLS Regression Results                            \n",
       "==============================================================================\n",
       "Dep. Variable:             Normalized   R-squared:                       0.413\n",
       "Model:                            OLS   Adj. R-squared:                  0.413\n",
       "Method:                 Least Squares   F-statistic:                 2.886e+04\n",
       "Date:                Thu, 30 Apr 2020   Prob (F-statistic):               0.00\n",
       "Time:                        14:24:05   Log-Likelihood:            -3.3254e+05\n",
       "No. Observations:              369856   AIC:                         6.651e+05\n",
       "Df Residuals:                  369846   BIC:                         6.652e+05\n",
       "Df Model:                           9                                         \n",
       "Covariance Type:            nonrobust                                         \n",
       "=====================================================================================\n",
       "                        coef    std err          t      P>|t|      [0.025      0.975]\n",
       "-------------------------------------------------------------------------------------\n",
       "AC5                4.743e-08   6.08e-08      0.780      0.436   -7.18e-08    1.67e-07\n",
       "AC4               -3.438e-06   4.86e-06     -0.707      0.479    -1.3e-05    6.09e-06\n",
       "AC3                7.302e-05      0.000      0.502      0.615      -0.000       0.000\n",
       "AC2                  -0.0002      0.002     -0.116      0.908      -0.004       0.004\n",
       "Amenity_Count         0.0028      0.013      0.220      0.826      -0.022       0.028\n",
       "Accommodates          0.1338      0.001    177.808      0.000       0.132       0.135\n",
       "Bedrooms              0.1960      0.002    107.639      0.000       0.192       0.200\n",
       "Bathrooms             0.1999      0.002     90.164      0.000       0.196       0.204\n",
       "Reviews per month    -0.0413      0.001    -71.214      0.000      -0.042      -0.040\n",
       "Const                 0.0039      0.030      0.131      0.895      -0.054       0.062\n",
       "==============================================================================\n",
       "Omnibus:                   252618.413   Durbin-Watson:                   1.635\n",
       "Prob(Omnibus):                  0.000   Jarque-Bera (JB):         10098381.007\n",
       "Skew:                           2.783   Prob(JB):                         0.00\n",
       "Kurtosis:                      27.986   Cond. No.                     1.39e+08\n",
       "==============================================================================\n",
       "\n",
       "Warnings:\n",
       "[1] Standard Errors assume that the covariance matrix of the errors is correctly specified.\n",
       "[2] The condition number is large, 1.39e+08. This might indicate that there are\n",
       "strong multicollinearity or other numerical problems.\n",
       "\"\"\""
      ]
     },
     "execution_count": 17,
     "metadata": {},
     "output_type": "execute_result"
    }
   ],
   "source": [
    "X = df_m[[\"AC5\", \"AC4\", \"AC3\", \"AC2\", \"Amenity_Count\", \"Accommodates\", \"Bedrooms\", \"Bathrooms\", \"Reviews per month\", \"Const\"]]\n",
    "y = df_m[\"Normalized\"]\n",
    "\n",
    "model = sm.OLS(y, X).fit()\n",
    "result = model.predict(X)\n",
    "\n",
    "model.summary()"
   ]
  },
  {
   "cell_type": "markdown",
   "metadata": {},
   "source": [
    "### We decided that reviews per month did not affect the model in a large way. We will not include it. Instead, we will check to see if Super Host Status will have an impact in the price.  \n",
    "\n",
    "### Model 4: Super Host Status"
   ]
  },
  {
   "cell_type": "code",
   "execution_count": 18,
   "metadata": {},
   "outputs": [],
   "source": [
    "df_m[\"Host Is Superhost2\"] = df_m[\"Host Is Superhost\"].replace(to_replace=True, value=1)"
   ]
  },
  {
   "cell_type": "code",
   "execution_count": 19,
   "metadata": {
    "scrolled": true
   },
   "outputs": [
    {
     "data": {
      "text/html": [
       "<table class=\"simpletable\">\n",
       "<caption>OLS Regression Results</caption>\n",
       "<tr>\n",
       "  <th>Dep. Variable:</th>       <td>Normalized</td>    <th>  R-squared:         </th>  <td>   0.405</td>  \n",
       "</tr>\n",
       "<tr>\n",
       "  <th>Model:</th>                   <td>OLS</td>       <th>  Adj. R-squared:    </th>  <td>   0.405</td>  \n",
       "</tr>\n",
       "<tr>\n",
       "  <th>Method:</th>             <td>Least Squares</td>  <th>  F-statistic:       </th>  <td>2.792e+04</td> \n",
       "</tr>\n",
       "<tr>\n",
       "  <th>Date:</th>             <td>Thu, 30 Apr 2020</td> <th>  Prob (F-statistic):</th>   <td>  0.00</td>   \n",
       "</tr>\n",
       "<tr>\n",
       "  <th>Time:</th>                 <td>14:24:06</td>     <th>  Log-Likelihood:    </th> <td>-3.3505e+05</td>\n",
       "</tr>\n",
       "<tr>\n",
       "  <th>No. Observations:</th>      <td>369856</td>      <th>  AIC:               </th>  <td>6.701e+05</td> \n",
       "</tr>\n",
       "<tr>\n",
       "  <th>Df Residuals:</th>          <td>369846</td>      <th>  BIC:               </th>  <td>6.702e+05</td> \n",
       "</tr>\n",
       "<tr>\n",
       "  <th>Df Model:</th>              <td>     9</td>      <th>                     </th>      <td> </td>     \n",
       "</tr>\n",
       "<tr>\n",
       "  <th>Covariance Type:</th>      <td>nonrobust</td>    <th>                     </th>      <td> </td>     \n",
       "</tr>\n",
       "</table>\n",
       "<table class=\"simpletable\">\n",
       "<tr>\n",
       "           <td></td>             <th>coef</th>     <th>std err</th>      <th>t</th>      <th>P>|t|</th>  <th>[0.025</th>    <th>0.975]</th>  \n",
       "</tr>\n",
       "<tr>\n",
       "  <th>AC5</th>                <td> 1.045e-07</td> <td> 6.12e-08</td> <td>    1.706</td> <td> 0.088</td> <td>-1.56e-08</td> <td> 2.25e-07</td>\n",
       "</tr>\n",
       "<tr>\n",
       "  <th>AC4</th>                <td> -7.96e-06</td> <td> 4.89e-06</td> <td>   -1.627</td> <td> 0.104</td> <td>-1.76e-05</td> <td> 1.63e-06</td>\n",
       "</tr>\n",
       "<tr>\n",
       "  <th>AC3</th>                <td>    0.0002</td> <td>    0.000</td> <td>    1.443</td> <td> 0.149</td> <td>-7.56e-05</td> <td>    0.000</td>\n",
       "</tr>\n",
       "<tr>\n",
       "  <th>AC2</th>                <td>   -0.0023</td> <td>    0.002</td> <td>   -1.146</td> <td> 0.252</td> <td>   -0.006</td> <td>    0.002</td>\n",
       "</tr>\n",
       "<tr>\n",
       "  <th>Amenity_Count</th>      <td>    0.0156</td> <td>    0.013</td> <td>    1.219</td> <td> 0.223</td> <td>   -0.009</td> <td>    0.041</td>\n",
       "</tr>\n",
       "<tr>\n",
       "  <th>Accommodates</th>       <td>    0.1296</td> <td>    0.001</td> <td>  171.575</td> <td> 0.000</td> <td>    0.128</td> <td>    0.131</td>\n",
       "</tr>\n",
       "<tr>\n",
       "  <th>Bedrooms</th>           <td>    0.2111</td> <td>    0.002</td> <td>  115.916</td> <td> 0.000</td> <td>    0.208</td> <td>    0.215</td>\n",
       "</tr>\n",
       "<tr>\n",
       "  <th>Bathrooms</th>          <td>    0.2062</td> <td>    0.002</td> <td>   92.427</td> <td> 0.000</td> <td>    0.202</td> <td>    0.211</td>\n",
       "</tr>\n",
       "<tr>\n",
       "  <th>Host Is Superhost2</th> <td>   -0.0084</td> <td>    0.003</td> <td>   -2.976</td> <td> 0.003</td> <td>   -0.014</td> <td>   -0.003</td>\n",
       "</tr>\n",
       "<tr>\n",
       "  <th>Const</th>              <td>   -0.0739</td> <td>    0.030</td> <td>   -2.471</td> <td> 0.013</td> <td>   -0.132</td> <td>   -0.015</td>\n",
       "</tr>\n",
       "</table>\n",
       "<table class=\"simpletable\">\n",
       "<tr>\n",
       "  <th>Omnibus:</th>       <td>252560.172</td> <th>  Durbin-Watson:     </th>  <td>   1.638</td>  \n",
       "</tr>\n",
       "<tr>\n",
       "  <th>Prob(Omnibus):</th>   <td> 0.000</td>   <th>  Jarque-Bera (JB):  </th> <td>9923017.625</td>\n",
       "</tr>\n",
       "<tr>\n",
       "  <th>Skew:</th>            <td> 2.788</td>   <th>  Prob(JB):          </th>  <td>    0.00</td>  \n",
       "</tr>\n",
       "<tr>\n",
       "  <th>Kurtosis:</th>        <td>27.755</td>   <th>  Cond. No.          </th>  <td>1.38e+08</td>  \n",
       "</tr>\n",
       "</table><br/><br/>Warnings:<br/>[1] Standard Errors assume that the covariance matrix of the errors is correctly specified.<br/>[2] The condition number is large, 1.38e+08. This might indicate that there are<br/>strong multicollinearity or other numerical problems."
      ],
      "text/plain": [
       "<class 'statsmodels.iolib.summary.Summary'>\n",
       "\"\"\"\n",
       "                            OLS Regression Results                            \n",
       "==============================================================================\n",
       "Dep. Variable:             Normalized   R-squared:                       0.405\n",
       "Model:                            OLS   Adj. R-squared:                  0.405\n",
       "Method:                 Least Squares   F-statistic:                 2.792e+04\n",
       "Date:                Thu, 30 Apr 2020   Prob (F-statistic):               0.00\n",
       "Time:                        14:24:06   Log-Likelihood:            -3.3505e+05\n",
       "No. Observations:              369856   AIC:                         6.701e+05\n",
       "Df Residuals:                  369846   BIC:                         6.702e+05\n",
       "Df Model:                           9                                         \n",
       "Covariance Type:            nonrobust                                         \n",
       "======================================================================================\n",
       "                         coef    std err          t      P>|t|      [0.025      0.975]\n",
       "--------------------------------------------------------------------------------------\n",
       "AC5                 1.045e-07   6.12e-08      1.706      0.088   -1.56e-08    2.25e-07\n",
       "AC4                 -7.96e-06   4.89e-06     -1.627      0.104   -1.76e-05    1.63e-06\n",
       "AC3                    0.0002      0.000      1.443      0.149   -7.56e-05       0.000\n",
       "AC2                   -0.0023      0.002     -1.146      0.252      -0.006       0.002\n",
       "Amenity_Count          0.0156      0.013      1.219      0.223      -0.009       0.041\n",
       "Accommodates           0.1296      0.001    171.575      0.000       0.128       0.131\n",
       "Bedrooms               0.2111      0.002    115.916      0.000       0.208       0.215\n",
       "Bathrooms              0.2062      0.002     92.427      0.000       0.202       0.211\n",
       "Host Is Superhost2    -0.0084      0.003     -2.976      0.003      -0.014      -0.003\n",
       "Const                 -0.0739      0.030     -2.471      0.013      -0.132      -0.015\n",
       "==============================================================================\n",
       "Omnibus:                   252560.172   Durbin-Watson:                   1.638\n",
       "Prob(Omnibus):                  0.000   Jarque-Bera (JB):          9923017.625\n",
       "Skew:                           2.788   Prob(JB):                         0.00\n",
       "Kurtosis:                      27.755   Cond. No.                     1.38e+08\n",
       "==============================================================================\n",
       "\n",
       "Warnings:\n",
       "[1] Standard Errors assume that the covariance matrix of the errors is correctly specified.\n",
       "[2] The condition number is large, 1.38e+08. This might indicate that there are\n",
       "strong multicollinearity or other numerical problems.\n",
       "\"\"\""
      ]
     },
     "execution_count": 19,
     "metadata": {},
     "output_type": "execute_result"
    }
   ],
   "source": [
    "X = df_m[[\"AC5\", \"AC4\", \"AC3\", \"AC2\", \"Amenity_Count\", \"Accommodates\", \"Bedrooms\", \"Bathrooms\", \"Host Is Superhost2\", \"Const\"]]\n",
    "y = df_m[\"Normalized\"]\n",
    "\n",
    "model = sm.OLS(y, X).fit()\n",
    "result = model.predict(X)\n",
    "\n",
    "model.summary()"
   ]
  },
  {
   "cell_type": "markdown",
   "metadata": {},
   "source": [
    "### This change had no affect on the R value. The last values we will test will be minimum and maximum nights.\n",
    "\n",
    "### Model 5: Min/Max nights"
   ]
  },
  {
   "cell_type": "code",
   "execution_count": 20,
   "metadata": {},
   "outputs": [
    {
     "data": {
      "text/html": [
       "<table class=\"simpletable\">\n",
       "<caption>OLS Regression Results</caption>\n",
       "<tr>\n",
       "  <th>Dep. Variable:</th>       <td>Normalized</td>    <th>  R-squared:         </th>  <td>   0.405</td>  \n",
       "</tr>\n",
       "<tr>\n",
       "  <th>Model:</th>                   <td>OLS</td>       <th>  Adj. R-squared:    </th>  <td>   0.405</td>  \n",
       "</tr>\n",
       "<tr>\n",
       "  <th>Method:</th>             <td>Least Squares</td>  <th>  F-statistic:       </th>  <td>2.513e+04</td> \n",
       "</tr>\n",
       "<tr>\n",
       "  <th>Date:</th>             <td>Thu, 30 Apr 2020</td> <th>  Prob (F-statistic):</th>   <td>  0.00</td>   \n",
       "</tr>\n",
       "<tr>\n",
       "  <th>Time:</th>                 <td>14:24:07</td>     <th>  Log-Likelihood:    </th> <td>-3.3505e+05</td>\n",
       "</tr>\n",
       "<tr>\n",
       "  <th>No. Observations:</th>      <td>369856</td>      <th>  AIC:               </th>  <td>6.701e+05</td> \n",
       "</tr>\n",
       "<tr>\n",
       "  <th>Df Residuals:</th>          <td>369845</td>      <th>  BIC:               </th>  <td>6.702e+05</td> \n",
       "</tr>\n",
       "<tr>\n",
       "  <th>Df Model:</th>              <td>    10</td>      <th>                     </th>      <td> </td>     \n",
       "</tr>\n",
       "<tr>\n",
       "  <th>Covariance Type:</th>      <td>nonrobust</td>    <th>                     </th>      <td> </td>     \n",
       "</tr>\n",
       "</table>\n",
       "<table class=\"simpletable\">\n",
       "<tr>\n",
       "         <td></td>           <th>coef</th>     <th>std err</th>      <th>t</th>      <th>P>|t|</th>  <th>[0.025</th>    <th>0.975]</th>  \n",
       "</tr>\n",
       "<tr>\n",
       "  <th>AC5</th>            <td> 1.056e-07</td> <td> 6.12e-08</td> <td>    1.724</td> <td> 0.085</td> <td>-1.44e-08</td> <td> 2.26e-07</td>\n",
       "</tr>\n",
       "<tr>\n",
       "  <th>AC4</th>            <td>-8.022e-06</td> <td> 4.89e-06</td> <td>   -1.639</td> <td> 0.101</td> <td>-1.76e-05</td> <td> 1.57e-06</td>\n",
       "</tr>\n",
       "<tr>\n",
       "  <th>AC3</th>            <td>    0.0002</td> <td>    0.000</td> <td>    1.452</td> <td> 0.147</td> <td>-7.43e-05</td> <td>    0.000</td>\n",
       "</tr>\n",
       "<tr>\n",
       "  <th>AC2</th>            <td>   -0.0023</td> <td>    0.002</td> <td>   -1.154</td> <td> 0.248</td> <td>   -0.006</td> <td>    0.002</td>\n",
       "</tr>\n",
       "<tr>\n",
       "  <th>Amenity_Count</th>  <td>    0.0157</td> <td>    0.013</td> <td>    1.228</td> <td> 0.220</td> <td>   -0.009</td> <td>    0.041</td>\n",
       "</tr>\n",
       "<tr>\n",
       "  <th>Accommodates</th>   <td>    0.1296</td> <td>    0.001</td> <td>  171.635</td> <td> 0.000</td> <td>    0.128</td> <td>    0.131</td>\n",
       "</tr>\n",
       "<tr>\n",
       "  <th>Bedrooms</th>       <td>    0.2111</td> <td>    0.002</td> <td>  115.944</td> <td> 0.000</td> <td>    0.208</td> <td>    0.215</td>\n",
       "</tr>\n",
       "<tr>\n",
       "  <th>Bathrooms</th>      <td>    0.2062</td> <td>    0.002</td> <td>   92.443</td> <td> 0.000</td> <td>    0.202</td> <td>    0.211</td>\n",
       "</tr>\n",
       "<tr>\n",
       "  <th>Maximum nights</th> <td>-7.314e-11</td> <td> 4.48e-11</td> <td>   -1.633</td> <td> 0.102</td> <td>-1.61e-10</td> <td> 1.46e-11</td>\n",
       "</tr>\n",
       "<tr>\n",
       "  <th>Minimum nights</th> <td> 3.121e-05</td> <td> 9.53e-06</td> <td>    3.275</td> <td> 0.001</td> <td> 1.25e-05</td> <td> 4.99e-05</td>\n",
       "</tr>\n",
       "<tr>\n",
       "  <th>Const</th>          <td>   -0.0748</td> <td>    0.030</td> <td>   -2.500</td> <td> 0.012</td> <td>   -0.133</td> <td>   -0.016</td>\n",
       "</tr>\n",
       "</table>\n",
       "<table class=\"simpletable\">\n",
       "<tr>\n",
       "  <th>Omnibus:</th>       <td>252589.682</td> <th>  Durbin-Watson:     </th>  <td>   1.638</td>  \n",
       "</tr>\n",
       "<tr>\n",
       "  <th>Prob(Omnibus):</th>   <td> 0.000</td>   <th>  Jarque-Bera (JB):  </th> <td>9923489.574</td>\n",
       "</tr>\n",
       "<tr>\n",
       "  <th>Skew:</th>            <td> 2.789</td>   <th>  Prob(JB):          </th>  <td>    0.00</td>  \n",
       "</tr>\n",
       "<tr>\n",
       "  <th>Kurtosis:</th>        <td>27.755</td>   <th>  Cond. No.          </th>  <td>7.23e+08</td>  \n",
       "</tr>\n",
       "</table><br/><br/>Warnings:<br/>[1] Standard Errors assume that the covariance matrix of the errors is correctly specified.<br/>[2] The condition number is large, 7.23e+08. This might indicate that there are<br/>strong multicollinearity or other numerical problems."
      ],
      "text/plain": [
       "<class 'statsmodels.iolib.summary.Summary'>\n",
       "\"\"\"\n",
       "                            OLS Regression Results                            \n",
       "==============================================================================\n",
       "Dep. Variable:             Normalized   R-squared:                       0.405\n",
       "Model:                            OLS   Adj. R-squared:                  0.405\n",
       "Method:                 Least Squares   F-statistic:                 2.513e+04\n",
       "Date:                Thu, 30 Apr 2020   Prob (F-statistic):               0.00\n",
       "Time:                        14:24:07   Log-Likelihood:            -3.3505e+05\n",
       "No. Observations:              369856   AIC:                         6.701e+05\n",
       "Df Residuals:                  369845   BIC:                         6.702e+05\n",
       "Df Model:                          10                                         \n",
       "Covariance Type:            nonrobust                                         \n",
       "==================================================================================\n",
       "                     coef    std err          t      P>|t|      [0.025      0.975]\n",
       "----------------------------------------------------------------------------------\n",
       "AC5             1.056e-07   6.12e-08      1.724      0.085   -1.44e-08    2.26e-07\n",
       "AC4            -8.022e-06   4.89e-06     -1.639      0.101   -1.76e-05    1.57e-06\n",
       "AC3                0.0002      0.000      1.452      0.147   -7.43e-05       0.000\n",
       "AC2               -0.0023      0.002     -1.154      0.248      -0.006       0.002\n",
       "Amenity_Count      0.0157      0.013      1.228      0.220      -0.009       0.041\n",
       "Accommodates       0.1296      0.001    171.635      0.000       0.128       0.131\n",
       "Bedrooms           0.2111      0.002    115.944      0.000       0.208       0.215\n",
       "Bathrooms          0.2062      0.002     92.443      0.000       0.202       0.211\n",
       "Maximum nights -7.314e-11   4.48e-11     -1.633      0.102   -1.61e-10    1.46e-11\n",
       "Minimum nights  3.121e-05   9.53e-06      3.275      0.001    1.25e-05    4.99e-05\n",
       "Const             -0.0748      0.030     -2.500      0.012      -0.133      -0.016\n",
       "==============================================================================\n",
       "Omnibus:                   252589.682   Durbin-Watson:                   1.638\n",
       "Prob(Omnibus):                  0.000   Jarque-Bera (JB):          9923489.574\n",
       "Skew:                           2.789   Prob(JB):                         0.00\n",
       "Kurtosis:                      27.755   Cond. No.                     7.23e+08\n",
       "==============================================================================\n",
       "\n",
       "Warnings:\n",
       "[1] Standard Errors assume that the covariance matrix of the errors is correctly specified.\n",
       "[2] The condition number is large, 7.23e+08. This might indicate that there are\n",
       "strong multicollinearity or other numerical problems.\n",
       "\"\"\""
      ]
     },
     "execution_count": 20,
     "metadata": {},
     "output_type": "execute_result"
    }
   ],
   "source": [
    "X = df_m[[\"AC5\", \"AC4\", \"AC3\", \"AC2\", \"Amenity_Count\", \"Accommodates\", \"Bedrooms\", \"Bathrooms\", \"Maximum nights\", \"Minimum nights\",\"Const\"]]\n",
    "y = df_m[\"Normalized\"]\n",
    "\n",
    "model = sm.OLS(y, X).fit()\n",
    "result = model.predict(X)\n",
    "\n",
    "model.summary()"
   ]
  },
  {
   "cell_type": "markdown",
   "metadata": {},
   "source": [
    "### These values had no affect on the R score. We will choose Model 3 to be our best representative model, even though it can only explain 41.3% of the variance between amenity count and price.\n",
    "\n",
    "visualization of model 3"
   ]
  },
  {
   "cell_type": "code",
   "execution_count": 21,
   "metadata": {},
   "outputs": [],
   "source": [
    "X = df_m[[\"AC5\", \"AC4\", \"AC3\", \"AC2\", \"Amenity_Count\", \"Accommodates\", \"Bedrooms\", \"Bathrooms\", \"Reviews per month\", \"Const\"]]\n",
    "y = df_m[\"Normalized\"]\n",
    "\n",
    "model = sm.OLS(y, X).fit()\n",
    "result = model.predict(X)\n",
    "df_m[\"Model_3\"] = result\n"
   ]
  },
  {
   "cell_type": "code",
   "execution_count": 22,
   "metadata": {},
   "outputs": [
    {
     "name": "stderr",
     "output_type": "stream",
     "text": [
      "No handles with labels found to put in legend.\n"
     ]
    },
    {
     "data": {
      "image/png": "[encoded data removed]",
      "text/plain": [
       "<Figure size 864x576 with 1 Axes>"
      ]
     },
     "metadata": {},
     "output_type": "display_data"
    }
   ],
   "source": [
    "fig, ax = plt.subplots(figsize=(12,8))\n",
    "sns.barplot(data=df_m,\n",
    "                 x=\"Amenity_Count\",\n",
    "                 y=\"Normalized\")\n",
    "sns.lineplot(data=df_m,\n",
    "            x=\"Amenity_Count\", \n",
    "            y=\"Model_3\");\n",
    "plt.legend();\n",
    "ax.set_title(\"Amenities vs Price Regression\");\n",
    "ax.set(xlabel=\"Number of Amenities\", ylabel=\"Normalized Price\");\n"
   ]
  },
  {
   "cell_type": "code",
   "execution_count": 23,
   "metadata": {},
   "outputs": [],
   "source": [
    "# df_m.to_pickle(\"../../Datasets/Data_viz_project/airbnb_listings_final_predictive\")"
   ]
  }
 ],
 "metadata": {
  "kernelspec": {
   "display_name": "Python 3",
   "language": "python",
   "name": "python3"
  },
  "language_info": {
   "codemirror_mode": {
    "name": "ipython",
    "version": 3
   },
   "file_extension": ".py",
   "mimetype": "text/x-python",
   "name": "python",
   "nbconvert_exporter": "python",
   "pygments_lexer": "ipython3",
   "version": "3.7.6"
  }
 },
 "nbformat": 4,
 "nbformat_minor": 4
}
