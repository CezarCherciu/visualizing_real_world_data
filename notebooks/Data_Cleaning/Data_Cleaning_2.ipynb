{
 "cells": [
  {
   "cell_type": "code",
   "execution_count": 1,
   "metadata": {},
   "outputs": [],
   "source": [
    "import pandas as pd"
   ]
  },
  {
   "cell_type": "markdown",
   "metadata": {},
   "source": [
    "## Data Cleaning Step 2\n",
    "#### Goals for this step\n",
    "- Remove rows without amenities or without review score\n",
    "- Break down the amenities into list\n",
    "- Add a column with the total number of amenities"
   ]
  },
  {
   "cell_type": "code",
   "execution_count": 2,
   "metadata": {},
   "outputs": [
    {
     "name": "stderr",
     "output_type": "stream",
     "text": [
      "/Users/emilyhorton/opt/anaconda3/envs/backpack_banana/lib/python3.7/site-packages/IPython/core/interactiveshell.py:3063: DtypeWarning: Columns (5,27) have mixed types.Specify dtype option on import or set low_memory=False.\n",
      "  interactivity=interactivity, compiler=compiler, result=result)\n"
     ]
    }
   ],
   "source": [
    "df = pd.read_csv(\"../../Datasets/Data_viz_project/airbnb_listings_with_rating.csv\")"
   ]
  },
  {
   "cell_type": "code",
   "execution_count": 3,
   "metadata": {},
   "outputs": [
    {
     "data": {
      "text/plain": [
       "Index(['Listing ID', 'Name', 'Host ID', 'Host Name', 'Host Response Rate',\n",
       "       'Host Is Superhost', 'Host total listings count', 'Street', 'City',\n",
       "       'Neighbourhood cleansed', 'State', 'Country', 'latitude', 'longitude',\n",
       "       'Property type', 'Room type', 'Accommodates', 'Bathrooms', 'Bedrooms',\n",
       "       'Amenities', 'Price', 'Minimum nights', 'Maximum nights',\n",
       "       'Availability 365', 'Calendar last scraped', 'Number of reviews',\n",
       "       'Last Review Date', 'Review Scores Rating', 'Review Scores Accuracy',\n",
       "       'Review Scores Cleanliness', 'Review Scores Checkin',\n",
       "       'Review Scores Communication', 'Review Scores Location',\n",
       "       'Review Scores Value', 'Reviews per month'],\n",
       "      dtype='object')"
      ]
     },
     "execution_count": 3,
     "metadata": {},
     "output_type": "execute_result"
    }
   ],
   "source": [
    "df.columns"
   ]
  },
  {
   "cell_type": "code",
   "execution_count": 4,
   "metadata": {},
   "outputs": [
    {
     "data": {
      "text/plain": [
       "(410046, 35)"
      ]
     },
     "execution_count": 4,
     "metadata": {},
     "output_type": "execute_result"
    }
   ],
   "source": [
    "df.shape"
   ]
  },
  {
   "cell_type": "markdown",
   "metadata": {},
   "source": [
    "### Removing rows where amenities is na"
   ]
  },
  {
   "cell_type": "code",
   "execution_count": 5,
   "metadata": {},
   "outputs": [],
   "source": [
    "df = df.loc[df[\"Amenities\"].notna()]"
   ]
  },
  {
   "cell_type": "code",
   "execution_count": 6,
   "metadata": {},
   "outputs": [
    {
     "data": {
      "text/plain": [
       "(407943, 35)"
      ]
     },
     "execution_count": 6,
     "metadata": {},
     "output_type": "execute_result"
    }
   ],
   "source": [
    "df.shape"
   ]
  },
  {
   "cell_type": "markdown",
   "metadata": {},
   "source": [
    "### Removing rows where Review Scores Value is na"
   ]
  },
  {
   "cell_type": "code",
   "execution_count": 7,
   "metadata": {},
   "outputs": [],
   "source": [
    "df = df.loc[df[\"Review Scores Value\"].notna()]"
   ]
  },
  {
   "cell_type": "code",
   "execution_count": 8,
   "metadata": {},
   "outputs": [
    {
     "data": {
      "text/plain": [
       "(401816, 35)"
      ]
     },
     "execution_count": 8,
     "metadata": {},
     "output_type": "execute_result"
    }
   ],
   "source": [
    "df.shape"
   ]
  },
  {
   "cell_type": "markdown",
   "metadata": {},
   "source": [
    "### Breaking down the amenities into list"
   ]
  },
  {
   "cell_type": "code",
   "execution_count": 9,
   "metadata": {},
   "outputs": [],
   "source": [
    "df = df.assign(Amenities_List=df[\"Amenities\"].str.split(\";\"))"
   ]
  },
  {
   "cell_type": "code",
   "execution_count": 11,
   "metadata": {},
   "outputs": [
    {
     "data": {
      "text/plain": [
       "list"
      ]
     },
     "execution_count": 11,
     "metadata": {},
     "output_type": "execute_result"
    }
   ],
   "source": [
    "type(df[\"Amenities_List\"][1])"
   ]
  },
  {
   "cell_type": "code",
   "execution_count": 12,
   "metadata": {},
   "outputs": [
    {
     "data": {
      "text/plain": [
       "0     [TV, Internet, Wireless Internet, Air conditio...\n",
       "1     [Internet, Wireless Internet, Kitchen, Buzzer/...\n",
       "2     [TV, Wireless Internet, Kitchen, Buzzer/wirele...\n",
       "3     [TV, Cable TV, Internet, Wireless Internet, Wh...\n",
       "4     [Internet, Wireless Internet, Kitchen, Heating...\n",
       "5     [TV, Internet, Wireless Internet, Kitchen, Pet...\n",
       "6     [TV, Internet, Wireless Internet, Kitchen, Fre...\n",
       "7     [Internet, Wireless Internet, Kitchen, Free pa...\n",
       "8     [TV, Internet, Wireless Internet, Kitchen, Hea...\n",
       "9     [TV, Internet, Wireless Internet, Wheelchair a...\n",
       "10    [TV, Internet, Wireless Internet, Kitchen, Ele...\n",
       "11    [TV, Cable TV, Internet, Wireless Internet, Ki...\n",
       "12    [TV, Cable TV, Internet, Wireless Internet, Ki...\n",
       "13    [TV, Internet, Wireless Internet, Kitchen, Smo...\n",
       "14    [TV, Internet, Wireless Internet, Air Conditio...\n",
       "15    [Internet, Wireless Internet, Kitchen, Free pa...\n",
       "16    [TV, Internet, Wireless Internet, Air Conditio...\n",
       "17    [TV, Internet, Wireless Internet, Air Conditio...\n",
       "18    [TV, Internet, Air Conditioning, Wheelchair Ac...\n",
       "19    [TV, Wireless Internet, Air Conditioning, Kitc...\n",
       "Name: Amenities_List, dtype: object"
      ]
     },
     "execution_count": 12,
     "metadata": {},
     "output_type": "execute_result"
    }
   ],
   "source": [
    "df[\"Amenities_List\"].head(20)"
   ]
  },
  {
   "cell_type": "markdown",
   "metadata": {},
   "source": [
    "### Add a column with the amenity count for each row"
   ]
  },
  {
   "cell_type": "code",
   "execution_count": 13,
   "metadata": {},
   "outputs": [],
   "source": [
    "df = df.assign(Amenity_Count=df[\"Amenities_List\"].str.len())"
   ]
  },
  {
   "cell_type": "code",
   "execution_count": 14,
   "metadata": {},
   "outputs": [
    {
     "data": {
      "text/html": [
       "<div>\n",
       "<style scoped>\n",
       "    .dataframe tbody tr th:only-of-type {\n",
       "        vertical-align: middle;\n",
       "    }\n",
       "\n",
       "    .dataframe tbody tr th {\n",
       "        vertical-align: top;\n",
       "    }\n",
       "\n",
       "    .dataframe thead th {\n",
       "        text-align: right;\n",
       "    }\n",
       "</style>\n",
       "<table border=\"1\" class=\"dataframe\">\n",
       "  <thead>\n",
       "    <tr style=\"text-align: right;\">\n",
       "      <th></th>\n",
       "      <th>Listing ID</th>\n",
       "      <th>Name</th>\n",
       "      <th>Host ID</th>\n",
       "      <th>Host Name</th>\n",
       "      <th>Host Response Rate</th>\n",
       "      <th>Host Is Superhost</th>\n",
       "      <th>Host total listings count</th>\n",
       "      <th>Street</th>\n",
       "      <th>City</th>\n",
       "      <th>Neighbourhood cleansed</th>\n",
       "      <th>...</th>\n",
       "      <th>Review Scores Rating</th>\n",
       "      <th>Review Scores Accuracy</th>\n",
       "      <th>Review Scores Cleanliness</th>\n",
       "      <th>Review Scores Checkin</th>\n",
       "      <th>Review Scores Communication</th>\n",
       "      <th>Review Scores Location</th>\n",
       "      <th>Review Scores Value</th>\n",
       "      <th>Reviews per month</th>\n",
       "      <th>Amenities_List</th>\n",
       "      <th>Amenity_Count</th>\n",
       "    </tr>\n",
       "  </thead>\n",
       "  <tbody>\n",
       "    <tr>\n",
       "      <th>0</th>\n",
       "      <td>5534229</td>\n",
       "      <td>A 2 Passi da San Pietro</td>\n",
       "      <td>28697142</td>\n",
       "      <td>Veronica</td>\n",
       "      <td>100%</td>\n",
       "      <td>False</td>\n",
       "      <td>5.0</td>\n",
       "      <td>00165| Rm 00165| Italy</td>\n",
       "      <td>165</td>\n",
       "      <td>XIII Aurelia</td>\n",
       "      <td>...</td>\n",
       "      <td>90</td>\n",
       "      <td>9.0</td>\n",
       "      <td>10.0</td>\n",
       "      <td>8.0</td>\n",
       "      <td>8.0</td>\n",
       "      <td>9.0</td>\n",
       "      <td>9.0</td>\n",
       "      <td>0.08</td>\n",
       "      <td>[TV, Internet, Wireless Internet, Air conditio...</td>\n",
       "      <td>11</td>\n",
       "    </tr>\n",
       "    <tr>\n",
       "      <th>1</th>\n",
       "      <td>5903406</td>\n",
       "      <td>cosy small apartment</td>\n",
       "      <td>1853799</td>\n",
       "      <td>Veronika</td>\n",
       "      <td>88%</td>\n",
       "      <td>False</td>\n",
       "      <td>2.0</td>\n",
       "      <td>1190| Wien| Austria</td>\n",
       "      <td>1190</td>\n",
       "      <td>D�bling</td>\n",
       "      <td>...</td>\n",
       "      <td>87</td>\n",
       "      <td>9.0</td>\n",
       "      <td>10.0</td>\n",
       "      <td>10.0</td>\n",
       "      <td>10.0</td>\n",
       "      <td>10.0</td>\n",
       "      <td>8.0</td>\n",
       "      <td>0.27</td>\n",
       "      <td>[Internet, Wireless Internet, Kitchen, Buzzer/...</td>\n",
       "      <td>12</td>\n",
       "    </tr>\n",
       "    <tr>\n",
       "      <th>2</th>\n",
       "      <td>5203533</td>\n",
       "      <td>Rummelig lejl i hjertet af KBH</td>\n",
       "      <td>24801534</td>\n",
       "      <td>Marianne</td>\n",
       "      <td>100%</td>\n",
       "      <td>False</td>\n",
       "      <td>1.0</td>\n",
       "      <td>Indre By| 1366| Danmark K�benhavn K| Denmark</td>\n",
       "      <td>1366</td>\n",
       "      <td>Indre By</td>\n",
       "      <td>...</td>\n",
       "      <td>100</td>\n",
       "      <td>10.0</td>\n",
       "      <td>10.0</td>\n",
       "      <td>10.0</td>\n",
       "      <td>10.0</td>\n",
       "      <td>10.0</td>\n",
       "      <td>10.0</td>\n",
       "      <td>0.28</td>\n",
       "      <td>[TV, Wireless Internet, Kitchen, Buzzer/wirele...</td>\n",
       "      <td>8</td>\n",
       "    </tr>\n",
       "    <tr>\n",
       "      <th>3</th>\n",
       "      <td>8858475</td>\n",
       "      <td>Modern; spacious and warm; with its own balcony</td>\n",
       "      <td>3000397</td>\n",
       "      <td>Lasse</td>\n",
       "      <td>100%</td>\n",
       "      <td>True</td>\n",
       "      <td>1.0</td>\n",
       "      <td>2150| Danmark Nordhavn| Denmark</td>\n",
       "      <td>2150</td>\n",
       "      <td>sterbro</td>\n",
       "      <td>...</td>\n",
       "      <td>100</td>\n",
       "      <td>10.0</td>\n",
       "      <td>10.0</td>\n",
       "      <td>10.0</td>\n",
       "      <td>10.0</td>\n",
       "      <td>9.0</td>\n",
       "      <td>10.0</td>\n",
       "      <td>0.79</td>\n",
       "      <td>[TV, Cable TV, Internet, Wireless Internet, Wh...</td>\n",
       "      <td>23</td>\n",
       "    </tr>\n",
       "    <tr>\n",
       "      <th>4</th>\n",
       "      <td>4215511</td>\n",
       "      <td>Nice room; Bohemian Cph; N�rrebro</td>\n",
       "      <td>126020</td>\n",
       "      <td>Lea</td>\n",
       "      <td>100%</td>\n",
       "      <td>True</td>\n",
       "      <td>2.0</td>\n",
       "      <td>N�rrebro| 2200| K�benhavn N 2200| Denmark</td>\n",
       "      <td>2200</td>\n",
       "      <td>Nrrebro</td>\n",
       "      <td>...</td>\n",
       "      <td>94</td>\n",
       "      <td>10.0</td>\n",
       "      <td>10.0</td>\n",
       "      <td>9.0</td>\n",
       "      <td>10.0</td>\n",
       "      <td>10.0</td>\n",
       "      <td>10.0</td>\n",
       "      <td>1.40</td>\n",
       "      <td>[Internet, Wireless Internet, Kitchen, Heating...</td>\n",
       "      <td>10</td>\n",
       "    </tr>\n",
       "    <tr>\n",
       "      <th>5</th>\n",
       "      <td>7272969</td>\n",
       "      <td>Cozy Apartment close to city center with balcony</td>\n",
       "      <td>28909565</td>\n",
       "      <td>Christian</td>\n",
       "      <td>NaN</td>\n",
       "      <td>False</td>\n",
       "      <td>1.0</td>\n",
       "      <td>Islands Brygge| 2300| K�benhavn K�benhavn S| D...</td>\n",
       "      <td>2300</td>\n",
       "      <td>Amager Vest</td>\n",
       "      <td>...</td>\n",
       "      <td>70</td>\n",
       "      <td>7.0</td>\n",
       "      <td>5.0</td>\n",
       "      <td>10.0</td>\n",
       "      <td>10.0</td>\n",
       "      <td>10.0</td>\n",
       "      <td>7.0</td>\n",
       "      <td>0.18</td>\n",
       "      <td>[TV, Internet, Wireless Internet, Kitchen, Pet...</td>\n",
       "      <td>15</td>\n",
       "    </tr>\n",
       "    <tr>\n",
       "      <th>6</th>\n",
       "      <td>16894030</td>\n",
       "      <td>Super beliggenhed i K�benhavn</td>\n",
       "      <td>112478301</td>\n",
       "      <td>Christina</td>\n",
       "      <td>100%</td>\n",
       "      <td>False</td>\n",
       "      <td>1.0</td>\n",
       "      <td>2300| Denmark 2300| Denmark</td>\n",
       "      <td>2300</td>\n",
       "      <td>Amager Vest</td>\n",
       "      <td>...</td>\n",
       "      <td>94</td>\n",
       "      <td>10.0</td>\n",
       "      <td>10.0</td>\n",
       "      <td>10.0</td>\n",
       "      <td>10.0</td>\n",
       "      <td>9.0</td>\n",
       "      <td>9.0</td>\n",
       "      <td>2.02</td>\n",
       "      <td>[TV, Internet, Wireless Internet, Kitchen, Fre...</td>\n",
       "      <td>12</td>\n",
       "    </tr>\n",
       "    <tr>\n",
       "      <th>7</th>\n",
       "      <td>14045439</td>\n",
       "      <td>Cozy Copenhagen apartment</td>\n",
       "      <td>2683842</td>\n",
       "      <td>Sofie</td>\n",
       "      <td>NaN</td>\n",
       "      <td>False</td>\n",
       "      <td>1.0</td>\n",
       "      <td>2500| K�benhavn Valby| Denmark</td>\n",
       "      <td>2500</td>\n",
       "      <td>Valby</td>\n",
       "      <td>...</td>\n",
       "      <td>100</td>\n",
       "      <td>10.0</td>\n",
       "      <td>10.0</td>\n",
       "      <td>10.0</td>\n",
       "      <td>10.0</td>\n",
       "      <td>10.0</td>\n",
       "      <td>10.0</td>\n",
       "      <td>0.49</td>\n",
       "      <td>[Internet, Wireless Internet, Kitchen, Free pa...</td>\n",
       "      <td>13</td>\n",
       "    </tr>\n",
       "    <tr>\n",
       "      <th>8</th>\n",
       "      <td>13718047</td>\n",
       "      <td>Clean apartment 15 mins from central Copenhagen</td>\n",
       "      <td>30033201</td>\n",
       "      <td>Tobias</td>\n",
       "      <td>NaN</td>\n",
       "      <td>True</td>\n",
       "      <td>1.0</td>\n",
       "      <td>2700| Copenhagen Br�nsh�j| Denmark</td>\n",
       "      <td>2700</td>\n",
       "      <td>Brnshj-Husum</td>\n",
       "      <td>...</td>\n",
       "      <td>97</td>\n",
       "      <td>10.0</td>\n",
       "      <td>10.0</td>\n",
       "      <td>10.0</td>\n",
       "      <td>10.0</td>\n",
       "      <td>9.0</td>\n",
       "      <td>10.0</td>\n",
       "      <td>1.73</td>\n",
       "      <td>[TV, Internet, Wireless Internet, Kitchen, Hea...</td>\n",
       "      <td>15</td>\n",
       "    </tr>\n",
       "    <tr>\n",
       "      <th>9</th>\n",
       "      <td>14386116</td>\n",
       "      <td>2 Rooms Flat with Pool; Seaaccess</td>\n",
       "      <td>70746999</td>\n",
       "      <td>Nina</td>\n",
       "      <td>70%</td>\n",
       "      <td>False</td>\n",
       "      <td>3.0</td>\n",
       "      <td>07560| Sa Coma Mallorca| Spain</td>\n",
       "      <td>7560</td>\n",
       "      <td>Sant Lloren� des Cardassar</td>\n",
       "      <td>...</td>\n",
       "      <td>73</td>\n",
       "      <td>7.0</td>\n",
       "      <td>9.0</td>\n",
       "      <td>7.0</td>\n",
       "      <td>8.0</td>\n",
       "      <td>8.0</td>\n",
       "      <td>8.0</td>\n",
       "      <td>0.43</td>\n",
       "      <td>[TV, Internet, Wireless Internet, Wheelchair a...</td>\n",
       "      <td>16</td>\n",
       "    </tr>\n",
       "  </tbody>\n",
       "</table>\n",
       "<p>10 rows × 37 columns</p>\n",
       "</div>"
      ],
      "text/plain": [
       "   Listing ID                                              Name    Host ID  \\\n",
       "0     5534229                           A 2 Passi da San Pietro   28697142   \n",
       "1     5903406                              cosy small apartment    1853799   \n",
       "2     5203533                    Rummelig lejl i hjertet af KBH   24801534   \n",
       "3     8858475   Modern; spacious and warm; with its own balcony    3000397   \n",
       "4     4215511                 Nice room; Bohemian Cph; N�rrebro     126020   \n",
       "5     7272969  Cozy Apartment close to city center with balcony   28909565   \n",
       "6    16894030                     Super beliggenhed i K�benhavn  112478301   \n",
       "7    14045439                         Cozy Copenhagen apartment    2683842   \n",
       "8    13718047   Clean apartment 15 mins from central Copenhagen   30033201   \n",
       "9    14386116                 2 Rooms Flat with Pool; Seaaccess   70746999   \n",
       "\n",
       "   Host Name Host Response Rate Host Is Superhost  Host total listings count  \\\n",
       "0   Veronica               100%             False                        5.0   \n",
       "1   Veronika                88%             False                        2.0   \n",
       "2   Marianne               100%             False                        1.0   \n",
       "3      Lasse               100%              True                        1.0   \n",
       "4        Lea               100%              True                        2.0   \n",
       "5  Christian                NaN             False                        1.0   \n",
       "6  Christina               100%             False                        1.0   \n",
       "7      Sofie                NaN             False                        1.0   \n",
       "8     Tobias                NaN              True                        1.0   \n",
       "9       Nina                70%             False                        3.0   \n",
       "\n",
       "                                              Street  City  \\\n",
       "0                             00165| Rm 00165| Italy   165   \n",
       "1                                1190| Wien| Austria  1190   \n",
       "2       Indre By| 1366| Danmark K�benhavn K| Denmark  1366   \n",
       "3                    2150| Danmark Nordhavn| Denmark  2150   \n",
       "4          N�rrebro| 2200| K�benhavn N 2200| Denmark  2200   \n",
       "5  Islands Brygge| 2300| K�benhavn K�benhavn S| D...  2300   \n",
       "6                        2300| Denmark 2300| Denmark  2300   \n",
       "7                     2500| K�benhavn Valby| Denmark  2500   \n",
       "8                 2700| Copenhagen Br�nsh�j| Denmark  2700   \n",
       "9                     07560| Sa Coma Mallorca| Spain  7560   \n",
       "\n",
       "       Neighbourhood cleansed  ... Review Scores Rating  \\\n",
       "0                XIII Aurelia  ...                   90   \n",
       "1                     D�bling  ...                   87   \n",
       "2                    Indre By  ...                  100   \n",
       "3                     sterbro  ...                  100   \n",
       "4                     Nrrebro  ...                   94   \n",
       "5                 Amager Vest  ...                   70   \n",
       "6                 Amager Vest  ...                   94   \n",
       "7                       Valby  ...                  100   \n",
       "8                Brnshj-Husum  ...                   97   \n",
       "9  Sant Lloren� des Cardassar  ...                   73   \n",
       "\n",
       "  Review Scores Accuracy  Review Scores Cleanliness  Review Scores Checkin  \\\n",
       "0                    9.0                       10.0                    8.0   \n",
       "1                    9.0                       10.0                   10.0   \n",
       "2                   10.0                       10.0                   10.0   \n",
       "3                   10.0                       10.0                   10.0   \n",
       "4                   10.0                       10.0                    9.0   \n",
       "5                    7.0                        5.0                   10.0   \n",
       "6                   10.0                       10.0                   10.0   \n",
       "7                   10.0                       10.0                   10.0   \n",
       "8                   10.0                       10.0                   10.0   \n",
       "9                    7.0                        9.0                    7.0   \n",
       "\n",
       "  Review Scores Communication Review Scores Location  Review Scores Value  \\\n",
       "0                         8.0                    9.0                  9.0   \n",
       "1                        10.0                   10.0                  8.0   \n",
       "2                        10.0                   10.0                 10.0   \n",
       "3                        10.0                    9.0                 10.0   \n",
       "4                        10.0                   10.0                 10.0   \n",
       "5                        10.0                   10.0                  7.0   \n",
       "6                        10.0                    9.0                  9.0   \n",
       "7                        10.0                   10.0                 10.0   \n",
       "8                        10.0                    9.0                 10.0   \n",
       "9                         8.0                    8.0                  8.0   \n",
       "\n",
       "   Reviews per month                                     Amenities_List  \\\n",
       "0               0.08  [TV, Internet, Wireless Internet, Air conditio...   \n",
       "1               0.27  [Internet, Wireless Internet, Kitchen, Buzzer/...   \n",
       "2               0.28  [TV, Wireless Internet, Kitchen, Buzzer/wirele...   \n",
       "3               0.79  [TV, Cable TV, Internet, Wireless Internet, Wh...   \n",
       "4               1.40  [Internet, Wireless Internet, Kitchen, Heating...   \n",
       "5               0.18  [TV, Internet, Wireless Internet, Kitchen, Pet...   \n",
       "6               2.02  [TV, Internet, Wireless Internet, Kitchen, Fre...   \n",
       "7               0.49  [Internet, Wireless Internet, Kitchen, Free pa...   \n",
       "8               1.73  [TV, Internet, Wireless Internet, Kitchen, Hea...   \n",
       "9               0.43  [TV, Internet, Wireless Internet, Wheelchair a...   \n",
       "\n",
       "  Amenity_Count  \n",
       "0            11  \n",
       "1            12  \n",
       "2             8  \n",
       "3            23  \n",
       "4            10  \n",
       "5            15  \n",
       "6            12  \n",
       "7            13  \n",
       "8            15  \n",
       "9            16  \n",
       "\n",
       "[10 rows x 37 columns]"
      ]
     },
     "execution_count": 14,
     "metadata": {},
     "output_type": "execute_result"
    }
   ],
   "source": [
    "df.head(10)"
   ]
  },
  {
   "cell_type": "code",
   "execution_count": 15,
   "metadata": {},
   "outputs": [],
   "source": [
    "df.to_csv(\"../../Datasets/Data_viz_project/airbnb_listings_amenity_count.csv\")"
   ]
  }
 ],
 "metadata": {
  "kernelspec": {
   "display_name": "Python 3",
   "language": "python",
   "name": "python3"
  },
  "language_info": {
   "codemirror_mode": {
    "name": "ipython",
    "version": 3
   },
   "file_extension": ".py",
   "mimetype": "text/x-python",
   "name": "python",
   "nbconvert_exporter": "python",
   "pygments_lexer": "ipython3",
   "version": "3.7.6"
  }
 },
 "nbformat": 4,
 "nbformat_minor": 4
}
